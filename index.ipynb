{
  "cells": [
    {
      "cell_type": "code",
      "source": [
        "! pip install torchinfo\n",
        "from torchinfo import summary"
      ],
      "metadata": {
        "colab": {
          "base_uri": "https://localhost:8080/"
        },
        "id": "VFvriK2x0E3v",
        "outputId": "8c13190c-4312-443b-d945-599349d6c23d"
      },
      "execution_count": 155,
      "outputs": [
        {
          "output_type": "stream",
          "name": "stdout",
          "text": [
            "Requirement already satisfied: torchinfo in /usr/local/lib/python3.12/dist-packages (1.8.0)\n"
          ]
        }
      ]
    },
    {
      "cell_type": "markdown",
      "metadata": {
        "id": "1OLJd-5ebXwZ"
      },
      "source": [
        "# Attention Head\n",
        "* so in transformer we do use multiplicative attention ,there are two type of attention one is additive and other is scale dot attention\n",
        "* so in research paper  \"attention all u need\" they hav incorported multiplicative attention\n",
        "* i assume it just involves addition rather than the multiplication to calculate the score\n",
        "\n",
        "dimension of data (directly proportional to) variance\n",
        "\n",
        "hence the scailing down is down by (dimension of model)**(1/2)\n"
      ]
    },
    {
      "cell_type": "code",
      "source": [
        "from google.colab import drive\n",
        "drive.mount('/content/drive')"
      ],
      "metadata": {
        "colab": {
          "base_uri": "https://localhost:8080/"
        },
        "id": "tdPT6tvFuAD6",
        "outputId": "3132c1d9-8d5a-451d-e22d-93e236bc18f9"
      },
      "execution_count": 156,
      "outputs": [
        {
          "output_type": "stream",
          "name": "stdout",
          "text": [
            "Drive already mounted at /content/drive; to attempt to forcibly remount, call drive.mount(\"/content/drive\", force_remount=True).\n"
          ]
        }
      ]
    },
    {
      "cell_type": "code",
      "execution_count": 157,
      "metadata": {
        "vscode": {
          "languageId": "plaintext"
        },
        "id": "CzU2wqPxbXwe"
      },
      "outputs": [],
      "source": [
        "import torch\n",
        "import numpy as np"
      ]
    },
    {
      "cell_type": "code",
      "source": [
        "\n",
        "device = \"cuda\" if torch.cuda.is_available() else \"cpu\""
      ],
      "metadata": {
        "id": "fdWV1SE9BH9e"
      },
      "execution_count": 158,
      "outputs": []
    },
    {
      "cell_type": "code",
      "source": [
        "#utility function look ahead mask\n",
        "def create_look_ahead_mask(seq_len):\n",
        "    mask = torch.triu(torch.ones(seq_len, seq_len), diagonal=1)\n",
        "    mask = mask.masked_fill(mask == 1, float('-inf'))\n",
        "    return mask  # shape: (seq_len, seq_len)\n"
      ],
      "metadata": {
        "id": "8YfQpactRqXQ"
      },
      "execution_count": 159,
      "outputs": []
    },
    {
      "cell_type": "code",
      "source": [
        "create_look_ahead_mask(10)"
      ],
      "metadata": {
        "id": "TosrcSRdcAmO",
        "outputId": "ef75b318-d695-4455-aecf-95d9dee0ad69",
        "colab": {
          "base_uri": "https://localhost:8080/"
        }
      },
      "execution_count": 160,
      "outputs": [
        {
          "output_type": "execute_result",
          "data": {
            "text/plain": [
              "tensor([[0., -inf, -inf, -inf, -inf, -inf, -inf, -inf, -inf, -inf],\n",
              "        [0., 0., -inf, -inf, -inf, -inf, -inf, -inf, -inf, -inf],\n",
              "        [0., 0., 0., -inf, -inf, -inf, -inf, -inf, -inf, -inf],\n",
              "        [0., 0., 0., 0., -inf, -inf, -inf, -inf, -inf, -inf],\n",
              "        [0., 0., 0., 0., 0., -inf, -inf, -inf, -inf, -inf],\n",
              "        [0., 0., 0., 0., 0., 0., -inf, -inf, -inf, -inf],\n",
              "        [0., 0., 0., 0., 0., 0., 0., -inf, -inf, -inf],\n",
              "        [0., 0., 0., 0., 0., 0., 0., 0., -inf, -inf],\n",
              "        [0., 0., 0., 0., 0., 0., 0., 0., 0., -inf],\n",
              "        [0., 0., 0., 0., 0., 0., 0., 0., 0., 0.]])"
            ]
          },
          "metadata": {},
          "execution_count": 160
        }
      ]
    },
    {
      "cell_type": "code",
      "execution_count": 161,
      "metadata": {
        "vscode": {
          "languageId": "plaintext"
        },
        "id": "Nqt4k4TZbXwg"
      },
      "outputs": [],
      "source": [
        "#it has been modified to process the 3d data where the data across the z index correspond to each head\n",
        "\n",
        "def attention_head(queries, keys, values, dropout=None, mask=None):\n",
        "\n",
        "  # Calculate the attention scores\n",
        "  # Scores will have shape (batch_size * sequence_length, batch_size * sequence_length)\n",
        "  d_k = keys.size(-1)\n",
        "  scores = torch.matmul(queries, keys.transpose(-2, -1))\n",
        "  scores = scores / d_k**0.5\n",
        "#now this look ahead mask will be used in the decoder\n",
        "  if mask is not None:\n",
        "# mask should be broadcastable to the shape of the scores tensor\n",
        "# for 3d input, the mask should have shape (num_heads,batch_size * sequence_length, batch_size * sequence_length)\n",
        "    scores=scores+mask\n",
        "  # row mean -1 and -2 means col\n",
        "  scores = scores.softmax(dim=-1) # apply softmax across the row dimension (keys)\n",
        "\n",
        "\n",
        "  # Apply dropout\n",
        "  if dropout is not None:\n",
        "      scores = dropout(scores)\n",
        "\n",
        "  # Apply scores to values\n",
        "  weighted_sum = torch.matmul(scores, values)\n",
        "\n",
        "  return weighted_sum"
      ]
    },
    {
      "cell_type": "markdown",
      "metadata": {
        "id": "QH-ZKMXxbXwh"
      },
      "source": [
        "### we will test our attention head with custom args"
      ]
    },
    {
      "cell_type": "code",
      "execution_count": 162,
      "metadata": {
        "vscode": {
          "languageId": "plaintext"
        },
        "id": "cC7WM8lEbXwi"
      },
      "outputs": [],
      "source": [
        "import torch"
      ]
    },
    {
      "cell_type": "code",
      "execution_count": 163,
      "metadata": {
        "vscode": {
          "languageId": "plaintext"
        },
        "colab": {
          "base_uri": "https://localhost:8080/"
        },
        "id": "_2oq3wzDbXwi",
        "outputId": "693af544-7af8-4b94-d45c-8f11942baa7d"
      },
      "outputs": [
        {
          "output_type": "stream",
          "name": "stdout",
          "text": [
            "tensor([[0., -inf, -inf, -inf, -inf, -inf],\n",
            "        [0., 0., -inf, -inf, -inf, -inf],\n",
            "        [0., 0., 0., -inf, -inf, -inf],\n",
            "        [0., 0., 0., 0., -inf, -inf],\n",
            "        [0., 0., 0., 0., 0., -inf],\n",
            "        [0., 0., 0., 0., 0., 0.]])\n",
            "Sample Keys Shape: torch.Size([6, 2])\n",
            "Sample Queries Shape: torch.Size([6, 2])\n",
            "Sample Values Shape: torch.Size([6, 2])\n",
            "Attention head output shape: tensor([[ 0.0000,  0.0000],\n",
            "        [ 0.1531, -0.3321],\n",
            "        [ 0.0275, -0.5066],\n",
            "        [-0.2021, -0.5648],\n",
            "        [-0.0125, -0.3495],\n",
            "        [-0.1132, -0.3625]], grad_fn=<MmBackward0>)\n"
          ]
        }
      ],
      "source": [
        "# Define input dimensions\n",
        "batch_size = 2\n",
        "sequence_length = 3\n",
        "embedding_dim = 4\n",
        "num_heads = 2\n",
        "head_dim = embedding_dim // num_heads\n",
        "\n",
        "# Create sample input tensors with compatible shapes\n",
        "# Embeddings are now 2D: (batch_size * sequence_length, embedding_dim)\n",
        "sample_embeddings = torch.randn(batch_size * sequence_length, embedding_dim)\n",
        "\n",
        "# Create dummy linear layers that output the expected shape for attention_head\n",
        "# The linear layers now expect an input shape of (batch_size * sequence_length, embedding_dim)\n",
        "# and output a shape of (batch_size * sequence_length, head_dim)\n",
        "dummy_key_linear = torch.nn.Linear(embedding_dim, head_dim)\n",
        "dummy_query_linear = torch.nn.Linear(embedding_dim, head_dim)\n",
        "dummy_value_linear = torch.nn.Linear(embedding_dim, head_dim)\n",
        "\n",
        "# Create a dummy dropout layer\n",
        "dummy_dropout = torch.nn.Dropout(0.1)\n",
        "\n",
        "# Create a dummy mask\n",
        "# The mask should have shape (batch_size * sequence_length, batch_size * sequence_length) for 2D input\n",
        "dummy_mask=create_look_ahead_mask(batch_size*sequence_length)\n",
        "print(dummy_mask)\n",
        "\n",
        "# Pass the sample_embeddings through the dummy linear layers to get the keys, queries, and values tensors\n",
        "# These tensors should have shape (batch_size * sequence_length, head_dim)\n",
        "sample_keys = dummy_key_linear(sample_embeddings)\n",
        "sample_queries = dummy_query_linear(sample_embeddings)\n",
        "sample_values = dummy_value_linear(sample_embeddings)\n",
        "\n",
        "print(\"Sample Keys Shape:\", sample_keys.shape)\n",
        "print(\"Sample Queries Shape:\", sample_queries.shape)\n",
        "print(\"Sample Values Shape:\", sample_values.shape)\n",
        "\n",
        "# Test the attention_head function with the compatible inputs\n",
        "\n",
        "  # attention_head now expects 2D inputs for keys, queries, and values\n",
        "attention_output = attention_head(sample_queries, sample_keys, sample_values, dummy_dropout, mask=dummy_mask)\n",
        "print(\"Attention head output shape:\", attention_output)\n"
      ]
    },
    {
      "cell_type": "markdown",
      "metadata": {
        "id": "YNoBdoFJbXwj"
      },
      "source": [
        "# testing for the 3d inputs"
      ]
    },
    {
      "cell_type": "code",
      "execution_count": 164,
      "metadata": {
        "vscode": {
          "languageId": "plaintext"
        },
        "colab": {
          "base_uri": "https://localhost:8080/"
        },
        "id": "YVz2NLMGbXwj",
        "outputId": "3ff2e4fd-a982-40ed-bb0a-ad303e6e92ec"
      },
      "outputs": [
        {
          "output_type": "stream",
          "name": "stdout",
          "text": [
            "torch.Size([12, 3, 3])\n",
            "Sample Keys Shape: torch.Size([12, 3, 2])\n",
            "Sample Queries Shape: torch.Size([12, 3, 2])\n",
            "Sample Values Shape: torch.Size([12, 3, 2])\n",
            "Attention head output shape: torch.Size([12, 3, 2])\n"
          ]
        }
      ],
      "source": [
        "# Define input dimensions\n",
        "batch_size = 12\n",
        "sequence_length = 3\n",
        "embedding_dim = 4\n",
        "num_heads = 2\n",
        "head_dim = embedding_dim // num_heads\n",
        "\n",
        "# Create sample input tensors with compatible shapes\n",
        "# Embeddings are now 2D: (batch_size * sequence_length, embedding_dim)\n",
        "sample_embeddings = torch.randn(batch_size,sequence_length, embedding_dim)\n",
        "\n",
        "# Create dummy linear layers that output the expected shape for attention_head\n",
        "# The linear layers now expect an input shape of (batch_size * sequence_length, embedding_dim)\n",
        "# and output a shape of (batch_size * sequence_length, head_dim)\n",
        "dummy_key_linear = torch.nn.Linear(embedding_dim, head_dim)\n",
        "dummy_query_linear = torch.nn.Linear(embedding_dim, head_dim)\n",
        "dummy_value_linear = torch.nn.Linear(embedding_dim, head_dim)\n",
        "\n",
        "# Create a dummy dropout layer\n",
        "dummy_dropout = torch.nn.Dropout(0.1)\n",
        "\n",
        "# Create a dummy mask\n",
        "# The mask should have shape (batch_size * sequence_length, batch_size * sequence_length) for 2D input\n",
        "dummy_mask = torch.tile(create_look_ahead_mask(sequence_length),(batch_size,1,1)) # Assuming no masking for simplicity\n",
        "print(dummy_mask.shape)\n",
        "# Pass the sample_embeddings through the dummy linear layers to get the keys, queries, and values tensors\n",
        "# These tensors should have shape (batch_size * sequence_length, head_dim)\n",
        "sample_keys = dummy_key_linear(sample_embeddings)\n",
        "sample_queries = dummy_query_linear(sample_embeddings)\n",
        "sample_values = dummy_value_linear(sample_embeddings)\n",
        "\n",
        "print(\"Sample Keys Shape:\", sample_keys.shape)\n",
        "print(\"Sample Queries Shape:\", sample_queries.shape)\n",
        "print(\"Sample Values Shape:\", sample_values.shape)\n",
        "\n",
        "# Test the attention_head function with the compatible inputs\n",
        "\n",
        "  # attention_head now expects 2D inputs for keys, queries, and values\n",
        "attention_output = attention_head(sample_queries, sample_keys, sample_values, dummy_dropout, dummy_mask)\n",
        "print(\"Attention head output shape:\", attention_output.shape)\n"
      ]
    },
    {
      "cell_type": "markdown",
      "metadata": {
        "id": "7SGjTEnfbXwk"
      },
      "source": [
        "# Multi Head Attention\n",
        "#### we create tunable parameters for each head one for query ,key and value"
      ]
    },
    {
      "cell_type": "code",
      "execution_count": 165,
      "metadata": {
        "vscode": {
          "languageId": "plaintext"
        },
        "id": "7hxrPVmSU93i"
      },
      "outputs": [],
      "source": [
        "import torch.nn as nn\n",
        "\n",
        "\n",
        "class MultiHeadAttention(nn.Module):\n",
        "  def __init__(self,heads,d_model,dropout=0.01,mask=None):\n",
        "     super(MultiHeadAttention,self).__init__();\n",
        "     self.heads=heads;\n",
        "     self.d_model=d_model;\n",
        "     self.d_key=d_model//heads;\n",
        "     # Linear layers for query, key, value, and projection\n",
        "     self.query_linears = nn.Linear(d_model, d_model)\n",
        "     self.key_linears   = nn.Linear(d_model, d_model)\n",
        "     self.value_linears = nn.Linear(d_model, d_model)\n",
        "     self.mask=mask\n",
        "     #prjection layer will be used to project the concatenated output of all heads to the end of attention in the multihead attention\n",
        "     self.projection_layer=nn.Linear(d_model,self.d_model)\n",
        "     #this field is for debugging purposes\n",
        "     self.attn=None\n",
        "     self.dropout=nn.Dropout(dropout);\n",
        "\n",
        "  def forward(self,input_embedding,encoder_output_embedding=None):\n",
        "    head_dim=self.d_model//self.heads;\n",
        "    #batch_size,sentence length and embedding dimension calculate\n",
        "    batch_size=input_embedding.size(0)\n",
        "    sentence_len=input_embedding.size(1)\n",
        "    embedding_dim=input_embedding.size(2)\n",
        "    queries=self.query_linears(input_embedding).reshape(batch_size,sentence_len,self.heads,head_dim).permute(2,0,1,3);\n",
        "    keys=self.key_linears(input_embedding)if(encoder_output_embedding==None) else self.key_linears(encoder_output_embedding);\n",
        "    values=self.value_linears(input_embedding) if(encoder_output_embedding==None) else self.value_linears(encoder_output_embedding);\n",
        "    #now reshpae the keys and value matrix\n",
        "    keys=keys.reshape(batch_size,sentence_len,self.heads,head_dim).permute(2,0,1,3);\n",
        "    values=values.reshape(batch_size,sentence_len,self.heads,head_dim).permute(2,0,1,3);\n",
        "    dropout = torch.nn.Dropout(0.1)\n",
        "    result=attention_head(queries,keys,values,dropout=dropout,mask=self.mask).permute(1,2,0,3).reshape(batch_size,sentence_len,self.heads*head_dim);\n",
        "\n",
        "    return self.projection_layer(result)\n"
      ]
    },
    {
      "cell_type": "code",
      "execution_count": 166,
      "metadata": {
        "vscode": {
          "languageId": "plaintext"
        },
        "colab": {
          "base_uri": "https://localhost:8080/"
        },
        "id": "oTfOgW5QbXwl",
        "outputId": "793fc5c3-2950-4300-bd45-ed73113ea00f"
      },
      "outputs": [
        {
          "output_type": "stream",
          "name": "stdout",
          "text": [
            "torch.Size([2, 10, 128])\n",
            "Input embedding shape: torch.Size([2, 10, 128])\n",
            "Output shape: torch.Size([2, 10, 128])\n",
            "=================================================================\n",
            "Layer (type:depth-idx)                   Param #\n",
            "=================================================================\n",
            "MultiHeadAttention                       --\n",
            "├─Linear: 1-1                            16,512\n",
            "├─Linear: 1-2                            16,512\n",
            "├─Linear: 1-3                            16,512\n",
            "├─Linear: 1-4                            16,512\n",
            "├─Dropout: 1-5                           --\n",
            "=================================================================\n",
            "Total params: 66,048\n",
            "Trainable params: 66,048\n",
            "Non-trainable params: 0\n",
            "=================================================================\n"
          ]
        }
      ],
      "source": [
        "import torch\n",
        "\n",
        "# Define parameters for MultiHeadAttention\n",
        "heads = 4\n",
        "d_model = 128 # Make sure d_model is divisible by heads\n",
        "dropout_prob = 0.1\n",
        "\n",
        "# Create a dummy input embedding\n",
        "batch_size = 2\n",
        "sequence_length = 10\n",
        "input_embedding = torch.randn(batch_size, sequence_length, d_model)\n",
        "print(input_embedding.shape)\n",
        "# Create an instance of MultiHeadAttention\n",
        "multi_head_attention = MultiHeadAttention(heads, d_model, dropout=dropout_prob)\n",
        "\n",
        "# Test the forward method\n",
        "output = multi_head_attention(input_embedding)\n",
        "\n",
        "print(\"Input embedding shape:\", input_embedding.shape)\n",
        "print(\"Output shape:\", output.shape)\n",
        "print(summary(multi_head_attention))"
      ]
    },
    {
      "cell_type": "markdown",
      "metadata": {
        "id": "aMpOrRGKbXwm"
      },
      "source": [
        "# Adding the add and normalize layer"
      ]
    },
    {
      "cell_type": "code",
      "execution_count": 167,
      "metadata": {
        "vscode": {
          "languageId": "plaintext"
        },
        "id": "3uju5noWbXwm"
      },
      "outputs": [],
      "source": [
        "# this add and normalize layer will be used in the subsidual linkage\n",
        "# this subisidual is used to acoid the diminishing effect or influence of the original input\n",
        "#also make sure to use the layer normalization rather than the l2 ,so layer normalization is done on the output of each neuron with similar dimension\n",
        "def add_norm(prev,input):\n",
        "  result=prev+input;\n",
        "  return torch.nn.functional.layer_norm(result);"
      ]
    },
    {
      "cell_type": "markdown",
      "metadata": {
        "id": "7ft_8-pcbXwm"
      },
      "source": [
        "# Adding the position wise feed forward"
      ]
    },
    {
      "cell_type": "code",
      "execution_count": 168,
      "metadata": {
        "vscode": {
          "languageId": "plaintext"
        },
        "id": "yHTEEM7cbXwn"
      },
      "outputs": [],
      "source": [
        "import torch.nn as nn\n",
        "import torch.nn.functional as F\n",
        "\n",
        "class PositionWiseFFN(nn.Module):\n",
        "  def __init__(self,d_model,d_ff,dropout=0.1):\n",
        "    super(PositionWiseFFN,self).__init__();\n",
        "    self.linear1=nn.Linear(d_model,d_ff);\n",
        "    self.linear2=nn.Linear(d_ff,d_model);\n",
        "    self.dropout=nn.Dropout(dropout);\n",
        "\n",
        "  def forward(self,x):\n",
        "    x=self.linear1(x);\n",
        "    x=F.gelu(x); # Use F.gelu\n",
        "    x=self.dropout(x);\n",
        "    x=self.linear2(x);\n",
        "    return x;"
      ]
    },
    {
      "cell_type": "markdown",
      "metadata": {
        "id": "1a_TlrPybXwn"
      },
      "source": [
        "# test case for the position wise feed forward network"
      ]
    },
    {
      "cell_type": "code",
      "execution_count": 169,
      "metadata": {
        "vscode": {
          "languageId": "plaintext"
        },
        "colab": {
          "base_uri": "https://localhost:8080/"
        },
        "id": "p05werjZbXwn",
        "outputId": "2f56efcb-ecc7-4f86-9e37-28fd60f3245e"
      },
      "outputs": [
        {
          "output_type": "stream",
          "name": "stdout",
          "text": [
            "Sample Input Shape for PositionWiseFFN: torch.Size([6, 4])\n",
            "tensor([[-0.8644, -0.7435, -0.2489,  1.9543],\n",
            "        [-0.4400, -0.0337,  0.1260,  0.8201],\n",
            "        [-1.1143, -0.5782,  1.1518,  0.6575],\n",
            "        [ 0.4564,  1.0201,  0.4519,  1.0084],\n",
            "        [-0.7985,  1.8244, -0.7479, -1.1923],\n",
            "        [ 1.3602, -1.0515,  0.7523, -0.9882]])\n",
            "PositionWiseFFN Output Shape: tensor([[-0.1584,  0.1525, -0.1069,  0.7077],\n",
            "        [-0.2530,  0.1406,  0.0164,  0.5528],\n",
            "        [-0.4686,  0.2191,  0.0508,  0.9939],\n",
            "        [ 0.1015,  0.1505,  0.3590,  0.5410],\n",
            "        [-0.1740,  0.0722,  0.1057,  0.2095],\n",
            "        [-0.9952, -0.0436,  0.0758,  0.1541]], grad_fn=<AddmmBackward0>)\n",
            "=================================================================\n",
            "Layer (type:depth-idx)                   Param #\n",
            "=================================================================\n",
            "PositionWiseFFN                          --\n",
            "├─Linear: 1-1                            40\n",
            "├─Linear: 1-2                            36\n",
            "├─Dropout: 1-3                           --\n",
            "=================================================================\n",
            "Total params: 76\n",
            "Trainable params: 76\n",
            "Non-trainable params: 0\n",
            "=================================================================\n"
          ]
        }
      ],
      "source": [
        "# Test case for PositionWiseFFN\n",
        "\n",
        "# Define input dimensions\n",
        "batch_size = 2\n",
        "sequence_length = 3\n",
        "embedding_dim = 4\n",
        "d_ff = 8 # Dimension of the feed-forward hidden layer\n",
        "\n",
        "# Create sample input tensor with shape (batch_size * sequence_length, embedding_dim)\n",
        "sample_input = torch.randn(batch_size * sequence_length, embedding_dim)\n",
        "\n",
        "print(\"Sample Input Shape for PositionWiseFFN:\", sample_input.shape)\n",
        "\n",
        "# Instantiate the PositionWiseFFN module\n",
        "position_wise_ffn = PositionWiseFFN(d_model=embedding_dim, d_ff=d_ff)\n",
        "\n",
        "# Pass the sample input through the PositionWiseFFN module\n",
        "\n",
        "print(sample_input)\n",
        "output_ffn = position_wise_ffn(sample_input)\n",
        "print(\"PositionWiseFFN Output Shape:\", output_ffn)\n",
        "print(summary(position_wise_ffn))\n"
      ]
    },
    {
      "cell_type": "markdown",
      "metadata": {
        "id": "A2Sjxx52bXwo"
      },
      "source": [
        "# Adding positional encoding"
      ]
    },
    {
      "cell_type": "code",
      "execution_count": 170,
      "metadata": {
        "vscode": {
          "languageId": "plaintext"
        },
        "id": "I_AUEWSHbXwo"
      },
      "outputs": [],
      "source": [
        "import numpy as np\n",
        "def get_position_encoding(seq_len, d_model, n=10000):\n",
        "\n",
        "    P = torch.zeros((seq_len, d_model))\n",
        "\n",
        "    for pos in range(seq_len):\n",
        "\n",
        "        for i in range(d_model):\n",
        "\n",
        "            angle = pos / np.power(n, (2 * (i // 2)) / d_model)\n",
        "\n",
        "            P[pos, i] = np.sin(angle) if i % 2 == 0 else np.cos(angle)\n",
        "\n",
        "    return P.to(device)"
      ]
    },
    {
      "cell_type": "code",
      "execution_count": 171,
      "metadata": {
        "vscode": {
          "languageId": "plaintext"
        },
        "colab": {
          "base_uri": "https://localhost:8080/"
        },
        "id": "Ukbwao5LbXwo",
        "outputId": "80a38c22-3ba8-4ad4-e73d-4c300ad0c91d"
      },
      "outputs": [
        {
          "output_type": "stream",
          "name": "stdout",
          "text": [
            "Position Encoding Shape: torch.Size([1, 10])\n",
            "Position Encoding:\n",
            " tensor([[0., 1., 0., 1., 0., 1., 0., 1., 0., 1.]], device='cuda:0')\n"
          ]
        }
      ],
      "source": [
        "# Test case for get_position_encoding\n",
        "\n",
        "# Define parameters for testing\n",
        "seq_len = 1\n",
        "d_model = 10\n",
        "\n",
        "# Get positional encoding\n",
        "position_encoding = get_position_encoding(seq_len, d_model)\n",
        "\n",
        "print(\"Position Encoding Shape:\", position_encoding.shape)\n",
        "print(\"Position Encoding:\\n\", position_encoding)"
      ]
    },
    {
      "cell_type": "code",
      "execution_count": 172,
      "metadata": {
        "vscode": {
          "languageId": "plaintext"
        },
        "colab": {
          "base_uri": "https://localhost:8080/",
          "height": 339
        },
        "id": "IPCn9VmNbXwo",
        "outputId": "e56f429a-417a-4e38-deb5-041ea01480a1"
      },
      "outputs": [
        {
          "output_type": "display_data",
          "data": {
            "text/plain": [
              "<Figure size 1200x600 with 2 Axes>"
            ],
            "image/png": "[encoded data removed]"
          },
          "metadata": {}
        }
      ],
      "source": [
        "import matplotlib.pyplot as plt\n",
        "import seaborn as sns\n",
        "\n",
        "# Define parameters (you can adjust these)\n",
        "seq_len = 50\n",
        "d_model = 512\n",
        "\n",
        "# Get positional encoding\n",
        "position_encoding = get_position_encoding(seq_len, d_model)\n",
        "\n",
        "# Visualize the positional encoding\n",
        "plt.figure(figsize=(12, 6))\n",
        "sns.heatmap(position_encoding.cpu().numpy(), cmap=\"viridis\")\n",
        "plt.title(\"Positional Encoding Heatmap\")\n",
        "plt.xlabel(\"Embedding Dimension\")\n",
        "plt.ylabel(\"Position in Sequence\")\n",
        "plt.show()"
      ]
    },
    {
      "cell_type": "markdown",
      "metadata": {
        "id": "JR5TvBEjbXwp"
      },
      "source": [
        "# creating the add and normalisation layer"
      ]
    },
    {
      "cell_type": "code",
      "execution_count": 173,
      "metadata": {
        "vscode": {
          "languageId": "plaintext"
        },
        "id": "rINo-D81bXwp"
      },
      "outputs": [],
      "source": [
        "#normalization has to be the layer normalization\n",
        "def add_norm(prev,input):\n",
        "  result=prev+input;\n",
        "  layer_norm=torch.nn.LayerNorm(input.shape[-1])\n",
        "  layer_norm=layer_norm.to(device)\n",
        "  return layer_norm"
      ]
    },
    {
      "cell_type": "code",
      "source": [
        "class AddNorm(nn.Module):\n",
        "  def __init__(self,d_model):\n",
        "    super(AddNorm,self).__init__()\n",
        "    self.layer_norm=torch.nn.LayerNorm(d_model)\n",
        "  def forward(self,prev,input):\n",
        "    result=prev+input;\n",
        "    return self.layer_norm(result)"
      ],
      "metadata": {
        "id": "HpHSgUf49GSD"
      },
      "execution_count": 174,
      "outputs": []
    },
    {
      "cell_type": "markdown",
      "metadata": {
        "id": "yX6TLvICbXwp"
      },
      "source": [
        "# Creating the Encoder Sublayer"
      ]
    },
    {
      "cell_type": "code",
      "execution_count": 175,
      "metadata": {
        "vscode": {
          "languageId": "plaintext"
        },
        "id": "EF07KzoebXwp"
      },
      "outputs": [],
      "source": [
        "class EncoderSublayer(nn.Module):\n",
        "  def __init__(self,d_model,num_heads,ffn_dim) -> None:\n",
        "    super(EncoderSublayer,self).__init__()\n",
        "    self.multihead=MultiHeadAttention(heads=num_heads,d_model=d_model)\n",
        "    self.ffn=PositionWiseFFN(d_model=d_model,d_ff=ffn_dim)\n",
        "    self.d_model=d_model\n",
        "    self.ffn_dim=ffn_dim\n",
        "    self.add_norm1=AddNorm(d_model=d_model)\n",
        "    self.add_norm2=AddNorm(d_model=d_model)\n",
        "  def forward(self,input_embeddings):\n",
        "    add_norm_1=self.add_norm1(prev=input_embeddings,input=self.multihead(input_embeddings))\n",
        "    add_norm_2=self.add_norm2(prev=add_norm_1,input=self.ffn(add_norm_1))\n",
        "    return add_norm_2"
      ]
    },
    {
      "cell_type": "markdown",
      "metadata": {
        "id": "0ikSpP-FbXwq"
      },
      "source": [
        "## Adding the test case for the encoder sublayer"
      ]
    },
    {
      "cell_type": "code",
      "execution_count": 176,
      "metadata": {
        "vscode": {
          "languageId": "plaintext"
        },
        "colab": {
          "base_uri": "https://localhost:8080/"
        },
        "id": "W41woPQ7bXwq",
        "outputId": "11463d04-07e2-44b5-b990-23407804f9ec"
      },
      "outputs": [
        {
          "output_type": "stream",
          "name": "stdout",
          "text": [
            "Sample Input Embeddings Shape for EncoderSublayer: torch.Size([10, 100, 512])\n",
            "EncoderSublayer Output Shape: torch.Size([10, 100, 512])\n",
            "=================================================================\n",
            "Layer (type:depth-idx)                   Param #\n",
            "=================================================================\n",
            "EncoderSublayer                          --\n",
            "├─MultiHeadAttention: 1-1                --\n",
            "│    └─Linear: 2-1                       262,656\n",
            "│    └─Linear: 2-2                       262,656\n",
            "│    └─Linear: 2-3                       262,656\n",
            "│    └─Linear: 2-4                       262,656\n",
            "│    └─Dropout: 2-5                      --\n",
            "├─PositionWiseFFN: 1-2                   --\n",
            "│    └─Linear: 2-6                       1,050,624\n",
            "│    └─Linear: 2-7                       1,049,088\n",
            "│    └─Dropout: 2-8                      --\n",
            "├─AddNorm: 1-3                           --\n",
            "│    └─LayerNorm: 2-9                    1,024\n",
            "├─AddNorm: 1-4                           --\n",
            "│    └─LayerNorm: 2-10                   1,024\n",
            "=================================================================\n",
            "Total params: 3,152,384\n",
            "Trainable params: 3,152,384\n",
            "Non-trainable params: 0\n",
            "=================================================================\n"
          ]
        }
      ],
      "source": [
        "# Test case for EncoderSublayer\n",
        "\n",
        "# Define input dimensions\n",
        "batch_size = 10\n",
        "sequence_length = 100\n",
        "embedding_dim = 512\n",
        "num_heads = 8\n",
        "ffn_dim = 2048 # Dimension of the feed-forward hidden layer\n",
        "\n",
        "# Create sample input embeddings with shape (batch_size * sequence_length, embedding_dim)\n",
        "sample_input_embeddings = torch.randn(batch_size , sequence_length, embedding_dim)\n",
        "\n",
        "print(\"Sample Input Embeddings Shape for EncoderSublayer:\", sample_input_embeddings.shape)\n",
        "\n",
        "# Instantiate the EncoderSublayer module\n",
        "encoder_sublayer = EncoderSublayer(d_model=embedding_dim, num_heads=num_heads, ffn_dim=ffn_dim)\n",
        "\n",
        "# Pass the sample input embeddings through the EncoderSublayer module\n",
        "\n",
        "output_encoder_sublayer = encoder_sublayer(sample_input_embeddings)\n",
        "print(\"EncoderSublayer Output Shape:\", output_encoder_sublayer.shape)\n",
        "# now display the summary of the encoder sublayer\n",
        "print(summary(encoder_sublayer))\n"
      ]
    },
    {
      "cell_type": "markdown",
      "metadata": {
        "id": "Gey05zsjbXwq"
      },
      "source": [
        "# Creating the Encoder"
      ]
    },
    {
      "cell_type": "code",
      "execution_count": 177,
      "metadata": {
        "vscode": {
          "languageId": "plaintext"
        },
        "id": "VVNRNAmdbXwr"
      },
      "outputs": [],
      "source": [
        "class Encoder(nn.Module):\n",
        "  def __init__(self,d_model,num_heads,ffn_dim,num_layers,n=None) -> None:\n",
        "    super(Encoder,self).__init__()\n",
        "    self.num_heads=num_heads\n",
        "    self.num_layers=num_layers\n",
        "    self.d_model=d_model\n",
        "    self.ffn_dim=ffn_dim\n",
        "    self.n=n\n",
        "    self.add_norm=AddNorm(d_model=d_model)\n",
        "    self.encoder_layers=nn.Sequential(*[EncoderSublayer(d_model=d_model,num_heads=num_heads,ffn_dim=ffn_dim) for i in range(0,num_layers)]);\n",
        "  def forward(self,input_embedding):\n",
        "    pe=None\n",
        "    if (self.n!=None):\n",
        "     pe=get_position_encoding(input_embedding.size(-2),self.d_model,self.n)\n",
        "    else:\n",
        "     pe=get_position_encoding(input_embedding.size(-2),self.d_model)\n",
        "    result=self.add_norm(prev=input_embedding,input=pe)\n",
        "    for i in range(self.num_layers):\n",
        "      result=self.encoder_layers[i](result)\n",
        "    return result"
      ]
    },
    {
      "cell_type": "markdown",
      "metadata": {
        "id": "97f7caea"
      },
      "source": [
        "## Adding the test case for the Encoder"
      ]
    },
    {
      "cell_type": "code",
      "metadata": {
        "colab": {
          "base_uri": "https://localhost:8080/"
        },
        "id": "2fab7554",
        "outputId": "ca87846b-b40e-4f45-fdd4-7eebe5680130"
      },
      "source": [
        "# Test case for Encoder\n",
        "\n",
        "# Define input dimensions\n",
        "batch_size = 10\n",
        "sequence_length = 100\n",
        "d_model = 512 # Make sure d_model is divisible by num_heads\n",
        "num_heads = 8\n",
        "ffn_dim = 2048 # Dimension of the feed-forward hidden layer\n",
        "num_layers = 6 # Number of encoder layers\n",
        "\n",
        "# Create sample input embeddings with shape (batch_size, sequence_length, d_model)\n",
        "sample_input_embeddings = torch.randn(batch_size, sequence_length, d_model)\n",
        "\n",
        "print(\"Sample Input Embeddings Shape for Encoder:\", sample_input_embeddings.shape)\n",
        "\n",
        "# Instantiate the Encoder module\n",
        "encoder = Encoder(d_model=d_model, num_heads=num_heads, ffn_dim=ffn_dim, num_layers=num_layers).to(device)\n",
        "\n",
        "# Pass the sample input embeddings through the Encoder module\n",
        "\n",
        "output_encoder = encoder(sample_input_embeddings.to(device))\n",
        "print(\"Encoder Output Shape:\", output_encoder.shape)\n",
        "#display the output of the encoder\n",
        "print(summary(encoder))\n"
      ],
      "execution_count": 178,
      "outputs": [
        {
          "output_type": "stream",
          "name": "stdout",
          "text": [
            "Sample Input Embeddings Shape for Encoder: torch.Size([10, 100, 512])\n",
            "Encoder Output Shape: torch.Size([10, 100, 512])\n",
            "=================================================================\n",
            "Layer (type:depth-idx)                   Param #\n",
            "=================================================================\n",
            "Encoder                                  --\n",
            "├─AddNorm: 1-1                           --\n",
            "│    └─LayerNorm: 2-1                    1,024\n",
            "├─Sequential: 1-2                        --\n",
            "│    └─EncoderSublayer: 2-2              --\n",
            "│    │    └─MultiHeadAttention: 3-1      1,050,624\n",
            "│    │    └─PositionWiseFFN: 3-2         2,099,712\n",
            "│    │    └─AddNorm: 3-3                 1,024\n",
            "│    │    └─AddNorm: 3-4                 1,024\n",
            "│    └─EncoderSublayer: 2-3              --\n",
            "│    │    └─MultiHeadAttention: 3-5      1,050,624\n",
            "│    │    └─PositionWiseFFN: 3-6         2,099,712\n",
            "│    │    └─AddNorm: 3-7                 1,024\n",
            "│    │    └─AddNorm: 3-8                 1,024\n",
            "│    └─EncoderSublayer: 2-4              --\n",
            "│    │    └─MultiHeadAttention: 3-9      1,050,624\n",
            "│    │    └─PositionWiseFFN: 3-10        2,099,712\n",
            "│    │    └─AddNorm: 3-11                1,024\n",
            "│    │    └─AddNorm: 3-12                1,024\n",
            "│    └─EncoderSublayer: 2-5              --\n",
            "│    │    └─MultiHeadAttention: 3-13     1,050,624\n",
            "│    │    └─PositionWiseFFN: 3-14        2,099,712\n",
            "│    │    └─AddNorm: 3-15                1,024\n",
            "│    │    └─AddNorm: 3-16                1,024\n",
            "│    └─EncoderSublayer: 2-6              --\n",
            "│    │    └─MultiHeadAttention: 3-17     1,050,624\n",
            "│    │    └─PositionWiseFFN: 3-18        2,099,712\n",
            "│    │    └─AddNorm: 3-19                1,024\n",
            "│    │    └─AddNorm: 3-20                1,024\n",
            "│    └─EncoderSublayer: 2-7              --\n",
            "│    │    └─MultiHeadAttention: 3-21     1,050,624\n",
            "│    │    └─PositionWiseFFN: 3-22        2,099,712\n",
            "│    │    └─AddNorm: 3-23                1,024\n",
            "│    │    └─AddNorm: 3-24                1,024\n",
            "=================================================================\n",
            "Total params: 18,915,328\n",
            "Trainable params: 18,915,328\n",
            "Non-trainable params: 0\n",
            "=================================================================\n"
          ]
        }
      ]
    },
    {
      "cell_type": "markdown",
      "source": [
        "\n",
        "# Decoder implmentation"
      ],
      "metadata": {
        "id": "MX-1VX-bO3VH"
      }
    },
    {
      "cell_type": "markdown",
      "source": [
        "# Decoder sublayer impmentation"
      ],
      "metadata": {
        "id": "I9CPIYgyPQnj"
      }
    },
    {
      "cell_type": "code",
      "source": [
        "class DecoderSublayer(nn.Module):\n",
        "  def __init__(self,batch_size,sentence_len,dim_heads,d_model,ff_dim):\n",
        "    super(DecoderSublayer,self).__init__();\n",
        "    self.batch_size=batch_size;\n",
        "    self.sentence_len=sentence_len;\n",
        "    self.dim_heads=dim_heads;\n",
        "    self.d_model=d_model;\n",
        "    self.ff_dim=ff_dim;\n",
        "    self.add_norm0=AddNorm(d_model=d_model);\n",
        "    self.add_norm1=AddNorm(d_model=d_model);\n",
        "    self.add_norm2=AddNorm(d_model=d_model);\n",
        "    self.mask=create_look_ahead_mask(seq_len=sentence_len).to(device);\n",
        "    #first we create the masked multihead attention\n",
        "    self.masked_head_attention=MultiHeadAttention(heads=dim_heads,d_model=d_model,dropout=0.1,mask=self.mask);\n",
        "    #second we create the multihead attention\n",
        "    self.multihead_attention=MultiHeadAttention(heads=dim_heads,d_model=d_model,dropout=0.1);\n",
        "    self.ffn=PositionWiseFFN(d_model=d_model,d_ff=ff_dim);\n",
        "  def forward(self,input_embeddings,encoder_output_embedding):\n",
        "    result1=self.add_norm0(prev=input_embeddings,input=self.masked_head_attention(input_embeddings));\n",
        "    result_of_cross_attention=self.multihead_attention(result1,encoder_output_embedding);\n",
        "    result2=self.add_norm1(prev=result1,input=result_of_cross_attention);\n",
        "    result3=self.add_norm2(prev=result2,input=self.ffn(result2));\n",
        "    return result3;"
      ],
      "metadata": {
        "id": "2Axs2zUTPYfs"
      },
      "execution_count": 179,
      "outputs": []
    },
    {
      "cell_type": "code",
      "metadata": {
        "colab": {
          "base_uri": "https://localhost:8080/"
        },
        "id": "b673b355",
        "outputId": "473312da-a938-4346-eb49-096da1ed5094"
      },
      "source": [
        "# Test case for DecoderSublayer\n",
        "\n",
        "# Define input dimensions\n",
        "batch_size = 2\n",
        "sequence_length = 10\n",
        "d_model = 128 # Make sure d_model is divisible by num_heads\n",
        "num_heads = 4\n",
        "ffn_dim = 256 # Dimension of the feed-forward hidden layer\n",
        "\n",
        "# Create sample input embeddings with shape (batch_size, sequence_length, d_model)\n",
        "# Decoder input embeddings\n",
        "sample_decoder_input_embeddings = torch.randn(batch_size ,sequence_length, d_model)\n",
        "# Encoder output embeddings (for cross-attention)\n",
        "sample_encoder_output_embeddings = torch.randn(batch_size ,sequence_length, d_model)\n",
        "\n",
        "\n",
        "print(\"Sample Decoder Input Embeddings Shape for DecoderSublayer:\", sample_decoder_input_embeddings.shape)\n",
        "print(\"Sample Encoder Output Embeddings Shape for DecoderSublayer:\", sample_encoder_output_embeddings.shape)\n",
        "\n",
        "\n",
        "# Instantiate the DecoderSublayer module\n",
        "decoder_sublayer = DecoderSublayer(batch_size=batch_size, sentence_len=sequence_length, dim_heads=num_heads, d_model=d_model, ff_dim=ffn_dim).to(device)\n",
        "\n",
        "# Pass the sample input embeddings and encoder output through the DecoderSublayer module\n",
        "\n",
        "output_decoder_sublayer = decoder_sublayer(sample_decoder_input_embeddings.to(device), sample_encoder_output_embeddings.to(device))\n",
        "print(\"DecoderSublayer Output Shape:\", output_decoder_sublayer.shape)\n",
        "\n",
        "#output the summary for the decoder sublayer\n",
        "print(summary(decoder_sublayer))\n"
      ],
      "execution_count": 180,
      "outputs": [
        {
          "output_type": "stream",
          "name": "stdout",
          "text": [
            "Sample Decoder Input Embeddings Shape for DecoderSublayer: torch.Size([2, 10, 128])\n",
            "Sample Encoder Output Embeddings Shape for DecoderSublayer: torch.Size([2, 10, 128])\n",
            "DecoderSublayer Output Shape: torch.Size([2, 10, 128])\n",
            "=================================================================\n",
            "Layer (type:depth-idx)                   Param #\n",
            "=================================================================\n",
            "DecoderSublayer                          --\n",
            "├─AddNorm: 1-1                           --\n",
            "│    └─LayerNorm: 2-1                    256\n",
            "├─AddNorm: 1-2                           --\n",
            "│    └─LayerNorm: 2-2                    256\n",
            "├─AddNorm: 1-3                           --\n",
            "│    └─LayerNorm: 2-3                    256\n",
            "├─MultiHeadAttention: 1-4                --\n",
            "│    └─Linear: 2-4                       16,512\n",
            "│    └─Linear: 2-5                       16,512\n",
            "│    └─Linear: 2-6                       16,512\n",
            "│    └─Linear: 2-7                       16,512\n",
            "│    └─Dropout: 2-8                      --\n",
            "├─MultiHeadAttention: 1-5                --\n",
            "│    └─Linear: 2-9                       16,512\n",
            "│    └─Linear: 2-10                      16,512\n",
            "│    └─Linear: 2-11                      16,512\n",
            "│    └─Linear: 2-12                      16,512\n",
            "│    └─Dropout: 2-13                     --\n",
            "├─PositionWiseFFN: 1-6                   --\n",
            "│    └─Linear: 2-14                      33,024\n",
            "│    └─Linear: 2-15                      32,896\n",
            "│    └─Dropout: 2-16                     --\n",
            "=================================================================\n",
            "Total params: 198,784\n",
            "Trainable params: 198,784\n",
            "Non-trainable params: 0\n",
            "=================================================================\n"
          ]
        }
      ]
    },
    {
      "cell_type": "code",
      "source": [],
      "metadata": {
        "id": "kvOyt3_AziDY"
      },
      "execution_count": 180,
      "outputs": []
    },
    {
      "cell_type": "markdown",
      "source": [
        "# Decoder Full Part"
      ],
      "metadata": {
        "id": "b9UKo4RqWRjF"
      }
    },
    {
      "cell_type": "code",
      "source": [
        "class Decoder(nn.Module):\n",
        "   def __init__(self,batch_size,sentence_len,num_heads,d_model,ffn_dim,num_layers,n=None) -> None:\n",
        "    super(Decoder,self).__init__()\n",
        "    self.num_heads=num_heads\n",
        "    self.num_layers=num_layers\n",
        "    self.d_model=d_model\n",
        "    self.ffn_dim=ffn_dim\n",
        "    self.n=n\n",
        "    self.add_norm=AddNorm(d_model=d_model)\n",
        "    # now we gonna construct the layers in the Decoder just like we did in the encoder\n",
        "    self.layers=nn.Sequential(*[DecoderSublayer(batch_size=batch_size,sentence_len=sentence_len,dim_heads=num_heads,d_model=d_model,ff_dim=ffn_dim) for i in range(0,num_layers)]);\n",
        "\n",
        "   def forward(self,input_embeddings,encoder_output_embeddings):\n",
        "      pe=get_position_encoding(input_embeddings.size(-2),self.d_model)\n",
        "\n",
        "      # Move positional encoding to the same device as input_embeddings\n",
        "\n",
        "      result=self.add_norm(pe,input_embeddings)\n",
        "      for layer in self.layers:\n",
        "        result=layer(result,encoder_output_embeddings)\n",
        "      return result"
      ],
      "metadata": {
        "id": "eVfX5qUSWX5G"
      },
      "execution_count": 181,
      "outputs": []
    },
    {
      "cell_type": "code",
      "metadata": {
        "colab": {
          "base_uri": "https://localhost:8080/"
        },
        "id": "cf1e8e0a",
        "outputId": "11fa6fba-ac1f-41e7-d008-664337230e41"
      },
      "source": [
        "# Test case for Decoder\n",
        "\n",
        "# Define input dimensions\n",
        "batch_size = 2\n",
        "sequence_length = 10\n",
        "d_model = 128 # Make sure d_model is divisible by num_heads\n",
        "num_heads = 4\n",
        "ffn_dim = 256 # Dimension of the feed-forward hidden layer\n",
        "num_layers = 2 # Number of decoder layers\n",
        "\n",
        "# Create sample input embeddings with shape (batch_size * sequence_length, d_model)\n",
        "# Decoder input embeddings\n",
        "sample_decoder_input_embeddings = torch.randn(batch_size , sequence_length, d_model)\n",
        "# Encoder output embeddings (for cross-attention)\n",
        "sample_encoder_output_embeddings = torch.randn(batch_size ,sequence_length, d_model)\n",
        "\n",
        "print(\"Sample Decoder Input Embeddings Shape for Decoder:\", sample_decoder_input_embeddings.shape)\n",
        "print(\"Sample Encoder Output Embeddings Shape for Decoder:\", sample_encoder_output_embeddings.shape)\n",
        "\n",
        "# Instantiate the Decoder module\n",
        "decoder = Decoder(batch_size=batch_size, sentence_len=sequence_length, num_heads=num_heads, d_model=d_model, ffn_dim=ffn_dim, num_layers=num_layers).to(device)\n",
        "\n",
        "# Pass the sample input embeddings and encoder output through the Decoder module\n",
        "\n",
        "output_decoder = decoder(sample_decoder_input_embeddings.to(device), sample_encoder_output_embeddings.to(device))\n",
        "print(\"Decoder Output Shape:\", output_decoder.shape)\n",
        "print(summary(decoder))\n"
      ],
      "execution_count": 182,
      "outputs": [
        {
          "output_type": "stream",
          "name": "stdout",
          "text": [
            "Sample Decoder Input Embeddings Shape for Decoder: torch.Size([2, 10, 128])\n",
            "Sample Encoder Output Embeddings Shape for Decoder: torch.Size([2, 10, 128])\n",
            "Decoder Output Shape: torch.Size([2, 10, 128])\n",
            "=================================================================\n",
            "Layer (type:depth-idx)                   Param #\n",
            "=================================================================\n",
            "Decoder                                  --\n",
            "├─AddNorm: 1-1                           --\n",
            "│    └─LayerNorm: 2-1                    256\n",
            "├─Sequential: 1-2                        --\n",
            "│    └─DecoderSublayer: 2-2              --\n",
            "│    │    └─AddNorm: 3-1                 256\n",
            "│    │    └─AddNorm: 3-2                 256\n",
            "│    │    └─AddNorm: 3-3                 256\n",
            "│    │    └─MultiHeadAttention: 3-4      66,048\n",
            "│    │    └─MultiHeadAttention: 3-5      66,048\n",
            "│    │    └─PositionWiseFFN: 3-6         65,920\n",
            "│    └─DecoderSublayer: 2-3              --\n",
            "│    │    └─AddNorm: 3-7                 256\n",
            "│    │    └─AddNorm: 3-8                 256\n",
            "│    │    └─AddNorm: 3-9                 256\n",
            "│    │    └─MultiHeadAttention: 3-10     66,048\n",
            "│    │    └─MultiHeadAttention: 3-11     66,048\n",
            "│    │    └─PositionWiseFFN: 3-12        65,920\n",
            "=================================================================\n",
            "Total params: 397,824\n",
            "Trainable params: 397,824\n",
            "Non-trainable params: 0\n",
            "=================================================================\n"
          ]
        }
      ]
    },
    {
      "cell_type": "markdown",
      "source": [
        "# Transformer full implementation"
      ],
      "metadata": {
        "id": "4K3dj8glcRG7"
      }
    },
    {
      "cell_type": "code",
      "source": [
        "class EncoderDecoder(nn.Module):\n",
        "  def __init__(self, vocab_size_source, vocab_size_target, batch_size, sentence_len, num_heads, d_model, ffn_dim, num_layers, n=None) -> None:\n",
        "    super(EncoderDecoder,self).__init__()\n",
        "    self.encoder = Encoder(d_model=d_model, num_heads=num_heads, ffn_dim=ffn_dim, num_layers=num_layers, n=n)\n",
        "    self.decoder = Decoder(batch_size=batch_size, sentence_len=sentence_len, num_heads=num_heads, d_model=d_model, ffn_dim=ffn_dim, num_layers=num_layers, n=n)\n",
        "    self.source_embedding = nn.Embedding(vocab_size_source, d_model)\n",
        "    self.target_embedding = nn.Embedding(vocab_size_target, d_model)\n",
        "    # removed the softmax since in the cross entropy loss it internally perform the softmax over\n",
        "    #the raw logit and then something called negative log hood\n",
        "    self.final_projection=nn.Sequential(nn.Linear(d_model,vocab_size_target))\n",
        "    self.d_model = d_model\n",
        "\n",
        "  def forward(self, source_input, target_input, source_padding_mask=None, target_padding_mask=None):\n",
        "    # # Create padding masks\n",
        "    # if source_padding_mask is None:\n",
        "    #     source_padding_mask = (source_input == 0).unsqueeze(1).unsqueeze(2) # Assuming 0 is padding token\n",
        "    # if target_padding_mask is None:\n",
        "    #     target_padding_mask = (target_input == 0).unsqueeze(1).unsqueeze(2) # Assuming 0 is padding token\n",
        "\n",
        "    encoder_output = self.encoder(self.source_embedding(source_input))\n",
        "    decoder_output = self.decoder(self.target_embedding(target_input), encoder_output)\n",
        "\n",
        "    return self.final_projection(decoder_output)"
      ],
      "metadata": {
        "id": "IsyuZN1CcWUo"
      },
      "execution_count": 183,
      "outputs": []
    },
    {
      "cell_type": "markdown",
      "source": [
        "# Tranformer in the training **mode**"
      ],
      "metadata": {
        "id": "_JoKXwu-1wWP"
      }
    },
    {
      "cell_type": "code",
      "source": [
        "from transformers import BertTokenizer\n",
        "# tokenizer for the german\n",
        "german_tokenizer = BertTokenizer.from_pretrained(\"bert-base-german-cased\")\n",
        "# Load the bert tokenizer for the english\n",
        "english_tokenizer = BertTokenizer.from_pretrained(\"bert-large-cased\")"
      ],
      "metadata": {
        "id": "Sk3-Wou810eG"
      },
      "execution_count": 184,
      "outputs": []
    },
    {
      "cell_type": "code",
      "source": [
        "import pandas as pd\n",
        "df = pd.read_csv('/content/wmt14_translate_de-en_test.csv', engine='python', on_bad_lines='skip')\n"
      ],
      "metadata": {
        "id": "bJl_raaQ2QD1"
      },
      "execution_count": 185,
      "outputs": []
    },
    {
      "cell_type": "code",
      "source": [
        "df.iloc[0,]"
      ],
      "metadata": {
        "colab": {
          "base_uri": "https://localhost:8080/",
          "height": 147
        },
        "id": "k3Nf2PJOG576",
        "outputId": "9e9d726a-5830-4012-839b-1543c2d7340f"
      },
      "execution_count": 186,
      "outputs": [
        {
          "output_type": "execute_result",
          "data": {
            "text/plain": [
              "de    Ursprünglich war die Schulhofsanierung sogar s...\n",
              "en    The school yard renovation was originally plan...\n",
              "Name: 0, dtype: object"
            ],
            "text/html": [
              "<div>\n",
              "<style scoped>\n",
              "    .dataframe tbody tr th:only-of-type {\n",
              "        vertical-align: middle;\n",
              "    }\n",
              "\n",
              "    .dataframe tbody tr th {\n",
              "        vertical-align: top;\n",
              "    }\n",
              "\n",
              "    .dataframe thead th {\n",
              "        text-align: right;\n",
              "    }\n",
              "</style>\n",
              "<table border=\"1\" class=\"dataframe\">\n",
              "  <thead>\n",
              "    <tr style=\"text-align: right;\">\n",
              "      <th></th>\n",
              "      <th>0</th>\n",
              "    </tr>\n",
              "  </thead>\n",
              "  <tbody>\n",
              "    <tr>\n",
              "      <th>de</th>\n",
              "      <td>Ursprünglich war die Schulhofsanierung sogar s...</td>\n",
              "    </tr>\n",
              "    <tr>\n",
              "      <th>en</th>\n",
              "      <td>The school yard renovation was originally plan...</td>\n",
              "    </tr>\n",
              "  </tbody>\n",
              "</table>\n",
              "</div><br><label><b>dtype:</b> object</label>"
            ]
          },
          "metadata": {},
          "execution_count": 186
        }
      ]
    },
    {
      "cell_type": "markdown",
      "source": [
        "# **processing the data**"
      ],
      "metadata": {
        "id": "3cM1CkrmHkkD"
      }
    },
    {
      "cell_type": "code",
      "source": [
        "from sklearn.model_selection import train_test_split\n",
        "import torch\n",
        "from torch.utils.data import Dataset, DataLoader"
      ],
      "metadata": {
        "id": "KE2Q_MSMHJlj"
      },
      "execution_count": 187,
      "outputs": []
    },
    {
      "cell_type": "code",
      "source": [
        "source=df['de']\n",
        "target=df['en']"
      ],
      "metadata": {
        "id": "v9E3D2g4JHUe"
      },
      "execution_count": 188,
      "outputs": []
    },
    {
      "cell_type": "code",
      "source": [
        "from sklearn.model_selection import train_test_split\n",
        "import torch\n",
        "from torch.utils.data import Dataset, DataLoader\n",
        "from transformers import BertTokenizer # Import BertTokenizer here if not already imported\n",
        "\n",
        "class DataContainer(Dataset):\n",
        "  def __init__(self, source, target, max_len):\n",
        "    super(DataContainer, self).__init__()\n",
        "    self.max_len = max_len\n",
        "    # Add the special classification token at each end of both sequence and encode\n",
        "    # Use truncation and specify a max_length, and add padding here\n",
        "    self.german_seq = [german_tokenizer.encode(\"[CLS]\" + t + \"[SEP]\", max_length=max_len, truncation=True, padding='max_length') for t in target]\n",
        "    self.english_seq = [english_tokenizer.encode(\"[CLS]\" + s + \"[SEP]\", max_length=max_len, truncation=True, padding='max_length') for s in source]\n",
        "\n",
        "\n",
        "  def __len__(self):\n",
        "    return len(self.german_seq)\n",
        "\n",
        "  def __getitem__(self, idx):\n",
        "    # Convert to torch tensors\n",
        "    return torch.tensor(self.german_seq[idx]), torch.tensor(self.english_seq[idx])"
      ],
      "metadata": {
        "id": "EzTPkYP_Hg28"
      },
      "execution_count": 189,
      "outputs": []
    },
    {
      "cell_type": "code",
      "source": [
        "def format_data(source,target,max_len):\n",
        "  # No need to add string padding here, tokenizers handle padding later\n",
        "  formatted_source = [str(s) for s in source] # Ensure all source entries are strings\n",
        "  formatted_target = [str(t) for t in target] # Ensure all target entries are strings\n",
        "  return formatted_source, formatted_target"
      ],
      "metadata": {
        "id": "LLiPZxUHAjVC"
      },
      "execution_count": 190,
      "outputs": []
    },
    {
      "cell_type": "code",
      "source": [
        "print(\"german version===\",target[1])\n",
        "print(\"english version===\",source[1])\n"
      ],
      "metadata": {
        "colab": {
          "base_uri": "https://localhost:8080/"
        },
        "id": "Xd93TEVGB67w",
        "outputId": "a572facc-0f72-46d9-fe71-8a9fc12cea27"
      },
      "execution_count": 191,
      "outputs": [
        {
          "output_type": "stream",
          "name": "stdout",
          "text": [
            "german version=== Consequently, they will be particularly motivated playing against their former coach.\n",
            "english version=== Von daher werden sie gegen ihren Ex-Coach sicher ganz besonders motiviert sein.\n"
          ]
        }
      ]
    },
    {
      "cell_type": "markdown",
      "source": [
        "# **Test the data sample for the transformer**"
      ],
      "metadata": {
        "id": "Rewu7LmP2WCj"
      }
    },
    {
      "cell_type": "code",
      "source": [
        "# Test case for EncoderDecoder (Transformer)\n",
        "\n",
        "# Define input dimensions\n",
        "batch_size = 10\n",
        "sequence_length = 100\n",
        "d_model = 512 # Make sure d_model is divisible by num_heads\n",
        "num_heads = 8\n",
        "ffn_dim = 2048 # Dimension of the feed-forward hidden layer\n",
        "num_layers = 6 # Number of encoder and decoder layers\n",
        "\n",
        "# Get vocabulary sizes from the tokenizers\n",
        "german_vocab_size = german_tokenizer.vocab_size\n",
        "english_vocab_size = english_tokenizer.vocab_size\n",
        "\n",
        "# Create sample input tensors with shape (batch_size, sequence_length) and data type LongTensor\n",
        "# Source input (encoder input) - using English tokenizer vocab size\n",
        "sample_source_input = torch.randint(0, english_vocab_size, (batch_size, sequence_length), dtype=torch.long)\n",
        "# Target input (decoder input) - using German tokenizer vocab size\n",
        "sample_target_input = torch.randint(0, german_vocab_size, (batch_size, sequence_length), dtype=torch.long)\n",
        "\n",
        "\n",
        "print(\"Sample Source Input Shape for Transformer:\", sample_source_input.shape)\n",
        "print(\"Sample Target Input Shape for Transformer:\", sample_target_input.shape)\n",
        "\n",
        "# Instantiate the EncoderDecoder model using the user's class\n",
        "transformer_model = EncoderDecoder(english_vocab_size,german_vocab_size,batch_size=batch_size, sentence_len=sequence_length, num_heads=num_heads, d_model=d_model, ffn_dim=ffn_dim, num_layers=num_layers)\n",
        "transformer_model=transformer_model.to(device)\n",
        "\n",
        "# Pass the sample input tensors through the Transformer model\n",
        "output_transformer = transformer_model(sample_source_input.to(device), sample_target_input.to(device))\n",
        "\n",
        "print(\"Transformer Output Shape:\", output_transformer.shape)\n",
        "print(summary(transformer_model))"
      ],
      "metadata": {
        "colab": {
          "base_uri": "https://localhost:8080/"
        },
        "id": "3ZGaJTcmPfL0",
        "outputId": "1c0ee597-f853-492c-b1d2-2423a7900429"
      },
      "execution_count": 192,
      "outputs": [
        {
          "output_type": "stream",
          "name": "stdout",
          "text": [
            "Sample Source Input Shape for Transformer: torch.Size([10, 100])\n",
            "Sample Target Input Shape for Transformer: torch.Size([10, 100])\n",
            "Transformer Output Shape: torch.Size([10, 100, 30000])\n",
            "======================================================================\n",
            "Layer (type:depth-idx)                        Param #\n",
            "======================================================================\n",
            "EncoderDecoder                                --\n",
            "├─Encoder: 1-1                                --\n",
            "│    └─AddNorm: 2-1                           --\n",
            "│    │    └─LayerNorm: 3-1                    1,024\n",
            "│    └─Sequential: 2-2                        --\n",
            "│    │    └─EncoderSublayer: 3-2              3,152,384\n",
            "│    │    └─EncoderSublayer: 3-3              3,152,384\n",
            "│    │    └─EncoderSublayer: 3-4              3,152,384\n",
            "│    │    └─EncoderSublayer: 3-5              3,152,384\n",
            "│    │    └─EncoderSublayer: 3-6              3,152,384\n",
            "│    │    └─EncoderSublayer: 3-7              3,152,384\n",
            "├─Decoder: 1-2                                --\n",
            "│    └─AddNorm: 2-3                           --\n",
            "│    │    └─LayerNorm: 3-8                    1,024\n",
            "│    └─Sequential: 2-4                        --\n",
            "│    │    └─DecoderSublayer: 3-9              4,204,032\n",
            "│    │    └─DecoderSublayer: 3-10             4,204,032\n",
            "│    │    └─DecoderSublayer: 3-11             4,204,032\n",
            "│    │    └─DecoderSublayer: 3-12             4,204,032\n",
            "│    │    └─DecoderSublayer: 3-13             4,204,032\n",
            "│    │    └─DecoderSublayer: 3-14             4,204,032\n",
            "├─Embedding: 1-3                              14,845,952\n",
            "├─Embedding: 1-4                              15,360,000\n",
            "├─Sequential: 1-5                             --\n",
            "│    └─Linear: 2-5                            15,390,000\n",
            "======================================================================\n",
            "Total params: 89,736,496\n",
            "Trainable params: 89,736,496\n",
            "Non-trainable params: 0\n",
            "======================================================================\n"
          ]
        }
      ]
    },
    {
      "cell_type": "code",
      "metadata": {
        "colab": {
          "base_uri": "https://localhost:8080/"
        },
        "id": "d32121db",
        "outputId": "c23391dc-ab1e-472a-f384-934bb8f5b037"
      },
      "source": [
        "import torch.nn as nn\n",
        "\n",
        "# Assuming 'output_decoder' is the output from your Decoder (or EncoderDecoder) with shape (batch_size, sequence_length, vocab_size)\n",
        "# And 'target_tokens' are the actual target tokens with shape (batch_size, sequence_length)\n",
        "\n",
        "# Let's simulate some dummy output and target tokens for demonstration\n",
        "batch_size = 2\n",
        "sequence_length = 10\n",
        "vocab_size = 1000  # Example vocabulary size\n",
        "\n",
        "# Simulate decoder output (logits before softmax)\n",
        "output_decoder = torch.randn(batch_size, sequence_length, vocab_size)\n",
        "\n",
        "# Simulate target tokens (ground truth)\n",
        "# We need to make sure the target tokens are within the vocab_size\n",
        "target_tokens = torch.randint(0, vocab_size, (batch_size, sequence_length))\n",
        "\n",
        "\n",
        "# Initialize the Cross-Entropy Loss function\n",
        "# ignore_index can be used to ignore padding tokens in the target\n",
        "criterion = nn.CrossEntropyLoss(ignore_index=0) # Assuming 0 is your padding token\n",
        "\n",
        "# Reshape the output and target for CrossEntropyLoss\n",
        "# CrossEntropyLoss expects input shape (N, C, ...) and target shape (N, ...) or (N, H, W) etc.\n",
        "# Here, N is batch_size * sequence_length, C is vocab_size\n",
        "loss = criterion(output_decoder.view(-1, vocab_size), target_tokens.view(-1))\n",
        "\n",
        "print(f\"Calculated Loss: {loss.item()}\")"
      ],
      "execution_count": 193,
      "outputs": [
        {
          "output_type": "stream",
          "name": "stdout",
          "text": [
            "Calculated Loss: 7.3500823974609375\n"
          ]
        }
      ]
    },
    {
      "cell_type": "code",
      "source": [
        "german_tokenizer.encode(target[1])"
      ],
      "metadata": {
        "colab": {
          "base_uri": "https://localhost:8080/"
        },
        "id": "OE8BGchiE13A",
        "outputId": "0859cfc5-5875-4e7e-bfff-36a09efa1a27"
      },
      "execution_count": 194,
      "outputs": [
        {
          "output_type": "execute_result",
          "data": {
            "text/plain": [
              "[3,\n",
              " 19036,\n",
              " 26897,\n",
              " 4631,\n",
              " 4053,\n",
              " 9562,\n",
              " 26918,\n",
              " 2088,\n",
              " 26951,\n",
              " 1279,\n",
              " 131,\n",
              " 10721,\n",
              " 434,\n",
              " 5446,\n",
              " 9562,\n",
              " 15710,\n",
              " 22245,\n",
              " 21393,\n",
              " 26951,\n",
              " 270,\n",
              " 7351,\n",
              " 16172,\n",
              " 26901,\n",
              " 2088,\n",
              " 124,\n",
              " 1648,\n",
              " 6,\n",
              " 1350,\n",
              " 26910,\n",
              " 71,\n",
              " 26914,\n",
              " 4]"
            ]
          },
          "metadata": {},
          "execution_count": 194
        }
      ]
    },
    {
      "cell_type": "markdown",
      "source": [
        "# *Configuring and setting up the files and data *:"
      ],
      "metadata": {
        "id": "kWE1gJHTi9Ie"
      }
    },
    {
      "cell_type": "code",
      "source": [
        "import pandas as pd\n",
        "\n",
        "\n",
        "\n",
        "# this function will get the specified chunk of the dataset\n",
        "def get_chunk(data_path,segment,max_len=100,batch_size=10):\n",
        "   data=pd.read_csv(f\"{data_path}/part_{segment}.csv\",engine='python', on_bad_lines='skip');\n",
        "   target=data['de']\n",
        "   source=data['en']\n",
        "   source,target=format_data(source,target,max_len)\n",
        "   Data=DataContainer(source,target,max_len)\n",
        "   return DataLoader(Data,batch_size=batch_size)\n"
      ],
      "metadata": {
        "id": "_JcNZenfjFHW"
      },
      "execution_count": 195,
      "outputs": []
    },
    {
      "cell_type": "markdown",
      "source": [
        "*Function to read the configuration file*"
      ],
      "metadata": {
        "id": "X3eCACSKsgOW"
      }
    },
    {
      "cell_type": "code",
      "source": [
        "# read the file\n",
        "import json\n",
        "\n",
        "def read_json(file_path):\n",
        "    \"\"\"\n",
        "    Reads a JSON file and returns its contents as a Python dictionary.\n",
        "\n",
        "    Args:\n",
        "        file_path (str): Path to the JSON file.\n",
        "    Returns:\n",
        "        dict: Parsed JSON data.\n",
        "    Raises:\n",
        "        FileNotFoundError: If the file does not exist.\n",
        "        json.JSONDecodeError: If the file is not valid JSON.\n",
        "    \"\"\"\n",
        "    try:\n",
        "        with open(file_path, \"r\", encoding=\"utf-8\") as f:\n",
        "            data = json.load(f)\n",
        "        return data\n",
        "\n",
        "    except FileNotFoundError:\n",
        "        print(f\"❌ File not found: {file_path}\")\n",
        "        raise\n",
        "\n",
        "    except json.JSONDecodeError as e:\n",
        "        print(f\"❌ Invalid JSON format in {file_path}: {e}\")\n",
        "        raise\n"
      ],
      "metadata": {
        "id": "kDgPyQkSsmVR"
      },
      "execution_count": 196,
      "outputs": []
    },
    {
      "cell_type": "code",
      "source": [
        "# update the file configuration\n",
        "import json\n",
        "import os\n",
        "\n",
        "def update_json(file_path, updates):\n",
        "    \"\"\"\n",
        "    Updates a JSON file with the given key-value pairs.\n",
        "\n",
        "    Args:\n",
        "        file_path (str): Path to the JSON file.\n",
        "        updates (dict): Dictionary of key-value pairs to update or add.\n",
        "\n",
        "    Returns:\n",
        "        dict: The updated JSON data.\n",
        "    \"\"\"\n",
        "    # Check if file exists\n",
        "    if not os.path.exists(file_path):\n",
        "        raise FileNotFoundError(f\"❌ File not found: {file_path}\")\n",
        "\n",
        "    # Read existing data\n",
        "    with open(file_path, \"r\", encoding=\"utf-8\") as f:\n",
        "        data = json.load(f)\n",
        "\n",
        "    # Update values\n",
        "    data.update(updates)\n",
        "\n",
        "    # Write back to file\n",
        "    with open(file_path, \"w\", encoding=\"utf-8\") as f:\n",
        "        json.dump(data, f, indent=4)\n",
        "\n",
        "    print(f\"✅ File '{file_path}' updated successfully!\")\n",
        "    return data\n"
      ],
      "metadata": {
        "id": "dZC_K4BCs3eY"
      },
      "execution_count": 197,
      "outputs": []
    },
    {
      "cell_type": "markdown",
      "source": [
        "# **We will load all the configuration file and the model iteself**"
      ],
      "metadata": {
        "id": "hJ04Z_A0toJ9"
      }
    },
    {
      "cell_type": "code",
      "source": [
        "config=read_json('/content/configure.json')\n",
        "PATH=config[\"model_path\"]"
      ],
      "metadata": {
        "id": "3VsA7xELtQCN"
      },
      "execution_count": 220,
      "outputs": []
    },
    {
      "cell_type": "code",
      "source": [
        "! pip install torchinfo"
      ],
      "metadata": {
        "colab": {
          "base_uri": "https://localhost:8080/"
        },
        "id": "Ml4YF7Kuy99L",
        "outputId": "ecfb4e68-81a7-4077-8abd-7eb897762289"
      },
      "execution_count": 199,
      "outputs": [
        {
          "output_type": "stream",
          "name": "stdout",
          "text": [
            "Requirement already satisfied: torchinfo in /usr/local/lib/python3.12/dist-packages (1.8.0)\n"
          ]
        }
      ]
    },
    {
      "cell_type": "code",
      "source": [
        "from torchinfo import summary"
      ],
      "metadata": {
        "id": "nAouumSPzJNN"
      },
      "execution_count": 200,
      "outputs": []
    },
    {
      "cell_type": "code",
      "source": [
        "model=None\n",
        "checkpoint=None\n",
        "optimizer=None\n",
        "if(config[\"preload\"]==False):\n",
        "  print(\"model being initialized\")\n",
        "  model=EncoderDecoder(english_vocab_size,german_vocab_size,batch_size=config[\"batch_size\"],\n",
        "                       sentence_len=config[\"max_len\"],\n",
        "                       num_heads=config[\"num_heads\"],\n",
        "                       d_model=config[\"d_model\"],\n",
        "                       ffn_dim=config[\"ffn_dim\"],\n",
        "                       num_layers=config[\"num_layers\"])\n",
        "  optimizer = torch.optim.Adam(model.parameters(), lr=config[\"learning_rate\"],eps=config[\"label_smoothing\"])\n",
        "  torch.save({\n",
        "              \"model_state_dict\": model.state_dict(),\n",
        "              \"optimizer_state_dict\": optimizer.state_dict(),\n",
        "              \"current_epochs\":config[\"current_epochs\"],\n",
        "              \"current_segment\":config[\"segment\"]\n",
        "              },\n",
        "\n",
        "             PATH)\n",
        "else:\n",
        "  print(\"model loading\")\n",
        "  checkpoint=torch.load(PATH, weights_only=False,map_location=device)\n",
        "  # create the  the model\n",
        "  model=EncoderDecoder(english_vocab_size,german_vocab_size,batch_size=config[\"batch_size\"],\n",
        "                       sentence_len=config[\"max_len\"],\n",
        "                       num_heads=config[\"num_heads\"],\n",
        "                       d_model=config[\"d_model\"],\n",
        "                       ffn_dim=config[\"ffn_dim\"],\n",
        "                       num_layers=config[\"num_layers\"])\n",
        "  model.load_state_dict(checkpoint['model_state_dict'])\n",
        "  # i have exported the model s parameter to the gpu\n",
        "  model.to(device)\n",
        "  # make sure to create the instance of the optimizer after u have imported the tensor of\n",
        "  # the model to the gpu\n",
        "  #creating the optimizer instance\n",
        "  optimizer = torch.optim.Adam(model.parameters(), lr=config[\"learning_rate\"],\n",
        "                             eps=config[\"label_smoothing\"])\n",
        "  optimizer.load_state_dict(checkpoint['optimizer_state_dict'])"
      ],
      "metadata": {
        "id": "gdOgLiZEuEgr",
        "colab": {
          "base_uri": "https://localhost:8080/"
        },
        "outputId": "2a9381b5-ddec-4440-8b52-b24d5adb402a"
      },
      "execution_count": 238,
      "outputs": [
        {
          "output_type": "stream",
          "name": "stdout",
          "text": [
            "model loading\n"
          ]
        }
      ]
    },
    {
      "cell_type": "code",
      "source": [
        "german_tokenizer.decode(0)"
      ],
      "metadata": {
        "colab": {
          "base_uri": "https://localhost:8080/",
          "height": 35
        },
        "id": "q0KjypqpSkL9",
        "outputId": "b0812252-6b36-49f2-8566-df59051aa918"
      },
      "execution_count": 202,
      "outputs": [
        {
          "output_type": "execute_result",
          "data": {
            "text/plain": [
              "'[PAD]'"
            ],
            "application/vnd.google.colaboratory.intrinsic+json": {
              "type": "string"
            }
          },
          "metadata": {},
          "execution_count": 202
        }
      ]
    },
    {
      "cell_type": "code",
      "source": [
        "segment=config[\"segment\"]\n",
        "data_path=config[\"data_path\"]\n",
        "current_epoch=config[\"current_epochs\"]\n"
      ],
      "metadata": {
        "id": "b2X5R2JQ-5iw"
      },
      "execution_count": 240,
      "outputs": []
    },
    {
      "cell_type": "markdown",
      "source": [
        "# **Training mode for the transformer**"
      ],
      "metadata": {
        "id": "xrF51ahqBJ0_"
      }
    },
    {
      "cell_type": "code",
      "source": [
        "criterion = nn.CrossEntropyLoss(ignore_index=0).to(device)"
      ],
      "metadata": {
        "id": "uKdZBvUU68Zi"
      },
      "execution_count": 241,
      "outputs": []
    },
    {
      "cell_type": "code",
      "source": [
        "model.train()\n",
        "next(model.parameters()).device"
      ],
      "metadata": {
        "id": "-GGIg7V_BhSG",
        "colab": {
          "base_uri": "https://localhost:8080/"
        },
        "outputId": "65929852-1572-46ec-eaa5-5ef2b5d38a8f"
      },
      "execution_count": 242,
      "outputs": [
        {
          "output_type": "execute_result",
          "data": {
            "text/plain": [
              "device(type='cuda', index=0)"
            ]
          },
          "metadata": {},
          "execution_count": 242
        }
      ]
    },
    {
      "cell_type": "code",
      "source": [
        "from torch.utils.tensorboard import SummaryWriter\n",
        "writer=SummaryWriter(log_dir=config[\"logs\"])"
      ],
      "metadata": {
        "id": "n5FKoSavXy0y"
      },
      "execution_count": 243,
      "outputs": []
    },
    {
      "cell_type": "code",
      "source": [
        "\n",
        "for running_epoch in range(current_epoch,config[\"total_epochs\"]):\n",
        " for segment in range(segment,config[\"total_segments\"]):\n",
        "  count=0\n",
        "  data_processed=get_chunk(data_path=data_path,segment=segment,max_len=config[\"max_len\"],batch_size=config[\"batch_size\"])\n",
        "  for batch,target in data_processed:\n",
        "    if (count%100==0):\n",
        "     print(f\"\\033[92mEpoch: {running_epoch}, Segment: {segment}, Loss: {loss.item()}\\033[0m\")\n",
        "     #save the model\n",
        "\n",
        "     torch.save({\n",
        "     \"model_state_dict\": model.state_dict(),\n",
        "     \"optimizer_state_dict\": optimizer.state_dict(),\n",
        "     \"current_epochs\":running_epoch,\n",
        "     \"current_segment\":segment\n",
        "     },PATH\n",
        "     )\n",
        "     #update the configuration file\n",
        "     config[\"segment\"]=segment\n",
        "     config[\"current_epochs\"]=running_epoch\n",
        "     config[\"preload\"]=True\n",
        "     update_json(file_path=\"/content/configure.json\",updates=config)\n",
        "    batch=batch.to(device) # Move batch to the device\n",
        "    target=target.to(device) # Move target to the device\n",
        "    output_decoder = model(batch,target)\n",
        "    # Assuming output_decoder has shape (batch_size, sequence_length, d_model)\n",
        "    # Assuming target has shape (batch_size, sequence_length)\n",
        "    # Reshape for CrossEntropyLoss\n",
        "    loss=criterion(output_decoder.view(-1, german_vocab_size), target.view(-1)) # Use german_vocab_size for target\n",
        "    print(f\"loss={loss}\",end=\"|\")\n",
        "    writer.add_scalar(\"Loss/train\",loss,count)\n",
        "    count+=1\n",
        "    writer.flush()\n",
        "    optimizer.zero_grad()\n",
        "    loss.backward()\n",
        "    # adjust the weights of the model\n",
        "    optimizer.step()\n",
        "  # ANSI color codes for green text\n",
        "  print(f\"\\033[92mEpoch: {running_epoch}, Segment: {segment}, Loss: {loss.item()}\\033[0m\")\n",
        "  #save the model\n",
        "  torch.save({\n",
        "    \"model_state_dict\": model.state_dict(),\n",
        "    \"optimizer_state_dict\": optimizer.state_dict(),\n",
        "    \"current_epochs\":running_epoch,\n",
        "    \"current_segment\":segment\n",
        "  },PATH\n",
        "  )\n",
        "  #update the configuration file\n",
        "  config[\"segment\"]=segment\n",
        "  config[\"current_epochs\"]=running_epoch\n",
        "  config[\"preload\"]=True\n",
        "  update_json(file_path=\"/content/configure.json\",updates=config)"
      ],
      "metadata": {
        "colab": {
          "base_uri": "https://localhost:8080/"
        },
        "outputId": "4aa7ef6a-d0a3-43f1-9b5d-3a60006e5c68",
        "id": "1QExX5R7mOZj"
      },
      "execution_count": null,
      "outputs": [
        {
          "output_type": "stream",
          "name": "stdout",
          "text": [
            "\u001b[92mEpoch: 0, Segment: 1, Loss: 3.5624186992645264\u001b[0m\n",
            "✅ File '/content/configure.json' updated successfully!\n",
            "loss=3.570469856262207|loss=3.4923269748687744|loss=3.154867172241211|loss=3.6504569053649902|loss=3.785153388977051|loss=3.907606363296509|loss=3.880328893661499|loss=3.7575502395629883|loss=3.3807549476623535|loss=4.021688938140869|"
          ]
        }
      ]
    },
    {
      "cell_type": "code",
      "source": [
        "device"
      ],
      "metadata": {
        "colab": {
          "base_uri": "https://localhost:8080/",
          "height": 35
        },
        "id": "g2OBZecj2fas",
        "outputId": "0a08eb9a-e2db-470b-e016-e7a6db6ad998"
      },
      "execution_count": 208,
      "outputs": [
        {
          "output_type": "execute_result",
          "data": {
            "text/plain": [
              "'cuda'"
            ],
            "application/vnd.google.colaboratory.intrinsic+json": {
              "type": "string"
            }
          },
          "metadata": {},
          "execution_count": 208
        }
      ]
    },
    {
      "cell_type": "code",
      "metadata": {
        "id": "1d20f7ab"
      },
      "source": [
        "%load_ext tensorboard\n",
        "%tensorboard --logdir {config[\"logs\"]}"
      ],
      "execution_count": null,
      "outputs": []
    },
    {
      "cell_type": "code",
      "source": [],
      "metadata": {
        "id": "C1YfQUf6Dehp"
      },
      "execution_count": null,
      "outputs": []
    }
  ],
  "metadata": {
    "language_info": {
      "name": "python"
    },
    "colab": {
      "provenance": [],
      "gpuType": "T4"
    },
    "kernelspec": {
      "name": "python3",
      "display_name": "Python 3"
    },
    "accelerator": "GPU"
  },
  "nbformat": 4,
  "nbformat_minor": 0
}