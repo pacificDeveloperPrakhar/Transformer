{
  "cells": [
    {
      "cell_type": "markdown",
      "metadata": {
        "id": "1OLJd-5ebXwZ"
      },
      "source": [
        "# Attention Head\n",
        "* so in transformer we do use multiplicative attention ,there are two type of attention one is additive and other is scale dot attention\n",
        "* so in research paper  \"attention all u need\" they hav incorported multiplicative attention\n",
        "* i assume it just involves addition rather than the multiplication to calculate the score\n",
        "\n",
        "dimension of data (directly proportional to) variance\n",
        "\n",
        "hence the scailing down is down by (dimension of model)**(1/2)\n"
      ]
    },
    {
      "cell_type": "code",
      "execution_count": 143,
      "metadata": {
        "vscode": {
          "languageId": "plaintext"
        },
        "id": "CzU2wqPxbXwe"
      },
      "outputs": [],
      "source": [
        "import torch\n",
        "import numpy as np"
      ]
    },
    {
      "cell_type": "code",
      "source": [
        "#utility function look ahead mask\n",
        "def create_look_ahead_mask(seq_len):\n",
        "    mask = torch.triu(torch.ones(seq_len, seq_len), diagonal=1)\n",
        "    mask = mask.masked_fill(mask == 1, float('-inf'))\n",
        "    return mask  # shape: (seq_len, seq_len)\n"
      ],
      "metadata": {
        "id": "8YfQpactRqXQ"
      },
      "execution_count": 144,
      "outputs": []
    },
    {
      "cell_type": "code",
      "execution_count": 145,
      "metadata": {
        "vscode": {
          "languageId": "plaintext"
        },
        "id": "Nqt4k4TZbXwg"
      },
      "outputs": [],
      "source": [
        "#it has been modified to process the 3d data where the data across the z index correspond to each head\n",
        "\n",
        "def attention_head(queries, keys, values, dropout=None, mask=None):\n",
        "\n",
        "  # Calculate the attention scores\n",
        "  # Scores will have shape (batch_size * sequence_length, batch_size * sequence_length)\n",
        "  d_k = keys.size(-1)\n",
        "  scores = torch.matmul(queries, keys.transpose(-2, -1))\n",
        "  scores = scores / d_k**0.5\n",
        "\n",
        "#now this look ahead mask will be used in the decoder\n",
        "  if mask is not None:\n",
        "# mask should be broadcastable to the shape of the scores tensor\n",
        "# for 3d input, the mask should have shape (num_heads,batch_size * sequence_length, batch_size * sequence_length)\n",
        "      scores = scores.masked_fill(mask == 0, -1e9)\n",
        "\n",
        "  # row mean -1 and -2 means col\n",
        "  scores = scores.softmax(dim=-1) # apply softmax across the row dimension (keys)\n",
        "\n",
        "\n",
        "  # Apply dropout\n",
        "  if dropout is not None:\n",
        "      scores = dropout(scores)\n",
        "\n",
        "  # Apply scores to values\n",
        "  weighted_sum = torch.matmul(scores, values)\n",
        "\n",
        "  return weighted_sum"
      ]
    },
    {
      "cell_type": "markdown",
      "metadata": {
        "id": "QH-ZKMXxbXwh"
      },
      "source": [
        "### we will test our attention head with custom args"
      ]
    },
    {
      "cell_type": "code",
      "execution_count": 146,
      "metadata": {
        "vscode": {
          "languageId": "plaintext"
        },
        "id": "cC7WM8lEbXwi"
      },
      "outputs": [],
      "source": [
        "import torch"
      ]
    },
    {
      "cell_type": "code",
      "execution_count": 147,
      "metadata": {
        "vscode": {
          "languageId": "plaintext"
        },
        "colab": {
          "base_uri": "https://localhost:8080/"
        },
        "id": "_2oq3wzDbXwi",
        "outputId": "3b5f4b84-8428-40ef-ed92-800249f9c797"
      },
      "outputs": [
        {
          "output_type": "stream",
          "name": "stdout",
          "text": [
            "Sample Keys Shape: torch.Size([6, 2])\n",
            "Sample Queries Shape: torch.Size([6, 2])\n",
            "Sample Values Shape: torch.Size([6, 2])\n",
            "Attention head output shape: torch.Size([6, 2])\n"
          ]
        }
      ],
      "source": [
        "# Define input dimensions\n",
        "batch_size = 2\n",
        "sequence_length = 3\n",
        "embedding_dim = 4\n",
        "num_heads = 2\n",
        "head_dim = embedding_dim // num_heads\n",
        "\n",
        "# Create sample input tensors with compatible shapes\n",
        "# Embeddings are now 2D: (batch_size * sequence_length, embedding_dim)\n",
        "sample_embeddings = torch.randn(batch_size * sequence_length, embedding_dim)\n",
        "\n",
        "# Create dummy linear layers that output the expected shape for attention_head\n",
        "# The linear layers now expect an input shape of (batch_size * sequence_length, embedding_dim)\n",
        "# and output a shape of (batch_size * sequence_length, head_dim)\n",
        "dummy_key_linear = torch.nn.Linear(embedding_dim, head_dim)\n",
        "dummy_query_linear = torch.nn.Linear(embedding_dim, head_dim)\n",
        "dummy_value_linear = torch.nn.Linear(embedding_dim, head_dim)\n",
        "\n",
        "# Create a dummy dropout layer\n",
        "dummy_dropout = torch.nn.Dropout(0.1)\n",
        "\n",
        "# Create a dummy mask\n",
        "# The mask should have shape (batch_size * sequence_length, batch_size * sequence_length) for 2D input\n",
        "dummy_mask = torch.ones(batch_size * sequence_length, batch_size * sequence_length) # Assuming no masking for simplicity\n",
        "\n",
        "# Pass the sample_embeddings through the dummy linear layers to get the keys, queries, and values tensors\n",
        "# These tensors should have shape (batch_size * sequence_length, head_dim)\n",
        "sample_keys = dummy_key_linear(sample_embeddings)\n",
        "sample_queries = dummy_query_linear(sample_embeddings)\n",
        "sample_values = dummy_value_linear(sample_embeddings)\n",
        "\n",
        "print(\"Sample Keys Shape:\", sample_keys.shape)\n",
        "print(\"Sample Queries Shape:\", sample_queries.shape)\n",
        "print(\"Sample Values Shape:\", sample_values.shape)\n",
        "\n",
        "# Test the attention_head function with the compatible inputs\n",
        "\n",
        "  # attention_head now expects 2D inputs for keys, queries, and values\n",
        "attention_output = attention_head(sample_queries, sample_keys, sample_values, dummy_dropout, dummy_mask)\n",
        "print(\"Attention head output shape:\", attention_output.shape)\n"
      ]
    },
    {
      "cell_type": "markdown",
      "metadata": {
        "id": "YNoBdoFJbXwj"
      },
      "source": [
        "# testing for the 3d inputs"
      ]
    },
    {
      "cell_type": "code",
      "execution_count": 148,
      "metadata": {
        "vscode": {
          "languageId": "plaintext"
        },
        "colab": {
          "base_uri": "https://localhost:8080/"
        },
        "id": "YVz2NLMGbXwj",
        "outputId": "acfb1cf9-2b19-429e-cc1b-d4c7cce924b1"
      },
      "outputs": [
        {
          "output_type": "stream",
          "name": "stdout",
          "text": [
            "Sample Keys Shape: torch.Size([6, 2])\n",
            "Sample Queries Shape: torch.Size([6, 2])\n",
            "Sample Values Shape: torch.Size([6, 2])\n",
            "Attention head output shape: torch.Size([6, 2])\n"
          ]
        }
      ],
      "source": [
        "# Define input dimensions\n",
        "batch_size = 2\n",
        "sequence_length = 3\n",
        "embedding_dim = 4\n",
        "num_heads = 2\n",
        "head_dim = embedding_dim // num_heads\n",
        "\n",
        "# Create sample input tensors with compatible shapes\n",
        "# Embeddings are now 2D: (batch_size * sequence_length, embedding_dim)\n",
        "sample_embeddings = torch.randn(batch_size * sequence_length, embedding_dim)\n",
        "\n",
        "# Create dummy linear layers that output the expected shape for attention_head\n",
        "# The linear layers now expect an input shape of (batch_size * sequence_length, embedding_dim)\n",
        "# and output a shape of (batch_size * sequence_length, head_dim)\n",
        "dummy_key_linear = torch.nn.Linear(embedding_dim, head_dim)\n",
        "dummy_query_linear = torch.nn.Linear(embedding_dim, head_dim)\n",
        "dummy_value_linear = torch.nn.Linear(embedding_dim, head_dim)\n",
        "\n",
        "# Create a dummy dropout layer\n",
        "dummy_dropout = torch.nn.Dropout(0.1)\n",
        "\n",
        "# Create a dummy mask\n",
        "# The mask should have shape (batch_size * sequence_length, batch_size * sequence_length) for 2D input\n",
        "dummy_mask = torch.ones(batch_size * sequence_length, batch_size * sequence_length) # Assuming no masking for simplicity\n",
        "\n",
        "# Pass the sample_embeddings through the dummy linear layers to get the keys, queries, and values tensors\n",
        "# These tensors should have shape (batch_size * sequence_length, head_dim)\n",
        "sample_keys = dummy_key_linear(sample_embeddings)\n",
        "sample_queries = dummy_query_linear(sample_embeddings)\n",
        "sample_values = dummy_value_linear(sample_embeddings)\n",
        "\n",
        "print(\"Sample Keys Shape:\", sample_keys.shape)\n",
        "print(\"Sample Queries Shape:\", sample_queries.shape)\n",
        "print(\"Sample Values Shape:\", sample_values.shape)\n",
        "\n",
        "# Test the attention_head function with the compatible inputs\n",
        "\n",
        "  # attention_head now expects 2D inputs for keys, queries, and values\n",
        "attention_output = attention_head(sample_queries, sample_keys, sample_values, dummy_dropout, dummy_mask)\n",
        "print(\"Attention head output shape:\", attention_output.shape)\n"
      ]
    },
    {
      "cell_type": "markdown",
      "metadata": {
        "id": "7SGjTEnfbXwk"
      },
      "source": [
        "# Multi Head Attention\n",
        "#### we create tunable parameters for each head one for query ,key and value"
      ]
    },
    {
      "cell_type": "code",
      "execution_count": 149,
      "metadata": {
        "vscode": {
          "languageId": "plaintext"
        },
        "id": "pZRQRkSobXwk"
      },
      "outputs": [],
      "source": [
        "import torch.nn as nn\n",
        "\n",
        "\n",
        "class MultiHeadAttention(nn.Module):\n",
        "  def __init__(self,heads,d_model,dropout=0.01,mask=None):\n",
        "     super(MultiHeadAttention,self).__init__();\n",
        "     self.heads=heads;\n",
        "     self.d_model=d_model;\n",
        "     self.d_key=d_model//heads;\n",
        "     # Linear layers for query, key, value, and projection\n",
        "     self.query_linears = nn.Linear(d_model, d_model)\n",
        "     self.key_linears   = nn.Linear(d_model, d_model)\n",
        "     self.value_linears = nn.Linear(d_model, d_model)\n",
        "     self.mask=mask\n",
        "     #prjection layer will be used to project the concatenated output of all heads to the end of attention in the multihead attention\n",
        "     self.projection_layer=nn.Linear(d_model,self.d_model)\n",
        "     #this field is for debugging purposes\n",
        "     self.attn=None\n",
        "     self.dropout=nn.Dropout(dropout);\n",
        "\n",
        "  def forward(self,input_embedding,encoder_output_embedding=None):\n",
        "    head_dim=self.d_model//self.heads;\n",
        "    queries=self.query_linears(input_embedding).view(self.heads,-1,head_dim);\n",
        "    keys=self.key_linears(input_embedding).view(self.heads,-1,head_dim) if(encoder_output_embedding==None) else self.key_linears(encoder_output_embedding).view(self.heads,-1,head_dim);\n",
        "    values=self.value_linears(input_embedding).view(self.heads,-1,head_dim) if(encoder_output_embedding==None) else self.value_linears(encoder_output_embedding).view(self.heads,-1,head_dim);\n",
        "    dropout = torch.nn.Dropout(0.1)\n",
        "    result=attention_head(queries,keys,values,dropout=dropout,).view(-1,self.d_model)\n",
        "    return self.projection_layer(result)\n"
      ]
    },
    {
      "cell_type": "code",
      "execution_count": 150,
      "metadata": {
        "vscode": {
          "languageId": "plaintext"
        },
        "id": "7hxrPVmSU93i"
      },
      "outputs": [],
      "source": [
        "import torch.nn as nn\n",
        "\n",
        "\n",
        "class MultiHeadAttention(nn.Module):\n",
        "  def __init__(self,heads,d_model,dropout=0.01,mask=None):\n",
        "     super(MultiHeadAttention,self).__init__();\n",
        "     self.heads=heads;\n",
        "     self.d_model=d_model;\n",
        "     self.d_key=d_model//heads;\n",
        "     # Linear layers for query, key, value, and projection\n",
        "     self.query_linears = nn.Linear(d_model, d_model)\n",
        "     self.key_linears   = nn.Linear(d_model, d_model)\n",
        "     self.value_linears = nn.Linear(d_model, d_model)\n",
        "     self.mask=mask\n",
        "     #prjection layer will be used to project the concatenated output of all heads to the end of attention in the multihead attention\n",
        "     self.projection_layer=nn.Linear(d_model,self.d_model)\n",
        "     #this field is for debugging purposes\n",
        "     self.attn=None\n",
        "     self.dropout=nn.Dropout(dropout);\n",
        "\n",
        "  def forward(self,input_embedding,encoder_output_embedding=None):\n",
        "    head_dim=self.d_model//self.heads;\n",
        "    queries=self.query_linears(input_embedding).view(self.heads,-1,head_dim);\n",
        "    keys=self.key_linears(input_embedding).view(self.heads,-1,head_dim) if(encoder_output_embedding==None) else self.key_linears(encoder_output_embedding).view(self.heads,-1,head_dim);\n",
        "    values=self.value_linears(input_embedding).view(self.heads,-1,head_dim) if(encoder_output_embedding==None) else self.value_linears(encoder_output_embedding).view(self.heads,-1,head_dim);\n",
        "    dropout = torch.nn.Dropout(0.1)\n",
        "    result=attention_head(queries,keys,values,dropout=dropout,mask=self.mask).view(-1,self.d_model)\n",
        "    return self.projection_layer(result)\n"
      ]
    },
    {
      "cell_type": "code",
      "execution_count": 151,
      "metadata": {
        "vscode": {
          "languageId": "plaintext"
        },
        "colab": {
          "base_uri": "https://localhost:8080/"
        },
        "id": "oTfOgW5QbXwl",
        "outputId": "7b94714c-ff57-4190-e9e4-9e56fec240e2"
      },
      "outputs": [
        {
          "output_type": "stream",
          "name": "stdout",
          "text": [
            "Input embedding shape: torch.Size([2, 10, 128])\n",
            "Output shape: torch.Size([20, 128])\n"
          ]
        }
      ],
      "source": [
        "import torch\n",
        "\n",
        "# Define parameters for MultiHeadAttention\n",
        "heads = 4\n",
        "d_model = 128 # Make sure d_model is divisible by heads\n",
        "dropout_prob = 0.1\n",
        "\n",
        "# Create a dummy input embedding\n",
        "batch_size = 2\n",
        "sequence_length = 10\n",
        "input_embedding = torch.randn(batch_size, sequence_length, d_model)\n",
        "\n",
        "# Create an instance of MultiHeadAttention\n",
        "multi_head_attention = MultiHeadAttention(heads, d_model, dropout=dropout_prob)\n",
        "\n",
        "# Test the forward method\n",
        "output = multi_head_attention(input_embedding)\n",
        "\n",
        "print(\"Input embedding shape:\", input_embedding.shape)\n",
        "print(\"Output shape:\", output.shape)"
      ]
    },
    {
      "cell_type": "markdown",
      "metadata": {
        "id": "aMpOrRGKbXwm"
      },
      "source": [
        "# Adding the add and normalize layer"
      ]
    },
    {
      "cell_type": "code",
      "execution_count": 152,
      "metadata": {
        "vscode": {
          "languageId": "plaintext"
        },
        "id": "3uju5noWbXwm"
      },
      "outputs": [],
      "source": [
        "# this add and normalize layer will be used in the subsidual linkage\n",
        "# this subisidual is used to acoid the diminishing effect or influence of the original input\n",
        "def add_norm(prev,input):\n",
        "  result=prev+input;\n",
        "  return torch.nn.functional.normalize(result);"
      ]
    },
    {
      "cell_type": "markdown",
      "metadata": {
        "id": "7ft_8-pcbXwm"
      },
      "source": [
        "# Adding the position wise feed forward"
      ]
    },
    {
      "cell_type": "code",
      "execution_count": 153,
      "metadata": {
        "vscode": {
          "languageId": "plaintext"
        },
        "id": "yHTEEM7cbXwn"
      },
      "outputs": [],
      "source": [
        "class PositionWiseFFN(nn.Module):\n",
        "  def __init__(self,d_model,d_ff,dropout=0.1):\n",
        "    super(PositionWiseFFN,self).__init__();\n",
        "    self.linear1=nn.Linear(d_model,d_ff);\n",
        "    self.linear2=nn.Linear(d_ff,d_model);\n",
        "    self.dropout=nn.Dropout(dropout);\n",
        "\n",
        "  def forward(self,x):\n",
        "    x=self.linear1(x);\n",
        "    x=torch.relu(x);\n",
        "    x=self.dropout(x);\n",
        "    x=self.linear2(x);\n",
        "    return x;\n"
      ]
    },
    {
      "cell_type": "markdown",
      "metadata": {
        "id": "1a_TlrPybXwn"
      },
      "source": [
        "# test case for the position wise feed forward network"
      ]
    },
    {
      "cell_type": "code",
      "execution_count": 154,
      "metadata": {
        "vscode": {
          "languageId": "plaintext"
        },
        "colab": {
          "base_uri": "https://localhost:8080/"
        },
        "id": "p05werjZbXwn",
        "outputId": "c1a0f6a5-df70-43b0-e510-5222b224bd77"
      },
      "outputs": [
        {
          "output_type": "stream",
          "name": "stdout",
          "text": [
            "Sample Input Shape for PositionWiseFFN: torch.Size([6, 4])\n",
            "tensor([[ 1.5502, -0.1603,  1.2397,  0.7833],\n",
            "        [ 0.6445,  0.8216, -1.5646, -0.7228],\n",
            "        [-1.6822,  2.7481,  1.0679, -1.5520],\n",
            "        [ 0.2382,  0.5249,  0.4163,  0.0434],\n",
            "        [ 0.7894,  0.6238,  1.3708,  1.2229],\n",
            "        [ 0.6320, -1.9641,  0.2120,  0.1628]])\n",
            "PositionWiseFFN Output Shape: tensor([[ 0.3037,  0.3611,  0.2620, -0.3095],\n",
            "        [ 0.5149,  0.1915,  0.3640, -0.0378],\n",
            "        [ 0.8832,  0.3718,  0.4403, -0.2837],\n",
            "        [ 0.3152,  0.1975,  0.0564, -0.1513],\n",
            "        [ 0.3031,  0.2811, -0.0637, -0.0884],\n",
            "        [ 0.7910,  0.5492,  0.2841, -0.4899]], grad_fn=<AddmmBackward0>)\n"
          ]
        }
      ],
      "source": [
        "# Test case for PositionWiseFFN\n",
        "\n",
        "# Define input dimensions\n",
        "batch_size = 2\n",
        "sequence_length = 3\n",
        "embedding_dim = 4\n",
        "d_ff = 8 # Dimension of the feed-forward hidden layer\n",
        "\n",
        "# Create sample input tensor with shape (batch_size * sequence_length, embedding_dim)\n",
        "sample_input = torch.randn(batch_size * sequence_length, embedding_dim)\n",
        "\n",
        "print(\"Sample Input Shape for PositionWiseFFN:\", sample_input.shape)\n",
        "\n",
        "# Instantiate the PositionWiseFFN module\n",
        "position_wise_ffn = PositionWiseFFN(d_model=embedding_dim, d_ff=d_ff)\n",
        "\n",
        "# Pass the sample input through the PositionWiseFFN module\n",
        "try:\n",
        "  print(sample_input)\n",
        "  output_ffn = position_wise_ffn(sample_input)\n",
        "  print(\"PositionWiseFFN Output Shape:\", output_ffn)\n",
        "except Exception as e:\n",
        "  print(f\"An error occurred during the PositionWiseFFN test: {e}\")"
      ]
    },
    {
      "cell_type": "markdown",
      "source": [
        "# Embedding Layer implementation"
      ],
      "metadata": {
        "id": "EwzfP4V_dSxv"
      }
    },
    {
      "cell_type": "code",
      "source": [
        "class EmbeddingLayer(nn.Module):\n",
        "  def __init__(self,vocab_size,d_model) -> None:\n",
        "    super(EmbeddingLayer,self).__init__()\n",
        "    self.vocab_size=vocab_size\n",
        "    self.d_model=d_model\n",
        "    self.embedding_layer=nn.Embedding(vocab_size,d_model)\n",
        "  def forward(self,x):\n",
        "    return self.embedding_layer(x)*(self.d_model**(1/2))"
      ],
      "metadata": {
        "id": "v-ygw8KvdroK"
      },
      "execution_count": 155,
      "outputs": []
    },
    {
      "cell_type": "code",
      "metadata": {
        "colab": {
          "base_uri": "https://localhost:8080/"
        },
        "outputId": "9735db49-e7a1-49fe-b354-b424b7278ddc",
        "id": "1d-8MSfNkP4b"
      },
      "source": [
        "import torch\n",
        "import torch.nn as nn\n",
        "\n",
        "# Define source and target vocabulary sizes and embedding dimension\n",
        "src_vocab_size = 1000\n",
        "tgt_vocab_size = 2000\n",
        "d_model = 128\n",
        "\n",
        "# Create embedding layers\n",
        "src_embedding_layer = nn.Embedding(src_vocab_size, d_model)\n",
        "tgt_embedding_layer = nn.Embedding(tgt_vocab_size, d_model)\n",
        "\n",
        "# Example usage with dummy input tensors (token IDs)\n",
        "batch_size = 2\n",
        "sequence_length = 10\n",
        "\n",
        "sample_source_input_tokens = torch.randint(0, src_vocab_size, (batch_size, sequence_length))\n",
        "sample_target_input_tokens = torch.randint(0, tgt_vocab_size, (batch_size, sequence_length))\n",
        "\n",
        "# Embed the input tokens\n",
        "source_embedded = src_embedding_layer(sample_source_input_tokens)\n",
        "target_embedded = tgt_embedding_layer(sample_target_input_tokens)\n",
        "\n",
        "print(\"Source Embedded Shape:\", source_embedded.shape)\n",
        "print(\"Target Embedded Shape:\", target_embedded.shape)"
      ],
      "execution_count": 156,
      "outputs": [
        {
          "output_type": "stream",
          "name": "stdout",
          "text": [
            "Source Embedded Shape: torch.Size([2, 10, 128])\n",
            "Target Embedded Shape: torch.Size([2, 10, 128])\n"
          ]
        }
      ]
    },
    {
      "cell_type": "markdown",
      "metadata": {
        "id": "A2Sjxx52bXwo"
      },
      "source": [
        "# Adding positional encoding"
      ]
    },
    {
      "cell_type": "code",
      "execution_count": 157,
      "metadata": {
        "vscode": {
          "languageId": "plaintext"
        },
        "id": "I_AUEWSHbXwo"
      },
      "outputs": [],
      "source": [
        "import numpy as np\n",
        "def get_position_encoding(seq_len, d_model, n=10000):\n",
        "\n",
        "    P = torch.zeros((seq_len, d_model))\n",
        "\n",
        "    for pos in range(seq_len):\n",
        "\n",
        "        for i in range(d_model):\n",
        "\n",
        "            angle = pos / np.power(n, (2 * (i // 2)) / d_model)\n",
        "\n",
        "            P[pos, i] = np.sin(angle) if i % 2 == 0 else np.cos(angle)\n",
        "\n",
        "    return P"
      ]
    },
    {
      "cell_type": "code",
      "execution_count": 158,
      "metadata": {
        "vscode": {
          "languageId": "plaintext"
        },
        "colab": {
          "base_uri": "https://localhost:8080/"
        },
        "id": "Ukbwao5LbXwo",
        "outputId": "ea0a00f7-6267-4998-d2d3-356cdeb8e6c2"
      },
      "outputs": [
        {
          "output_type": "stream",
          "name": "stdout",
          "text": [
            "Position Encoding Shape: torch.Size([1, 10])\n",
            "Position Encoding:\n",
            " tensor([[0., 1., 0., 1., 0., 1., 0., 1., 0., 1.]])\n"
          ]
        }
      ],
      "source": [
        "# Test case for get_position_encoding\n",
        "\n",
        "# Define parameters for testing\n",
        "seq_len = 1\n",
        "d_model = 10\n",
        "\n",
        "# Get positional encoding\n",
        "position_encoding = get_position_encoding(seq_len, d_model)\n",
        "\n",
        "print(\"Position Encoding Shape:\", position_encoding.shape)\n",
        "print(\"Position Encoding:\\n\", position_encoding)"
      ]
    },
    {
      "cell_type": "code",
      "execution_count": 159,
      "metadata": {
        "vscode": {
          "languageId": "plaintext"
        },
        "colab": {
          "base_uri": "https://localhost:8080/",
          "height": 558
        },
        "id": "IPCn9VmNbXwo",
        "outputId": "cfa44a80-18ef-4de4-cd70-8d136e032c8e"
      },
      "outputs": [
        {
          "output_type": "display_data",
          "data": {
            "text/plain": [
              "<Figure size 1200x600 with 2 Axes>"
            ],
            "image/png": "[encoded data removed]"
          },
          "metadata": {}
        }
      ],
      "source": [
        "import matplotlib.pyplot as plt\n",
        "import seaborn as sns\n",
        "\n",
        "# Define parameters (you can adjust these)\n",
        "seq_len = 50\n",
        "d_model = 128\n",
        "\n",
        "# Get positional encoding\n",
        "position_encoding = get_position_encoding(seq_len, d_model)\n",
        "\n",
        "# Visualize the positional encoding\n",
        "plt.figure(figsize=(12, 6))\n",
        "sns.heatmap(position_encoding.numpy(), cmap=\"viridis\")\n",
        "plt.title(\"Positional Encoding Heatmap\")\n",
        "plt.xlabel(\"Embedding Dimension\")\n",
        "plt.ylabel(\"Position in Sequence\")\n",
        "plt.show()"
      ]
    },
    {
      "cell_type": "markdown",
      "metadata": {
        "id": "JR5TvBEjbXwp"
      },
      "source": [
        "# creating the add and normalisation layer"
      ]
    },
    {
      "cell_type": "code",
      "execution_count": 160,
      "metadata": {
        "vscode": {
          "languageId": "plaintext"
        },
        "id": "rINo-D81bXwp"
      },
      "outputs": [],
      "source": [
        "def add_norm(prev,input):\n",
        "  result=prev+input;\n",
        "  return torch.nn.functional.normalize(result);"
      ]
    },
    {
      "cell_type": "markdown",
      "metadata": {
        "id": "yX6TLvICbXwp"
      },
      "source": [
        "# Creating the Encoder Sublayer"
      ]
    },
    {
      "cell_type": "code",
      "execution_count": 161,
      "metadata": {
        "vscode": {
          "languageId": "plaintext"
        },
        "id": "EF07KzoebXwp"
      },
      "outputs": [],
      "source": [
        "class EncoderSublayer(nn.Module):\n",
        "  def __init__(self,d_model,num_heads,ffn_dim) -> None:\n",
        "    super(EncoderSublayer,self).__init__()\n",
        "    self.multihead=MultiHeadAttention(heads=num_heads,d_model=d_model)\n",
        "    self.ffn=PositionWiseFFN(d_model=d_model,d_ff=ffn_dim)\n",
        "    self.d_model=d_model\n",
        "    self.ffn_dim=ffn_dim\n",
        "  def forward(self,input_embeddings):\n",
        "    add_norm_1=add_norm(prev=input_embeddings,input=self.multihead(input_embeddings))\n",
        "    add_norm_2=add_norm(prev=add_norm_1,input=self.ffn(add_norm_1))\n",
        "    return add_norm_2"
      ]
    },
    {
      "cell_type": "markdown",
      "metadata": {
        "id": "0ikSpP-FbXwq"
      },
      "source": [
        "## Adding the test case for the encoder sublayer"
      ]
    },
    {
      "cell_type": "code",
      "execution_count": 162,
      "metadata": {
        "vscode": {
          "languageId": "plaintext"
        },
        "colab": {
          "base_uri": "https://localhost:8080/"
        },
        "id": "W41woPQ7bXwq",
        "outputId": "3bb0008c-dc4e-4201-a455-830494b9d0ee"
      },
      "outputs": [
        {
          "output_type": "stream",
          "name": "stdout",
          "text": [
            "Sample Input Embeddings Shape for EncoderSublayer: torch.Size([6, 4])\n",
            "EncoderSublayer Output Shape: torch.Size([6, 4])\n"
          ]
        }
      ],
      "source": [
        "# Test case for EncoderSublayer\n",
        "\n",
        "# Define input dimensions\n",
        "batch_size = 2\n",
        "sequence_length = 3\n",
        "embedding_dim = 4\n",
        "num_heads = 2\n",
        "ffn_dim = 8 # Dimension of the feed-forward hidden layer\n",
        "\n",
        "# Create sample input embeddings with shape (batch_size * sequence_length, embedding_dim)\n",
        "sample_input_embeddings = torch.randn(batch_size * sequence_length, embedding_dim)\n",
        "\n",
        "print(\"Sample Input Embeddings Shape for EncoderSublayer:\", sample_input_embeddings.shape)\n",
        "\n",
        "# Instantiate the EncoderSublayer module\n",
        "encoder_sublayer = EncoderSublayer(d_model=embedding_dim, num_heads=num_heads, ffn_dim=ffn_dim)\n",
        "\n",
        "# Pass the sample input embeddings through the EncoderSublayer module\n",
        "try:\n",
        "  output_encoder_sublayer = encoder_sublayer(sample_input_embeddings)\n",
        "  print(\"EncoderSublayer Output Shape:\", output_encoder_sublayer.shape)\n",
        "except Exception as e:\n",
        "  print(f\"An error occurred during the EncoderSublayer test: {e}\")"
      ]
    },
    {
      "cell_type": "markdown",
      "source": [
        "# Generator will be used to get the final numerical values from the vectorized output"
      ],
      "metadata": {
        "id": "NbExXDYeOcpZ"
      }
    },
    {
      "cell_type": "code",
      "source": [
        "import torch.nn as nn\n",
        "import torch.nn.functional as F\n",
        "\n",
        "class Generator(nn.Module):\n",
        "    \"Define standard linear + softmax generation step.\"\n",
        "\n",
        "    def __init__(self, d_model, vocab):\n",
        "        super(Generator, self).__init__()\n",
        "        self.proj = nn.Linear(d_model, vocab)\n",
        "\n",
        "    def forward(self, x):\n",
        "        return F.log_softmax(self.proj(x), dim=-1)"
      ],
      "metadata": {
        "id": "75ibmd2WOYtL"
      },
      "execution_count": 163,
      "outputs": []
    },
    {
      "cell_type": "code",
      "source": [
        "# ---------------------------\n",
        "# Test case for Generator\n",
        "# ---------------------------\n",
        "\n",
        "# Define input dimensions\n",
        "batch_size = 1\n",
        "sequence_length = 10\n",
        "d_model = 4\n",
        "vocab_size = 10\n",
        "\n",
        "# Dummy input (like decoder hidden states for 10 tokens)\n",
        "sample_generator_input = torch.randn(batch_size * sequence_length, d_model)\n",
        "print(\"Sample Generator Input Shape:\", sample_generator_input.shape)\n",
        "\n",
        "# Instantiate generator\n",
        "generator = Generator(d_model=d_model, vocab=vocab_size)\n",
        "\n",
        "# Forward pass\n",
        "output_generator = generator(sample_generator_input)\n",
        "print(\"Generator Output Shape:\", output_generator.shape)\n",
        "\n",
        "# ---------------------------\n",
        "# Get NEXT WORD prediction\n",
        "# ---------------------------\n",
        "\n",
        "# Take the last token’s logits (the 10th in the sequence)\n",
        "last_token_logits = output_generator[-1]  # shape: (vocab_size,)\n",
        "print(last_token_logits)\n",
        "# Greedy decoding (argmax)\n",
        "next_token_id = torch.argmax(last_token_logits)\n",
        "print(\"Predicted Next Token ID:\", next_token_id)\n",
        "\n",
        "# Example vocab mapping (you can replace with your german_vocab)\n",
        "# dummy_vocab = {i: f\"token_{i}\" for i in range(vocab_size)}\n",
        "# print(\"Predicted Next Word:\", dummy_vocab[next_token_id])"
      ],
      "metadata": {
        "colab": {
          "base_uri": "https://localhost:8080/"
        },
        "id": "BfaE-XBVObPk",
        "outputId": "5bc9b173-0399-45db-fda6-900118556f21"
      },
      "execution_count": 164,
      "outputs": [
        {
          "output_type": "stream",
          "name": "stdout",
          "text": [
            "Sample Generator Input Shape: torch.Size([10, 4])\n",
            "Generator Output Shape: torch.Size([10, 10])\n",
            "tensor([-3.3804, -3.1859, -1.2145, -2.6592, -3.2353, -1.9069, -2.6890, -1.9590,\n",
            "        -2.6726, -2.3876], grad_fn=<SelectBackward0>)\n",
            "Predicted Next Token ID: tensor(2)\n"
          ]
        }
      ]
    },
    {
      "cell_type": "markdown",
      "metadata": {
        "id": "Gey05zsjbXwq"
      },
      "source": [
        "# Creating the Encoder"
      ]
    },
    {
      "cell_type": "code",
      "execution_count": 165,
      "metadata": {
        "vscode": {
          "languageId": "plaintext"
        },
        "id": "VVNRNAmdbXwr"
      },
      "outputs": [],
      "source": [
        "class Encoder(nn.Module):\n",
        "  def __init__(self,d_model,num_heads,ffn_dim,num_layers,n=None) -> None:\n",
        "    super(Encoder,self).__init__()\n",
        "    self.num_heads=num_heads\n",
        "    self.num_layers=num_layers\n",
        "    self.d_model=d_model\n",
        "    self.ffn_dim=ffn_dim\n",
        "    self.n=n\n",
        "    # Use nn.ModuleList to correctly register sublayer parameters\n",
        "    self.encoder_layers=nn.ModuleList([EncoderSublayer(d_model=d_model,num_heads=num_heads,ffn_dim=ffn_dim) for i in range(0,num_layers)]);\n",
        "  def forward(self,input_embedding): # input_embedding shape is (batch_size * sequence_length, d_model)\n",
        "    pe=None\n",
        "    if (self.n!=None):\n",
        "     pe=get_position_encoding(input_embedding.size(0),self.d_model,self.n)\n",
        "    else:\n",
        "     pe=get_position_encoding(input_embedding.size(0),self.d_model)\n",
        "    print(\"positional encoding\",pe.shape)\n",
        "    print(\"input embedding\",input_embedding.shape)\n",
        "\n",
        "    result=add_norm(prev=input_embedding,input=pe)\n",
        "    for i in range(self.num_layers):\n",
        "      result=self.encoder_layers[i](result)\n",
        "    return result"
      ]
    },
    {
      "cell_type": "markdown",
      "metadata": {
        "id": "97f7caea"
      },
      "source": [
        "## Adding the test case for the Encoder"
      ]
    },
    {
      "cell_type": "code",
      "metadata": {
        "colab": {
          "base_uri": "https://localhost:8080/"
        },
        "id": "2fab7554",
        "outputId": "2801bc07-9a93-4ab1-a917-c4e034b99f54"
      },
      "source": [
        "# Test case for Encoder\n",
        "\n",
        "# Define input dimensions\n",
        "batch_size = 2\n",
        "sequence_length = 10\n",
        "d_model = 128 # Make sure d_model is divisible by num_heads\n",
        "num_heads = 4\n",
        "ffn_dim = 256 # Dimension of the feed-forward hidden layer\n",
        "num_layers = 2 # Number of encoder layers\n",
        "\n",
        "# Create sample input embeddings with shape (batch_size, sequence_length, d_model)\n",
        "sample_input_embeddings = torch.randn(batch_size* sequence_length, d_model)\n",
        "\n",
        "print(\"Sample Input Embeddings Shape for Encoder:\", sample_input_embeddings.shape)\n",
        "\n",
        "# Instantiate the Encoder module\n",
        "encoder = Encoder(d_model=d_model, num_heads=num_heads, ffn_dim=ffn_dim, num_layers=num_layers)\n",
        "\n",
        "# Pass the sample input embeddings through the Encoder module\n",
        "\n",
        "output_encoder = encoder(sample_input_embeddings)\n",
        "print(\"Encoder Output Shape:\", output_encoder.shape)\n"
      ],
      "execution_count": 166,
      "outputs": [
        {
          "output_type": "stream",
          "name": "stdout",
          "text": [
            "Sample Input Embeddings Shape for Encoder: torch.Size([20, 128])\n",
            "positional encoding torch.Size([20, 128])\n",
            "input embedding torch.Size([20, 128])\n",
            "Encoder Output Shape: torch.Size([20, 128])\n"
          ]
        }
      ]
    },
    {
      "cell_type": "markdown",
      "source": [],
      "metadata": {
        "id": "BPbJRL29PIcR"
      }
    },
    {
      "cell_type": "markdown",
      "source": [
        "\n",
        "# Decoder implmentation"
      ],
      "metadata": {
        "id": "MX-1VX-bO3VH"
      }
    },
    {
      "cell_type": "markdown",
      "source": [
        "# Decoder sublayer impmentation"
      ],
      "metadata": {
        "id": "I9CPIYgyPQnj"
      }
    },
    {
      "cell_type": "code",
      "source": [
        "class DecoderSublayer(nn.Module):\n",
        "  def __init__(self,batch_size,sentence_len,dim_heads,d_model,ff_dim):\n",
        "    super(DecoderSublayer,self).__init__();\n",
        "    self.batch_size=batch_size;\n",
        "    self.sentence_len=sentence_len;\n",
        "    self.dim_heads=dim_heads;\n",
        "    self.d_model=d_model;\n",
        "    self.ff_dim=ff_dim;\n",
        "    self.mask=create_look_ahead_mask(seq_len=sentence_len*batch_size);\n",
        "    #first we create the masked multihead attention\n",
        "    self.masked_head_attention=MultiHeadAttention(heads=dim_heads,d_model=d_model,dropout=0.1,mask=self.mask);\n",
        "    #second we create the multihead attention\n",
        "    self.multihead_attention=MultiHeadAttention(heads=dim_heads,d_model=d_model,dropout=0.1);\n",
        "    self.ffn=PositionWiseFFN(d_model=d_model,d_ff=ff_dim);\n",
        "  def forward(self,input_embeddings,encoder_output_embedding):\n",
        "    result1=add_norm(prev=input_embeddings,input=self.masked_head_attention(input_embeddings,input_embeddings));\n",
        "    result_of_cross_attention=self.multihead_attention(result1,encoder_output_embedding);\n",
        "    result2=add_norm(prev=result1,input=result_of_cross_attention);\n",
        "    result3=add_norm(prev=result2,input=self.ffn(result2));\n",
        "    return result3;"
      ],
      "metadata": {
        "id": "2Axs2zUTPYfs"
      },
      "execution_count": 167,
      "outputs": []
    },
    {
      "cell_type": "code",
      "metadata": {
        "colab": {
          "base_uri": "https://localhost:8080/"
        },
        "id": "b673b355",
        "outputId": "c1d2a08f-a4e2-4272-fc9b-5fee635afc33"
      },
      "source": [
        "# Test case for DecoderSublayer\n",
        "\n",
        "# Define input dimensions\n",
        "batch_size = 2\n",
        "sequence_length = 10\n",
        "d_model = 128 # Make sure d_model is divisible by num_heads\n",
        "num_heads = 4\n",
        "ffn_dim = 256 # Dimension of the feed-forward hidden layer\n",
        "\n",
        "# Create sample input embeddings with shape (batch_size, sequence_length, d_model)\n",
        "# Decoder input embeddings\n",
        "sample_decoder_input_embeddings = torch.randn(batch_size * sequence_length, d_model)\n",
        "# Encoder output embeddings (for cross-attention)\n",
        "sample_encoder_output_embeddings = torch.randn(batch_size * sequence_length, d_model)\n",
        "\n",
        "\n",
        "print(\"Sample Decoder Input Embeddings Shape for DecoderSublayer:\", sample_decoder_input_embeddings.shape)\n",
        "print(\"Sample Encoder Output Embeddings Shape for DecoderSublayer:\", sample_encoder_output_embeddings.shape)\n",
        "\n",
        "\n",
        "# Instantiate the DecoderSublayer module\n",
        "decoder_sublayer = DecoderSublayer(batch_size=batch_size, sentence_len=sequence_length, dim_heads=num_heads, d_model=d_model, ff_dim=ffn_dim)\n",
        "\n",
        "# Pass the sample input embeddings and encoder output through the DecoderSublayer module\n",
        "try:\n",
        "  output_decoder_sublayer = decoder_sublayer(sample_decoder_input_embeddings, sample_encoder_output_embeddings)\n",
        "  print(\"DecoderSublayer Output Shape:\", output_decoder_sublayer.shape)\n",
        "except Exception as e:\n",
        "  print(f\"An error occurred during the DecoderSublayer test: {e}\")"
      ],
      "execution_count": 168,
      "outputs": [
        {
          "output_type": "stream",
          "name": "stdout",
          "text": [
            "Sample Decoder Input Embeddings Shape for DecoderSublayer: torch.Size([20, 128])\n",
            "Sample Encoder Output Embeddings Shape for DecoderSublayer: torch.Size([20, 128])\n",
            "DecoderSublayer Output Shape: torch.Size([20, 128])\n"
          ]
        }
      ]
    },
    {
      "cell_type": "markdown",
      "source": [
        "# Decoder Full Part"
      ],
      "metadata": {
        "id": "b9UKo4RqWRjF"
      }
    },
    {
      "cell_type": "code",
      "source": [
        "class Decoder(nn.Module):\n",
        "   def __init__(self,batch_size,sentence_len,num_heads,d_model,ffn_dim,num_layers,n=None) -> None:\n",
        "    super(Decoder,self).__init__()\n",
        "    self.num_heads=num_heads\n",
        "    self.num_layers=num_layers\n",
        "    self.d_model=d_model\n",
        "    self.ffn_dim=ffn_dim\n",
        "    self.n=n\n",
        "    # Use nn.ModuleList to correctly register sublayer parameters\n",
        "    self.layers=nn.ModuleList([DecoderSublayer(batch_size=batch_size,sentence_len=sentence_len,dim_heads=num_heads,d_model=d_model,ff_dim=ffn_dim) for i in range(0,num_layers)]);\n",
        "\n",
        "   def forward(self,input_embeddings,encoder_output_embeddings): # input_embeddings shape is (batch_size * sequence_length, d_model)\n",
        "      pe=get_position_encoding(input_embeddings.size(0),self.d_model)\n",
        "      print(pe.shape);\n",
        "      print(input_embeddings.shape)\n",
        "      result=add_norm(pe,input_embeddings)\n",
        "      for layer in self.layers:\n",
        "        result=add_norm(result,layer(result,encoder_output_embeddings))\n",
        "      return result"
      ],
      "metadata": {
        "id": "eVfX5qUSWX5G"
      },
      "execution_count": 169,
      "outputs": []
    },
    {
      "cell_type": "code",
      "metadata": {
        "colab": {
          "base_uri": "https://localhost:8080/"
        },
        "id": "cf1e8e0a",
        "outputId": "e286d55d-366b-4bc0-b150-d64023f34033"
      },
      "source": [
        "# Test case for Decoder\n",
        "\n",
        "# Define input dimensions\n",
        "batch_size = 2\n",
        "sequence_length = 10\n",
        "d_model = 128 # Make sure d_model is divisible by num_heads\n",
        "num_heads = 4\n",
        "ffn_dim = 256 # Dimension of the feed-forward hidden layer\n",
        "num_layers = 2 # Number of decoder layers\n",
        "\n",
        "# Create sample input embeddings with shape (batch_size * sequence_length, d_model)\n",
        "# Decoder input embeddings\n",
        "sample_decoder_input_embeddings = torch.randn(batch_size * sequence_length, d_model)\n",
        "# Encoder output embeddings (for cross-attention)\n",
        "sample_encoder_output_embeddings = torch.randn(batch_size * sequence_length, d_model)\n",
        "\n",
        "print(\"Sample Decoder Input Embeddings Shape for Decoder:\", sample_decoder_input_embeddings.shape)\n",
        "print(\"Sample Encoder Output Embeddings Shape for Decoder:\", sample_encoder_output_embeddings.shape)\n",
        "\n",
        "# Instantiate the Decoder module\n",
        "decoder = Decoder(batch_size=batch_size, sentence_len=sequence_length, num_heads=num_heads, d_model=d_model, ffn_dim=ffn_dim, num_layers=num_layers)\n",
        "\n",
        "# Pass the sample input embeddings and encoder output through the Decoder module\n",
        "\n",
        "output_decoder = decoder(sample_decoder_input_embeddings, sample_encoder_output_embeddings)\n",
        "print(\"Decoder Output Shape:\", output_decoder.shape)\n"
      ],
      "execution_count": 170,
      "outputs": [
        {
          "output_type": "stream",
          "name": "stdout",
          "text": [
            "Sample Decoder Input Embeddings Shape for Decoder: torch.Size([20, 128])\n",
            "Sample Encoder Output Embeddings Shape for Decoder: torch.Size([20, 128])\n",
            "torch.Size([20, 128])\n",
            "torch.Size([20, 128])\n",
            "Decoder Output Shape: torch.Size([20, 128])\n"
          ]
        }
      ]
    },
    {
      "cell_type": "markdown",
      "source": [
        "# Transformer full implementation"
      ],
      "metadata": {
        "id": "4K3dj8glcRG7"
      }
    },
    {
      "cell_type": "code",
      "source": [
        "class EncoderDecoder(nn.Module):\n",
        "  def __init__(self,batch_size,sentence_len,num_heads,d_model,ffn_dim,num_layers,src_vocab_size,tgt_vocab_size,lang1_special_token={\"[PAD]\": 0,\"[UNK]\": 2,\"[CLS]\": 3,\"[SEP]\": 4,\"[MASK]\": 5 },lang2_special_token= {\"[PAD]\": 0,\"[UNK]\": 100,\n",
        "    \"[CLS]\": 101,\n",
        "    \"[SEP]\": 102,\n",
        "    \"[MASK]\": 103  },n=None) -> None:\n",
        "    super(EncoderDecoder,self).__init__()\n",
        "    # Register Encoder and Decoder as submodules\n",
        "    self.encoder = Encoder(d_model=d_model, num_heads=num_heads, ffn_dim=ffn_dim, num_layers=num_layers, n=n)\n",
        "    self.decoder = Decoder(batch_size=batch_size, sentence_len=sentence_len, num_heads=num_heads, d_model=d_model, ffn_dim=ffn_dim, num_layers=num_layers, n=n)\n",
        "    self.d_model = d_model\n",
        "    self.sentence_len = sentence_len\n",
        "    self.batch_size = batch_size\n",
        "    self.lang1_special_token=lang1_special_token\n",
        "    self.lang2_special_token=lang2_special_token\n",
        "\n",
        "    #now creating the embedding layers\n",
        "    self.target_embedding=EmbeddingLayer(vocab_size=tgt_vocab_size,d_model=d_model)\n",
        "    self.source_embedding=EmbeddingLayer(vocab_size=src_vocab_size,d_model=d_model)\n",
        "    # now creating the genrator for the decoder\n",
        "    self.generator=Generator(d_model=d_model,vocab=tgt_vocab_size)\n",
        "\n",
        "  def forward(self, source_input, source_padding_mask=None, target_padding_mask=None):\n",
        "    # Create padding masks\n",
        "    #\n",
        "    seq_len=self.batch_size*self.sentence_len\n",
        "    look_ahead_mask = torch.triu(torch.ones((seq_len, seq_len), dtype=torch.bool), diagonal=1)\n",
        "    #\n",
        "    #\n",
        "    #\n",
        "    #first refined the input of the encoder that is converting it from tokenized numerical value to vectorized form\n",
        "    source_input= source_input.view(-1)\n",
        "    source_input=self.source_embedding(source_input)\n",
        "\n",
        "    #now we will fed this ouput to the encoder and get the ouptut and then use it for our further calculation\n",
        "    encoder_output=self.encoder(source_input)\n",
        "\n",
        "    #now for generating the output from the decoder is extracted by processing it sequence_length*batch_size times\n",
        "    total_token_len=self.batch_size*self.sentence_len\n",
        "    #we will start with the start token\n",
        "    sen=[self.lang2_special_token[\"[CLS]\"]]\n",
        "    while( len(sen)<total_token_len and sen[-1]!=self.lang2_special_token[\"[SEP]\"]):\n",
        "     target_input=sen+[self.lang2_special_token[\"[PAD]\"] for i in range(len(sen),total_token_len)]\n",
        "\n",
        "     target_input_reshaped=self.target_embedding(torch.tensor(target_input))\n",
        "     decoder_output = self.decoder(target_input_reshaped, encoder_output)\n",
        "     output=self.generator(decoder_output)\n",
        "     sen.append(torch.argmax(output[-1]).item())\n",
        "\n",
        "    return torch.tensor(sen)"
      ],
      "metadata": {
        "id": "IsyuZN1CcWUo"
      },
      "execution_count": 171,
      "outputs": []
    },
    {
      "cell_type": "code",
      "metadata": {
        "colab": {
          "base_uri": "https://localhost:8080/"
        },
        "id": "fb121826",
        "outputId": "cd05c03f-47bd-4b1e-f1a1-bf44fe967877"
      },
      "source": [
        "# Test case for EncoderDecoder\n",
        "\n",
        "# Define input dimensions\n",
        "batch_size = 2\n",
        "sequence_length = 10\n",
        "d_model = 128 # Make sure d_model is divisible by num_heads\n",
        "num_heads = 4\n",
        "ffn_dim = 256 # Dimension of the feed-forward hidden layer\n",
        "num_layers = 2 # Number of encoder and decoder layers\n",
        "src_vocab_size = 1000 # Source vocabulary size\n",
        "tgt_vocab_size = 2000 # Target vocabulary size\n",
        "\n",
        "# Create sample input tensors\n",
        "# Source input (e.g., encoder input) - Dummy token IDs\n",
        "sample_source_input = torch.randint(0, src_vocab_size, (batch_size, sequence_length))\n",
        "\n",
        "\n",
        "print(\"Sample Source Input Shape:\", sample_source_input.shape)\n",
        "\n",
        "# Instantiate the EncoderDecoder module\n",
        "transformer = EncoderDecoder(batch_size=batch_size, sentence_len=sequence_length, num_heads=num_heads, d_model=d_model, ffn_dim=ffn_dim, num_layers=num_layers, src_vocab_size=src_vocab_size, tgt_vocab_size=tgt_vocab_size)\n",
        "\n",
        "# Pass the sample inputs through the Transformer\n",
        "\n",
        "output_transformer = transformer(sample_source_input)\n",
        "print(\"Transformer Output Shape:\", output_transformer.shape)"
      ],
      "execution_count": 172,
      "outputs": [
        {
          "output_type": "stream",
          "name": "stdout",
          "text": [
            "Sample Source Input Shape: torch.Size([2, 10])\n",
            "positional encoding torch.Size([20, 128])\n",
            "input embedding torch.Size([20, 128])\n",
            "torch.Size([20, 128])\n",
            "torch.Size([20, 128])\n",
            "torch.Size([20, 128])\n",
            "torch.Size([20, 128])\n",
            "torch.Size([20, 128])\n",
            "torch.Size([20, 128])\n",
            "torch.Size([20, 128])\n",
            "torch.Size([20, 128])\n",
            "torch.Size([20, 128])\n",
            "torch.Size([20, 128])\n",
            "torch.Size([20, 128])\n",
            "torch.Size([20, 128])\n",
            "torch.Size([20, 128])\n",
            "torch.Size([20, 128])\n",
            "torch.Size([20, 128])\n",
            "torch.Size([20, 128])\n",
            "torch.Size([20, 128])\n",
            "torch.Size([20, 128])\n",
            "torch.Size([20, 128])\n",
            "torch.Size([20, 128])\n",
            "torch.Size([20, 128])\n",
            "torch.Size([20, 128])\n",
            "torch.Size([20, 128])\n",
            "torch.Size([20, 128])\n",
            "torch.Size([20, 128])\n",
            "torch.Size([20, 128])\n",
            "torch.Size([20, 128])\n",
            "torch.Size([20, 128])\n",
            "torch.Size([20, 128])\n",
            "torch.Size([20, 128])\n",
            "torch.Size([20, 128])\n",
            "torch.Size([20, 128])\n",
            "torch.Size([20, 128])\n",
            "torch.Size([20, 128])\n",
            "torch.Size([20, 128])\n",
            "torch.Size([20, 128])\n",
            "torch.Size([20, 128])\n",
            "torch.Size([20, 128])\n",
            "Transformer Output Shape: torch.Size([20])\n"
          ]
        }
      ]
    },
    {
      "cell_type": "code",
      "source": [
        "total_params = sum(p.numel() for p in transformer.parameters() if p.requires_grad)\n",
        "print(total_params)"
      ],
      "metadata": {
        "colab": {
          "base_uri": "https://localhost:8080/"
        },
        "id": "W3N642Xop_ZK",
        "outputId": "7daff49d-a25c-4d3f-95f8-8d621d82fab5"
      },
      "execution_count": 173,
      "outputs": [
        {
          "output_type": "stream",
          "name": "stdout",
          "text": [
            "1301968\n"
          ]
        }
      ]
    },
    {
      "cell_type": "markdown",
      "source": [
        "# Checking the Parameters count of the model"
      ],
      "metadata": {
        "id": "n0NogkLgvmOd"
      }
    },
    {
      "cell_type": "code",
      "metadata": {
        "colab": {
          "base_uri": "https://localhost:8080/"
        },
        "id": "517cf637",
        "outputId": "27267a1e-deaa-4ed5-afed-a9fd22e05b6c"
      },
      "source": [
        "import torch.nn as nn\n",
        "\n",
        "class SimpleModuleWithParameters(nn.Module):\n",
        "    def __init__(self, input_dim, output_dim):\n",
        "        super(SimpleModuleWithParameters, self).__init__()\n",
        "        self.linear_layer = nn.Linear(input_dim, output_dim)\n",
        "\n",
        "    def forward(self, x):\n",
        "        return self.linear_layer(x)\n",
        "\n",
        "# Create an instance of the class\n",
        "input_dim = 10\n",
        "output_dim = 5\n",
        "simple_model = SimpleModuleWithParameters(input_dim, output_dim)\n",
        "\n",
        "# Access and print the parameters\n",
        "print(\"Parameters of the SimpleModuleWithParameters:\")\n",
        "for name, parameter in simple_model.named_parameters():\n",
        "    if parameter.requires_grad:\n",
        "        print(f\"Parameter Name: {name}, Shape: {parameter.shape}, Dimensions: {parameter.dim()}\")\n",
        "\n",
        "# Get the total number of trainable parameters\n",
        "total_params_simple = sum(p.numel() for p in simple_model.parameters() if p.requires_grad)\n",
        "print(f\"\\nTotal trainable parameters in SimpleModuleWithParameters: {total_params_simple}\")"
      ],
      "execution_count": 174,
      "outputs": [
        {
          "output_type": "stream",
          "name": "stdout",
          "text": [
            "Parameters of the SimpleModuleWithParameters:\n",
            "Parameter Name: linear_layer.weight, Shape: torch.Size([5, 10]), Dimensions: 2\n",
            "Parameter Name: linear_layer.bias, Shape: torch.Size([5]), Dimensions: 1\n",
            "\n",
            "Total trainable parameters in SimpleModuleWithParameters: 55\n"
          ]
        }
      ]
    },
    {
      "cell_type": "code",
      "source": [
        "class ParentModule(nn.Module):\n",
        "  def __init__(self) -> None:\n",
        "     super(ParentModule,self).__init__()\n",
        "     self.simple_model=SimpleModuleWithParameters(10,5)\n",
        "  def forward(self,x):\n",
        "    return self.simple_model(x)\n",
        "module_parent=ParentModule()\n",
        "\n",
        "total_params_simple = sum(p.numel() for p in module_parent.parameters() )\n",
        "print(f\"\\nTotal trainable parameters in SimpleModuleWithParameters: {total_params_simple}\")"
      ],
      "metadata": {
        "colab": {
          "base_uri": "https://localhost:8080/"
        },
        "id": "3RVCqwdlrTqo",
        "outputId": "cdad930b-c84e-409a-cb01-d2fe7a52aeff"
      },
      "execution_count": 175,
      "outputs": [
        {
          "output_type": "stream",
          "name": "stdout",
          "text": [
            "\n",
            "Total trainable parameters in SimpleModuleWithParameters: 55\n"
          ]
        }
      ]
    },
    {
      "cell_type": "code",
      "source": [],
      "metadata": {
        "id": "xePwly3kslDY"
      },
      "execution_count": 175,
      "outputs": []
    },
    {
      "cell_type": "code",
      "metadata": {
        "colab": {
          "base_uri": "https://localhost:8080/"
        },
        "id": "2da08c8e",
        "outputId": "b9cb4a47-2d01-4c47-bdb1-fa98976ef315"
      },
      "source": [
        "# Display parameter counts for existing module instances\n",
        "\n",
        "print(f\"Total trainable parameters in MultiHeadAttention instance: {sum(p.numel() for p in multi_head_attention.parameters() if p.requires_grad)}\")\n",
        "print(f\"Total trainable parameters in Encoder instance: {sum(p.numel() for p in encoder.parameters() if p.requires_grad)}\")\n",
        "print(f\"Total trainable parameters in Decoder instance: {sum(p.numel() for p in decoder.parameters() if p.requires_grad)}\")\n",
        "print(f\"Total trainable parameters in EncoderDecoder instance: {sum(p.numel() for p in transformer.parameters() if p.requires_grad)}\")\n",
        "\n",
        "# Print the number of trainable parameters in each EncoderSublayer\n",
        "print(\"\\nTrainable parameters in each EncoderSublayer:\")\n",
        "if hasattr(encoder, 'encoder_layers'):\n",
        "    for i, layer in enumerate(encoder.encoder_layers):\n",
        "        total_params_sublayer = sum(p.numel() for p in layer.parameters() if p.requires_grad)\n",
        "        print(f\"  EncoderSublayer {i+1}: {total_params_sublayer}\")\n",
        "\n",
        "# Print the number of trainable parameters in each DecoderSublayer\n",
        "print(\"\\nTrainable parameters in each DecoderSublayer:\")\n",
        "if hasattr(decoder, 'layers'):\n",
        "    for i, layer in enumerate(decoder.layers):\n",
        "        total_params_sublayer = sum(p.numel() for p in layer.parameters() if p.requires_grad)\n",
        "        print(f\"  DecoderSublayer {i+1}: {total_params_sublayer}\")"
      ],
      "execution_count": 176,
      "outputs": [
        {
          "output_type": "stream",
          "name": "stdout",
          "text": [
            "Total trainable parameters in MultiHeadAttention instance: 66048\n",
            "Total trainable parameters in Encoder instance: 263936\n",
            "Total trainable parameters in Decoder instance: 396032\n",
            "Total trainable parameters in EncoderDecoder instance: 1301968\n",
            "\n",
            "Trainable parameters in each EncoderSublayer:\n",
            "  EncoderSublayer 1: 131968\n",
            "  EncoderSublayer 2: 131968\n",
            "\n",
            "Trainable parameters in each DecoderSublayer:\n",
            "  DecoderSublayer 1: 198016\n",
            "  DecoderSublayer 2: 198016\n"
          ]
        }
      ]
    },
    {
      "cell_type": "code",
      "metadata": {
        "colab": {
          "base_uri": "https://localhost:8080/"
        },
        "id": "45936629",
        "outputId": "d1623894-4464-452c-e1a5-30a7b5af928d"
      },
      "source": [
        "# Count parameters by dimension in the Transformer model\n",
        "count_dim_1 = 0\n",
        "count_dim_2 = 0\n",
        "for name, parameter in transformer.named_parameters():\n",
        "        if parameter.dim() == 1:\n",
        "            count_dim_1 += 1\n",
        "        elif parameter.dim() == 2:\n",
        "            count_dim_2 += 1\n",
        "\n",
        "print(\"Parameter counts by dimension in the Transformer model:\")\n",
        "print(f\"  Parameters with dimension 1: {count_dim_1}\")\n",
        "print(f\"  Parameters with dimension 2: {count_dim_2}\")"
      ],
      "execution_count": 177,
      "outputs": [
        {
          "output_type": "stream",
          "name": "stdout",
          "text": [
            "Parameter counts by dimension in the Transformer model:\n",
            "  Parameters with dimension 1: 33\n",
            "  Parameters with dimension 2: 35\n"
          ]
        }
      ]
    },
    {
      "cell_type": "code",
      "source": [],
      "metadata": {
        "id": "IqR92SaqF7yE"
      },
      "execution_count": 177,
      "outputs": []
    },
    {
      "cell_type": "code",
      "metadata": {
        "colab": {
          "base_uri": "https://localhost:8080/"
        },
        "id": "8cd01866",
        "outputId": "73dc225a-c4ed-4c06-e2fd-bd3fa00b3d06"
      },
      "source": [
        "import torch\n",
        "import torch.nn as nn\n",
        "\n",
        "# Define source and target vocabulary sizes and embedding dimension\n",
        "src_vocab_size = 1000\n",
        "tgt_vocab_size = 2000\n",
        "d_model = 128\n",
        "\n",
        "# Create embedding layers\n",
        "src_embedding_layer = nn.Embedding(src_vocab_size, d_model)\n",
        "tgt_embedding_layer = nn.Embedding(tgt_vocab_size, d_model)\n",
        "\n",
        "# Example usage with dummy input tensors (token IDs)\n",
        "batch_size = 2\n",
        "sequence_length = 10\n",
        "\n",
        "sample_source_input_tokens = torch.randint(0, src_vocab_size, (batch_size, sequence_length))\n",
        "sample_target_input_tokens = torch.randint(0, tgt_vocab_size, (batch_size, sequence_length))\n",
        "\n",
        "# Embed the input tokens\n",
        "source_embedded = src_embedding_layer(sample_source_input_tokens)\n",
        "target_embedded = tgt_embedding_layer(sample_target_input_tokens)\n",
        "\n",
        "print(\"Source Embedded Shape:\", source_embedded.shape)\n",
        "print(\"Target Embedded Shape:\", target_embedded.shape)"
      ],
      "execution_count": 178,
      "outputs": [
        {
          "output_type": "stream",
          "name": "stdout",
          "text": [
            "Source Embedded Shape: torch.Size([2, 10, 128])\n",
            "Target Embedded Shape: torch.Size([2, 10, 128])\n"
          ]
        }
      ]
    },
    {
      "cell_type": "code",
      "source": [],
      "metadata": {
        "id": "EuNNnFwwH3oo"
      },
      "execution_count": 178,
      "outputs": []
    },
    {
      "cell_type": "code",
      "metadata": {
        "colab": {
          "base_uri": "https://localhost:8080/"
        },
        "id": "ad609490",
        "outputId": "6307d69c-abb3-4ae4-f85c-9ab48d70bc80"
      },
      "source": [
        "import json\n",
        "\n",
        "with open(\"sentence_pairs.json\", \"r\", encoding=\"utf-8\") as f:\n",
        "    loaded_sentence_pairs = json.load(f)\n",
        "\n",
        "print(\"Data loaded from sentence_pairs.json:\")\n",
        "print(loaded_sentence_pairs)"
      ],
      "execution_count": 179,
      "outputs": [
        {
          "output_type": "stream",
          "name": "stdout",
          "text": [
            "Data loaded from sentence_pairs.json:\n",
            "[{'german': 'Deine Habgier wird noch dein Tod sein.', 'english': \"It's greed that it's gonna be the death of you, 'cause you...\"}, {'german': '- Vega.', 'english': 'Vega.'}, {'german': 'Sagen Sie einfach stopp.', 'english': 'Just say when.'}, {'german': '- Warte.', 'english': '- Wait.'}]\n"
          ]
        }
      ]
    },
    {
      "cell_type": "markdown",
      "source": [
        "#We will now use the bert-cased-model for the tokenisation"
      ],
      "metadata": {
        "id": "c6RQow2NkcMp"
      }
    },
    {
      "cell_type": "markdown",
      "source": [
        "# Tokenizer model for the english"
      ],
      "metadata": {
        "id": "Fvep28eqTiEM"
      }
    },
    {
      "cell_type": "code",
      "metadata": {
        "colab": {
          "base_uri": "https://localhost:8080/",
          "height": 294,
          "referenced_widgets": [
            "f0bc4ec2f1a24d30a2c6a18db8b87a08",
            "79107496908944538f12ec99cacebf11",
            "bfa3f090617549beaaa8327d95ebab0a",
            "0d14a1806c89420ea57d6af69c51169c",
            "371dc54485054eaebb6a714a75edcec2",
            "4c5ff095f7b7483a904506f64f8030b0",
            "bb61c167838b48f8ab68f4b20befb769",
            "522543347920434fb29f9fd300c8bcbd",
            "a482376a205841e89ab126610392dc4c",
            "4e87dab2325046a18674d086c8db5cfd",
            "57c158c48bad4f8fa354b6999ea9b1ec",
            "12480aa556b8402d9e50cccc884a6cf5",
            "ca09e5ab61cd43c7b1378c6c5bddaa4b",
            "ffd74e93d0774506856c03058e40355b",
            "58f7cdbfa1bc41a2955746b7b32eed95",
            "ffb95fdb30db4f78a626a34267a38a39",
            "3a27e10af4a0411bba57a6e5d5104662",
            "b5baecfbb8704943b2431aeca43cc322",
            "dee2aaa2601b4403a839897c9a0d1d94",
            "3db9bb2771ad4f6d89681bdf9b8fad43",
            "686cce9f32f940e0bedec6e4693d3a8d",
            "7229d5e29a6942d5aec697fc0e0b5b74",
            "2d15489028c8450d90f9fca85af88d79",
            "45ae0cd65bed40a482d550d1ba72da5e",
            "b3ab5dc2386349e499e882a2b5563c33",
            "fabed69db8f24f25b2c17eaf61f55b35",
            "aa68948e514442a5b7420c6cce7a7ce8",
            "08207ee82a894605ae2735564a8b59d1",
            "878e7f77d17e4026b8ef895cac46f9a9",
            "367b8069eaf846dc84b41ed83eb3aabf",
            "d3b6df3e45ac4fb8ba4a50972ddf0a67",
            "d3c88cd4f921488ba1dda53ed466ea38",
            "9ddb13e23cbd497bb6c1c9b0065d6d11",
            "d0a2d1986cb9490385b5cb949e8b12e5",
            "bcb79c7552c64b6fb3d50a193468b56e",
            "6cd211d8162f45c3adea2314d51d1fe8",
            "c3205e1070094cb7b3487d13da8db3f0",
            "12801d0aa44145a7ac17df1f032628df",
            "9ebe8d0f05704c0cbf1506594f6ae51f",
            "f78d4d8d87d34c04809b4c92ddf49803",
            "0e2b2044eca446b6a83f5c49780f172c",
            "fddf1cbdbef043839a389efe474cf78a",
            "5e6d2a7f44bb422793308cadcb8dbe0f",
            "da9eb34b20d94c13985eb7dfcf65028c"
          ]
        },
        "id": "0013a5ef",
        "outputId": "f6f5d747-9cf7-4694-c9fc-a3d574107630"
      },
      "source": [
        "from transformers import BertTokenizer\n",
        "\n",
        "# Load the bert-large-cased tokenizer\n",
        "english_tokenizer = BertTokenizer.from_pretrained(\"bert-large-cased\")\n",
        "print(\"bert-large-cased tokenizer loaded.\")"
      ],
      "execution_count": 180,
      "outputs": [
        {
          "output_type": "stream",
          "name": "stderr",
          "text": [
            "/usr/local/lib/python3.12/dist-packages/huggingface_hub/utils/_auth.py:94: UserWarning: \n",
            "The secret `HF_TOKEN` does not exist in your Colab secrets.\n",
            "To authenticate with the Hugging Face Hub, create a token in your settings tab (https://huggingface.co/settings/tokens), set it as secret in your Google Colab and restart your session.\n",
            "You will be able to reuse this secret in all of your notebooks.\n",
            "Please note that authentication is recommended but still optional to access public models or datasets.\n",
            "  warnings.warn(\n"
          ]
        },
        {
          "output_type": "display_data",
          "data": {
            "text/plain": [
              "tokenizer_config.json:   0%|          | 0.00/49.0 [00:00<?, ?B/s]"
            ],
            "application/vnd.jupyter.widget-view+json": {
              "version_major": 2,
              "version_minor": 0,
              "model_id": "f0bc4ec2f1a24d30a2c6a18db8b87a08"
            }
          },
          "metadata": {}
        },
        {
          "output_type": "display_data",
          "data": {
            "text/plain": [
              "vocab.txt:   0%|          | 0.00/213k [00:00<?, ?B/s]"
            ],
            "application/vnd.jupyter.widget-view+json": {
              "version_major": 2,
              "version_minor": 0,
              "model_id": "12480aa556b8402d9e50cccc884a6cf5"
            }
          },
          "metadata": {}
        },
        {
          "output_type": "display_data",
          "data": {
            "text/plain": [
              "tokenizer.json:   0%|          | 0.00/436k [00:00<?, ?B/s]"
            ],
            "application/vnd.jupyter.widget-view+json": {
              "version_major": 2,
              "version_minor": 0,
              "model_id": "2d15489028c8450d90f9fca85af88d79"
            }
          },
          "metadata": {}
        },
        {
          "output_type": "display_data",
          "data": {
            "text/plain": [
              "config.json:   0%|          | 0.00/762 [00:00<?, ?B/s]"
            ],
            "application/vnd.jupyter.widget-view+json": {
              "version_major": 2,
              "version_minor": 0,
              "model_id": "d0a2d1986cb9490385b5cb949e8b12e5"
            }
          },
          "metadata": {}
        },
        {
          "output_type": "stream",
          "name": "stdout",
          "text": [
            "bert-large-cased tokenizer loaded.\n"
          ]
        }
      ]
    },
    {
      "cell_type": "code",
      "source": [
        "english_tokenizer.encode(\"hello how are you\")"
      ],
      "metadata": {
        "colab": {
          "base_uri": "https://localhost:8080/"
        },
        "id": "O5hqKbsTWz_b",
        "outputId": "0efea844-589c-45a2-ac2e-fc106bbc23e1"
      },
      "execution_count": 181,
      "outputs": [
        {
          "output_type": "execute_result",
          "data": {
            "text/plain": [
              "[101, 19082, 1293, 1132, 1128, 102]"
            ]
          },
          "metadata": {},
          "execution_count": 181
        }
      ]
    },
    {
      "cell_type": "markdown",
      "source": [
        "# tokenizer for the german"
      ],
      "metadata": {
        "id": "xZpF7kJMTpB9"
      }
    },
    {
      "cell_type": "code",
      "source": [
        "from transformers import BertTokenizer\n",
        "\n",
        "german_tokenizer = BertTokenizer.from_pretrained(\"bert-base-german-cased\")"
      ],
      "metadata": {
        "id": "LLKaJIQPWoZO",
        "colab": {
          "base_uri": "https://localhost:8080/",
          "height": 145,
          "referenced_widgets": [
            "24686dd1cea84c3abb6d39517b85b980",
            "9dc13ce392bc4897bd1b4492f735887a",
            "a9f851947fa64735bb9ad91fdeae64cc",
            "6f1bd5294e7e4d35ae4878b953643c7e",
            "477674db482f4bacbc7389d94e2cb00d",
            "fbb4329b9abe4daaab31e470973f7765",
            "1d752816ac1a479cb144713adb3da48b",
            "fde8f1df279d4ff1ab42004e5f3f9ec8",
            "0e0b96d4253048b18378a3a0c0510ba8",
            "200c4ae34fa642ccad011b8bf2865b13",
            "b0f8a25dd58e4e53af6bc980d7d0ac36",
            "360ca2762f834bd49a191b3e6bd119be",
            "1c563f1b0ad7470bb499f6fc6112b1e1",
            "febe705afb004c47b718a98e0e1cffc5",
            "400e4b36cbdb4cecb1d93ff40fcc1e83",
            "ab82e7335e954dde97b26f0682ab4500",
            "c9914240ab3d420b97b706f3b244785d",
            "c108a84e498142f18199e276fb350fe0",
            "ac82926c34614fd1a63c52bd17b70045",
            "e9fb2a2836664a328a2f8606929ac34b",
            "3423e39772e84530b9561679a6a0ea9b",
            "7e504e1d8fb74d299959ea59f188614f",
            "e3f206aac9274a21b62e41fab656e348",
            "6542905c61a0402a9efc71a5bb23706a",
            "c78ccb3196894f4c804f8fcd4ca7d001",
            "53e705a235f847c789d6c71bc1c147ef",
            "a474e719597348c1ae19b01829269c85",
            "e9b36ca3ac7f4eedbe922d3dfe141b05",
            "9efdb33122ad449780531d7c74e1ad00",
            "b655ef4dcdaa467ebbcf019d49cc30dd",
            "6950cc288ee44fbbb396ea6e86302811",
            "d7ad41bc2c8f487da6a9eb149b9ec0bb",
            "24363f2ed2fc4d0fbbbbddc35358b5fd",
            "bcfc8cad437142f0b71b12bfc4b6abf4",
            "076825cd051e4c1a8f3535f4a4360d8a",
            "5955f0bab0324e99ab73d5b6b833a986",
            "939b5074bd3f4e99ac66160e8b8abeb0",
            "959ae99fbb2b4831be360b02945d3173",
            "4d3b6f4d012943628e305f04c71f03a4",
            "c601ba35a5874e259e7838f9f3832a65",
            "dec21624bdfa4e17b3888fe0a8cb16aa",
            "3c83a94046d548c180787e59473841ec",
            "bbd52bcce53b420b9098e52295da19c4",
            "0a18034c4bd14f8db56d717058f3c7be"
          ]
        },
        "outputId": "1d8f38da-623d-433d-ecf3-050874b93eab"
      },
      "execution_count": 183,
      "outputs": [
        {
          "output_type": "display_data",
          "data": {
            "text/plain": [
              "tokenizer_config.json:   0%|          | 0.00/49.0 [00:00<?, ?B/s]"
            ],
            "application/vnd.jupyter.widget-view+json": {
              "version_major": 2,
              "version_minor": 0,
              "model_id": "24686dd1cea84c3abb6d39517b85b980"
            }
          },
          "metadata": {}
        },
        {
          "output_type": "display_data",
          "data": {
            "text/plain": [
              "vocab.txt:   0%|          | 0.00/255k [00:00<?, ?B/s]"
            ],
            "application/vnd.jupyter.widget-view+json": {
              "version_major": 2,
              "version_minor": 0,
              "model_id": "360ca2762f834bd49a191b3e6bd119be"
            }
          },
          "metadata": {}
        },
        {
          "output_type": "display_data",
          "data": {
            "text/plain": [
              "tokenizer.json:   0%|          | 0.00/485k [00:00<?, ?B/s]"
            ],
            "application/vnd.jupyter.widget-view+json": {
              "version_major": 2,
              "version_minor": 0,
              "model_id": "e3f206aac9274a21b62e41fab656e348"
            }
          },
          "metadata": {}
        },
        {
          "output_type": "display_data",
          "data": {
            "text/plain": [
              "config.json:   0%|          | 0.00/433 [00:00<?, ?B/s]"
            ],
            "application/vnd.jupyter.widget-view+json": {
              "version_major": 2,
              "version_minor": 0,
              "model_id": "bcfc8cad437142f0b71b12bfc4b6abf4"
            }
          },
          "metadata": {}
        }
      ]
    },
    {
      "cell_type": "code",
      "source": [
        "german_tokenizer.encode(\"Hallo! Wie geht es Ihnen?\")"
      ],
      "metadata": {
        "colab": {
          "base_uri": "https://localhost:8080/"
        },
        "id": "8g8eJ4zjW51z",
        "outputId": "09352d9d-2993-4f4b-bfe4-22905d7ff4a6"
      },
      "execution_count": 184,
      "outputs": [
        {
          "output_type": "execute_result",
          "data": {
            "text/plain": [
              "[3, 5850, 26910, 26982, 1316, 1398, 229, 9830, 26972, 4]"
            ]
          },
          "metadata": {},
          "execution_count": 184
        }
      ]
    },
    {
      "cell_type": "code",
      "source": [],
      "metadata": {
        "colab": {
          "base_uri": "https://localhost:8080/"
        },
        "id": "AsQxRNqllmro",
        "outputId": "c6999627-b395-4160-fb94-3b41de7666d3"
      },
      "execution_count": 187,
      "outputs": [
        {
          "output_type": "execute_result",
          "data": {
            "text/plain": [
              "tensor([101, 174])"
            ]
          },
          "metadata": {},
          "execution_count": 187
        }
      ]
    },
    {
      "cell_type": "code",
      "source": [
        "print(\"English tokenizer vocab size:\", english_tokenizer.vocab_size)\n",
        "print(\"German tokenizer vocab size:\", german_tokenizer.vocab_size)"
      ],
      "metadata": {
        "colab": {
          "base_uri": "https://localhost:8080/"
        },
        "id": "w9j8KCF3mSX4",
        "outputId": "1b852a17-c5d4-4844-a8a6-3f3fda0f51b2"
      },
      "execution_count": 188,
      "outputs": [
        {
          "output_type": "stream",
          "name": "stdout",
          "text": [
            "English tokenizer vocab size: 28996\n",
            "German tokenizer vocab size: 30000\n"
          ]
        }
      ]
    },
    {
      "cell_type": "code",
      "source": [],
      "metadata": {
        "id": "UBWf1ij-mnHc"
      },
      "execution_count": null,
      "outputs": []
    },
    {
      "cell_type": "code",
      "metadata": {
        "colab": {
          "base_uri": "https://localhost:8080/"
        },
        "id": "b4c47a2c",
        "outputId": "070039fb-9b30-4a8d-889d-4731d73bbb60"
      },
      "source": [
        "# Test case for EncoderDecoder with a real English sentence\n",
        "\n",
        "# Define input dimensions\n",
        "batch_size = 1 # Testing with a single sentence\n",
        "sequence_length = 20 # Choose a suitable sequence length for padding/truncation\n",
        "d_model = 128 # Make sure d_model is divisible by num_heads\n",
        "num_heads = 4\n",
        "ffn_dim = 256 # Dimension of the feed-forward hidden layer\n",
        "num_layers = 2 # Number of encoder and decoder layers\n",
        "src_vocab_size = english_tokenizer.vocab_size # Use actual English vocab size\n",
        "tgt_vocab_size = german_tokenizer.vocab_size # Use actual German vocab size\n",
        "\n",
        "# Real English sentence\n",
        "english_sentence = \"It's greed that it's gonna be the death of you, 'cause you...\"\n",
        "\n",
        "# Tokenize the English sentence\n",
        "tokenized_english_sentence = english_tokenizer(english_sentence, return_tensors=\"pt\", padding=\"max_length\", truncation=True, max_length=sequence_length)\n",
        "sample_source_input = tokenized_english_sentence[\"input_ids\"]\n",
        "\n",
        "print(\"Sample Source Input Shape:\", sample_source_input.shape)\n",
        "print(\"Sample Source Input (Token IDs):\", sample_source_input)\n",
        "\n",
        "# Instantiate the EncoderDecoder module with actual vocab sizes\n",
        "# Ensure the batch_size and sentence_len match the tokenized input shape\n",
        "transformer = EncoderDecoder(batch_size=batch_size, sentence_len=sequence_length, num_heads=num_heads, d_model=d_model, ffn_dim=ffn_dim, num_layers=num_layers, src_vocab_size=src_vocab_size, tgt_vocab_size=tgt_vocab_size)\n",
        "\n",
        "# Pass the sample inputs through the Transformer\n",
        "# The forward method expects input of shape (batch_size, sequence_length)\n",
        "output_transformer = transformer(sample_source_input)\n",
        "print(\"Transformer Output Shape:\", output_transformer.shape)\n",
        "print(\"Transformer Output (Token IDs):\", output_transformer)\n",
        "\n",
        "# Decode the output token IDs back to text (using German tokenizer for demonstration)\n",
        "# Assuming the output_transformer is a tensor of shape (batch_size, generated_sequence_length)\n",
        "decoded_output = german_tokenizer.decode(output_transformer.squeeze().tolist(), skip_special_tokens=True)\n",
        "print(\"Decoded Transformer Output:\", decoded_output)"
      ],
      "execution_count": 189,
      "outputs": [
        {
          "output_type": "stream",
          "name": "stdout",
          "text": [
            "Sample Source Input Shape: torch.Size([1, 20])\n",
            "Sample Source Input (Token IDs): tensor([[  101,  1135,   112,   188,   176, 15825,  1115,  1122,   112,   188,\n",
            "          6100,  1129,  1103,  1473,  1104,  1128,   117,   112,  2612,   102]])\n",
            "positional encoding torch.Size([20, 128])\n",
            "input embedding torch.Size([20, 128])\n",
            "torch.Size([20, 128])\n",
            "torch.Size([20, 128])\n",
            "torch.Size([20, 128])\n",
            "torch.Size([20, 128])\n",
            "torch.Size([20, 128])\n",
            "torch.Size([20, 128])\n",
            "torch.Size([20, 128])\n",
            "torch.Size([20, 128])\n",
            "torch.Size([20, 128])\n",
            "torch.Size([20, 128])\n",
            "torch.Size([20, 128])\n",
            "torch.Size([20, 128])\n",
            "torch.Size([20, 128])\n",
            "torch.Size([20, 128])\n",
            "torch.Size([20, 128])\n",
            "torch.Size([20, 128])\n",
            "torch.Size([20, 128])\n",
            "torch.Size([20, 128])\n",
            "torch.Size([20, 128])\n",
            "torch.Size([20, 128])\n",
            "torch.Size([20, 128])\n",
            "torch.Size([20, 128])\n",
            "torch.Size([20, 128])\n",
            "torch.Size([20, 128])\n",
            "torch.Size([20, 128])\n",
            "torch.Size([20, 128])\n",
            "torch.Size([20, 128])\n",
            "torch.Size([20, 128])\n",
            "torch.Size([20, 128])\n",
            "torch.Size([20, 128])\n",
            "torch.Size([20, 128])\n",
            "torch.Size([20, 128])\n",
            "torch.Size([20, 128])\n",
            "torch.Size([20, 128])\n",
            "torch.Size([20, 128])\n",
            "torch.Size([20, 128])\n",
            "torch.Size([20, 128])\n",
            "torch.Size([20, 128])\n",
            "Transformer Output Shape: torch.Size([20])\n",
            "Transformer Output (Token IDs): tensor([  101, 28225, 28225, 28225, 28225, 29009, 28225, 29009, 29009, 28225,\n",
            "        28225, 28225, 28225, 29009, 28225, 28225, 28225, 28225, 28225, 28225])\n",
            "Decoded Transformer Output: ##om [unused1226] [unused1226] [unused1226] [unused1226] [unused2010] [unused1226] [unused2010] [unused2010] [unused1226] [unused1226] [unused1226] [unused1226] [unused2010] [unused1226] [unused1226] [unused1226] [unused1226] [unused1226] [unused1226]\n"
          ]
        }
      ]
    }
  ],
  "metadata": {
    "language_info": {
      "name": "python"
    },
    "colab": {
      "provenance": []
    },
    "kernelspec": {
      "name": "python3",
      "display_name": "Python 3"
    },
    "widgets": {
      "application/vnd.jupyter.widget-state+json": {
        "f0bc4ec2f1a24d30a2c6a18db8b87a08": {
          "model_module": "@jupyter-widgets/controls",
          "model_name": "HBoxModel",
          "model_module_version": "1.5.0",
          "state": {
            "_dom_classes": [],
            "_model_module": "@jupyter-widgets/controls",
            "_model_module_version": "1.5.0",
            "_model_name": "HBoxModel",
            "_view_count": null,
            "_view_module": "@jupyter-widgets/controls",
            "_view_module_version": "1.5.0",
            "_view_name": "HBoxView",
            "box_style": "",
            "children": [
              "IPY_MODEL_79107496908944538f12ec99cacebf11",
              "IPY_MODEL_bfa3f090617549beaaa8327d95ebab0a",
              "IPY_MODEL_0d14a1806c89420ea57d6af69c51169c"
            ],
            "layout": "IPY_MODEL_371dc54485054eaebb6a714a75edcec2"
          }
        },
        "79107496908944538f12ec99cacebf11": {
          "model_module": "@jupyter-widgets/controls",
          "model_name": "HTMLModel",
          "model_module_version": "1.5.0",
          "state": {
            "_dom_classes": [],
            "_model_module": "@jupyter-widgets/controls",
            "_model_module_version": "1.5.0",
            "_model_name": "HTMLModel",
            "_view_count": null,
            "_view_module": "@jupyter-widgets/controls",
            "_view_module_version": "1.5.0",
            "_view_name": "HTMLView",
            "description": "",
            "description_tooltip": null,
            "layout": "IPY_MODEL_4c5ff095f7b7483a904506f64f8030b0",
            "placeholder": "​",
            "style": "IPY_MODEL_bb61c167838b48f8ab68f4b20befb769",
            "value": "tokenizer_config.json: 100%"
          }
        },
        "bfa3f090617549beaaa8327d95ebab0a": {
          "model_module": "@jupyter-widgets/controls",
          "model_name": "FloatProgressModel",
          "model_module_version": "1.5.0",
          "state": {
            "_dom_classes": [],
            "_model_module": "@jupyter-widgets/controls",
            "_model_module_version": "1.5.0",
            "_model_name": "FloatProgressModel",
            "_view_count": null,
            "_view_module": "@jupyter-widgets/controls",
            "_view_module_version": "1.5.0",
            "_view_name": "ProgressView",
            "bar_style": "success",
            "description": "",
            "description_tooltip": null,
            "layout": "IPY_MODEL_522543347920434fb29f9fd300c8bcbd",
            "max": 49,
            "min": 0,
            "orientation": "horizontal",
            "style": "IPY_MODEL_a482376a205841e89ab126610392dc4c",
            "value": 49
          }
        },
        "0d14a1806c89420ea57d6af69c51169c": {
          "model_module": "@jupyter-widgets/controls",
          "model_name": "HTMLModel",
          "model_module_version": "1.5.0",
          "state": {
            "_dom_classes": [],
            "_model_module": "@jupyter-widgets/controls",
            "_model_module_version": "1.5.0",
            "_model_name": "HTMLModel",
            "_view_count": null,
            "_view_module": "@jupyter-widgets/controls",
            "_view_module_version": "1.5.0",
            "_view_name": "HTMLView",
            "description": "",
            "description_tooltip": null,
            "layout": "IPY_MODEL_4e87dab2325046a18674d086c8db5cfd",
            "placeholder": "​",
            "style": "IPY_MODEL_57c158c48bad4f8fa354b6999ea9b1ec",
            "value": " 49.0/49.0 [00:00&lt;00:00, 930B/s]"
          }
        },
        "371dc54485054eaebb6a714a75edcec2": {
          "model_module": "@jupyter-widgets/base",
          "model_name": "LayoutModel",
          "model_module_version": "1.2.0",
          "state": {
            "_model_module": "@jupyter-widgets/base",
            "_model_module_version": "1.2.0",
            "_model_name": "LayoutModel",
            "_view_count": null,
            "_view_module": "@jupyter-widgets/base",
            "_view_module_version": "1.2.0",
            "_view_name": "LayoutView",
            "align_content": null,
            "align_items": null,
            "align_self": null,
            "border": null,
            "bottom": null,
            "display": null,
            "flex": null,
            "flex_flow": null,
            "grid_area": null,
            "grid_auto_columns": null,
            "grid_auto_flow": null,
            "grid_auto_rows": null,
            "grid_column": null,
            "grid_gap": null,
            "grid_row": null,
            "grid_template_areas": null,
            "grid_template_columns": null,
            "grid_template_rows": null,
            "height": null,
            "justify_content": null,
            "justify_items": null,
            "left": null,
            "margin": null,
            "max_height": null,
            "max_width": null,
            "min_height": null,
            "min_width": null,
            "object_fit": null,
            "object_position": null,
            "order": null,
            "overflow": null,
            "overflow_x": null,
            "overflow_y": null,
            "padding": null,
            "right": null,
            "top": null,
            "visibility": null,
            "width": null
          }
        },
        "4c5ff095f7b7483a904506f64f8030b0": {
          "model_module": "@jupyter-widgets/base",
          "model_name": "LayoutModel",
          "model_module_version": "1.2.0",
          "state": {
            "_model_module": "@jupyter-widgets/base",
            "_model_module_version": "1.2.0",
            "_model_name": "LayoutModel",
            "_view_count": null,
            "_view_module": "@jupyter-widgets/base",
            "_view_module_version": "1.2.0",
            "_view_name": "LayoutView",
            "align_content": null,
            "align_items": null,
            "align_self": null,
            "border": null,
            "bottom": null,
            "display": null,
            "flex": null,
            "flex_flow": null,
            "grid_area": null,
            "grid_auto_columns": null,
            "grid_auto_flow": null,
            "grid_auto_rows": null,
            "grid_column": null,
            "grid_gap": null,
            "grid_row": null,
            "grid_template_areas": null,
            "grid_template_columns": null,
            "grid_template_rows": null,
            "height": null,
            "justify_content": null,
            "justify_items": null,
            "left": null,
            "margin": null,
            "max_height": null,
            "max_width": null,
            "min_height": null,
            "min_width": null,
            "object_fit": null,
            "object_position": null,
            "order": null,
            "overflow": null,
            "overflow_x": null,
            "overflow_y": null,
            "padding": null,
            "right": null,
            "top": null,
            "visibility": null,
            "width": null
          }
        },
        "bb61c167838b48f8ab68f4b20befb769": {
          "model_module": "@jupyter-widgets/controls",
          "model_name": "DescriptionStyleModel",
          "model_module_version": "1.5.0",
          "state": {
            "_model_module": "@jupyter-widgets/controls",
            "_model_module_version": "1.5.0",
            "_model_name": "DescriptionStyleModel",
            "_view_count": null,
            "_view_module": "@jupyter-widgets/base",
            "_view_module_version": "1.2.0",
            "_view_name": "StyleView",
            "description_width": ""
          }
        },
        "522543347920434fb29f9fd300c8bcbd": {
          "model_module": "@jupyter-widgets/base",
          "model_name": "LayoutModel",
          "model_module_version": "1.2.0",
          "state": {
            "_model_module": "@jupyter-widgets/base",
            "_model_module_version": "1.2.0",
            "_model_name": "LayoutModel",
            "_view_count": null,
            "_view_module": "@jupyter-widgets/base",
            "_view_module_version": "1.2.0",
            "_view_name": "LayoutView",
            "align_content": null,
            "align_items": null,
            "align_self": null,
            "border": null,
            "bottom": null,
            "display": null,
            "flex": null,
            "flex_flow": null,
            "grid_area": null,
            "grid_auto_columns": null,
            "grid_auto_flow": null,
            "grid_auto_rows": null,
            "grid_column": null,
            "grid_gap": null,
            "grid_row": null,
            "grid_template_areas": null,
            "grid_template_columns": null,
            "grid_template_rows": null,
            "height": null,
            "justify_content": null,
            "justify_items": null,
            "left": null,
            "margin": null,
            "max_height": null,
            "max_width": null,
            "min_height": null,
            "min_width": null,
            "object_fit": null,
            "object_position": null,
            "order": null,
            "overflow": null,
            "overflow_x": null,
            "overflow_y": null,
            "padding": null,
            "right": null,
            "top": null,
            "visibility": null,
            "width": null
          }
        },
        "a482376a205841e89ab126610392dc4c": {
          "model_module": "@jupyter-widgets/controls",
          "model_name": "ProgressStyleModel",
          "model_module_version": "1.5.0",
          "state": {
            "_model_module": "@jupyter-widgets/controls",
            "_model_module_version": "1.5.0",
            "_model_name": "ProgressStyleModel",
            "_view_count": null,
            "_view_module": "@jupyter-widgets/base",
            "_view_module_version": "1.2.0",
            "_view_name": "StyleView",
            "bar_color": null,
            "description_width": ""
          }
        },
        "4e87dab2325046a18674d086c8db5cfd": {
          "model_module": "@jupyter-widgets/base",
          "model_name": "LayoutModel",
          "model_module_version": "1.2.0",
          "state": {
            "_model_module": "@jupyter-widgets/base",
            "_model_module_version": "1.2.0",
            "_model_name": "LayoutModel",
            "_view_count": null,
            "_view_module": "@jupyter-widgets/base",
            "_view_module_version": "1.2.0",
            "_view_name": "LayoutView",
            "align_content": null,
            "align_items": null,
            "align_self": null,
            "border": null,
            "bottom": null,
            "display": null,
            "flex": null,
            "flex_flow": null,
            "grid_area": null,
            "grid_auto_columns": null,
            "grid_auto_flow": null,
            "grid_auto_rows": null,
            "grid_column": null,
            "grid_gap": null,
            "grid_row": null,
            "grid_template_areas": null,
            "grid_template_columns": null,
            "grid_template_rows": null,
            "height": null,
            "justify_content": null,
            "justify_items": null,
            "left": null,
            "margin": null,
            "max_height": null,
            "max_width": null,
            "min_height": null,
            "min_width": null,
            "object_fit": null,
            "object_position": null,
            "order": null,
            "overflow": null,
            "overflow_x": null,
            "overflow_y": null,
            "padding": null,
            "right": null,
            "top": null,
            "visibility": null,
            "width": null
          }
        },
        "57c158c48bad4f8fa354b6999ea9b1ec": {
          "model_module": "@jupyter-widgets/controls",
          "model_name": "DescriptionStyleModel",
          "model_module_version": "1.5.0",
          "state": {
            "_model_module": "@jupyter-widgets/controls",
            "_model_module_version": "1.5.0",
            "_model_name": "DescriptionStyleModel",
            "_view_count": null,
            "_view_module": "@jupyter-widgets/base",
            "_view_module_version": "1.2.0",
            "_view_name": "StyleView",
            "description_width": ""
          }
        },
        "12480aa556b8402d9e50cccc884a6cf5": {
          "model_module": "@jupyter-widgets/controls",
          "model_name": "HBoxModel",
          "model_module_version": "1.5.0",
          "state": {
            "_dom_classes": [],
            "_model_module": "@jupyter-widgets/controls",
            "_model_module_version": "1.5.0",
            "_model_name": "HBoxModel",
            "_view_count": null,
            "_view_module": "@jupyter-widgets/controls",
            "_view_module_version": "1.5.0",
            "_view_name": "HBoxView",
            "box_style": "",
            "children": [
              "IPY_MODEL_ca09e5ab61cd43c7b1378c6c5bddaa4b",
              "IPY_MODEL_ffd74e93d0774506856c03058e40355b",
              "IPY_MODEL_58f7cdbfa1bc41a2955746b7b32eed95"
            ],
            "layout": "IPY_MODEL_ffb95fdb30db4f78a626a34267a38a39"
          }
        },
        "ca09e5ab61cd43c7b1378c6c5bddaa4b": {
          "model_module": "@jupyter-widgets/controls",
          "model_name": "HTMLModel",
          "model_module_version": "1.5.0",
          "state": {
            "_dom_classes": [],
            "_model_module": "@jupyter-widgets/controls",
            "_model_module_version": "1.5.0",
            "_model_name": "HTMLModel",
            "_view_count": null,
            "_view_module": "@jupyter-widgets/controls",
            "_view_module_version": "1.5.0",
            "_view_name": "HTMLView",
            "description": "",
            "description_tooltip": null,
            "layout": "IPY_MODEL_3a27e10af4a0411bba57a6e5d5104662",
            "placeholder": "​",
            "style": "IPY_MODEL_b5baecfbb8704943b2431aeca43cc322",
            "value": "vocab.txt: 100%"
          }
        },
        "ffd74e93d0774506856c03058e40355b": {
          "model_module": "@jupyter-widgets/controls",
          "model_name": "FloatProgressModel",
          "model_module_version": "1.5.0",
          "state": {
            "_dom_classes": [],
            "_model_module": "@jupyter-widgets/controls",
            "_model_module_version": "1.5.0",
            "_model_name": "FloatProgressModel",
            "_view_count": null,
            "_view_module": "@jupyter-widgets/controls",
            "_view_module_version": "1.5.0",
            "_view_name": "ProgressView",
            "bar_style": "success",
            "description": "",
            "description_tooltip": null,
            "layout": "IPY_MODEL_dee2aaa2601b4403a839897c9a0d1d94",
            "max": 213450,
            "min": 0,
            "orientation": "horizontal",
            "style": "IPY_MODEL_3db9bb2771ad4f6d89681bdf9b8fad43",
            "value": 213450
          }
        },
        "58f7cdbfa1bc41a2955746b7b32eed95": {
          "model_module": "@jupyter-widgets/controls",
          "model_name": "HTMLModel",
          "model_module_version": "1.5.0",
          "state": {
            "_dom_classes": [],
            "_model_module": "@jupyter-widgets/controls",
            "_model_module_version": "1.5.0",
            "_model_name": "HTMLModel",
            "_view_count": null,
            "_view_module": "@jupyter-widgets/controls",
            "_view_module_version": "1.5.0",
            "_view_name": "HTMLView",
            "description": "",
            "description_tooltip": null,
            "layout": "IPY_MODEL_686cce9f32f940e0bedec6e4693d3a8d",
            "placeholder": "​",
            "style": "IPY_MODEL_7229d5e29a6942d5aec697fc0e0b5b74",
            "value": " 213k/213k [00:00&lt;00:00, 2.74MB/s]"
          }
        },
        "ffb95fdb30db4f78a626a34267a38a39": {
          "model_module": "@jupyter-widgets/base",
          "model_name": "LayoutModel",
          "model_module_version": "1.2.0",
          "state": {
            "_model_module": "@jupyter-widgets/base",
            "_model_module_version": "1.2.0",
            "_model_name": "LayoutModel",
            "_view_count": null,
            "_view_module": "@jupyter-widgets/base",
            "_view_module_version": "1.2.0",
            "_view_name": "LayoutView",
            "align_content": null,
            "align_items": null,
            "align_self": null,
            "border": null,
            "bottom": null,
            "display": null,
            "flex": null,
            "flex_flow": null,
            "grid_area": null,
            "grid_auto_columns": null,
            "grid_auto_flow": null,
            "grid_auto_rows": null,
            "grid_column": null,
            "grid_gap": null,
            "grid_row": null,
            "grid_template_areas": null,
            "grid_template_columns": null,
            "grid_template_rows": null,
            "height": null,
            "justify_content": null,
            "justify_items": null,
            "left": null,
            "margin": null,
            "max_height": null,
            "max_width": null,
            "min_height": null,
            "min_width": null,
            "object_fit": null,
            "object_position": null,
            "order": null,
            "overflow": null,
            "overflow_x": null,
            "overflow_y": null,
            "padding": null,
            "right": null,
            "top": null,
            "visibility": null,
            "width": null
          }
        },
        "3a27e10af4a0411bba57a6e5d5104662": {
          "model_module": "@jupyter-widgets/base",
          "model_name": "LayoutModel",
          "model_module_version": "1.2.0",
          "state": {
            "_model_module": "@jupyter-widgets/base",
            "_model_module_version": "1.2.0",
            "_model_name": "LayoutModel",
            "_view_count": null,
            "_view_module": "@jupyter-widgets/base",
            "_view_module_version": "1.2.0",
            "_view_name": "LayoutView",
            "align_content": null,
            "align_items": null,
            "align_self": null,
            "border": null,
            "bottom": null,
            "display": null,
            "flex": null,
            "flex_flow": null,
            "grid_area": null,
            "grid_auto_columns": null,
            "grid_auto_flow": null,
            "grid_auto_rows": null,
            "grid_column": null,
            "grid_gap": null,
            "grid_row": null,
            "grid_template_areas": null,
            "grid_template_columns": null,
            "grid_template_rows": null,
            "height": null,
            "justify_content": null,
            "justify_items": null,
            "left": null,
            "margin": null,
            "max_height": null,
            "max_width": null,
            "min_height": null,
            "min_width": null,
            "object_fit": null,
            "object_position": null,
            "order": null,
            "overflow": null,
            "overflow_x": null,
            "overflow_y": null,
            "padding": null,
            "right": null,
            "top": null,
            "visibility": null,
            "width": null
          }
        },
        "b5baecfbb8704943b2431aeca43cc322": {
          "model_module": "@jupyter-widgets/controls",
          "model_name": "DescriptionStyleModel",
          "model_module_version": "1.5.0",
          "state": {
            "_model_module": "@jupyter-widgets/controls",
            "_model_module_version": "1.5.0",
            "_model_name": "DescriptionStyleModel",
            "_view_count": null,
            "_view_module": "@jupyter-widgets/base",
            "_view_module_version": "1.2.0",
            "_view_name": "StyleView",
            "description_width": ""
          }
        },
        "dee2aaa2601b4403a839897c9a0d1d94": {
          "model_module": "@jupyter-widgets/base",
          "model_name": "LayoutModel",
          "model_module_version": "1.2.0",
          "state": {
            "_model_module": "@jupyter-widgets/base",
            "_model_module_version": "1.2.0",
            "_model_name": "LayoutModel",
            "_view_count": null,
            "_view_module": "@jupyter-widgets/base",
            "_view_module_version": "1.2.0",
            "_view_name": "LayoutView",
            "align_content": null,
            "align_items": null,
            "align_self": null,
            "border": null,
            "bottom": null,
            "display": null,
            "flex": null,
            "flex_flow": null,
            "grid_area": null,
            "grid_auto_columns": null,
            "grid_auto_flow": null,
            "grid_auto_rows": null,
            "grid_column": null,
            "grid_gap": null,
            "grid_row": null,
            "grid_template_areas": null,
            "grid_template_columns": null,
            "grid_template_rows": null,
            "height": null,
            "justify_content": null,
            "justify_items": null,
            "left": null,
            "margin": null,
            "max_height": null,
            "max_width": null,
            "min_height": null,
            "min_width": null,
            "object_fit": null,
            "object_position": null,
            "order": null,
            "overflow": null,
            "overflow_x": null,
            "overflow_y": null,
            "padding": null,
            "right": null,
            "top": null,
            "visibility": null,
            "width": null
          }
        },
        "3db9bb2771ad4f6d89681bdf9b8fad43": {
          "model_module": "@jupyter-widgets/controls",
          "model_name": "ProgressStyleModel",
          "model_module_version": "1.5.0",
          "state": {
            "_model_module": "@jupyter-widgets/controls",
            "_model_module_version": "1.5.0",
            "_model_name": "ProgressStyleModel",
            "_view_count": null,
            "_view_module": "@jupyter-widgets/base",
            "_view_module_version": "1.2.0",
            "_view_name": "StyleView",
            "bar_color": null,
            "description_width": ""
          }
        },
        "686cce9f32f940e0bedec6e4693d3a8d": {
          "model_module": "@jupyter-widgets/base",
          "model_name": "LayoutModel",
          "model_module_version": "1.2.0",
          "state": {
            "_model_module": "@jupyter-widgets/base",
            "_model_module_version": "1.2.0",
            "_model_name": "LayoutModel",
            "_view_count": null,
            "_view_module": "@jupyter-widgets/base",
            "_view_module_version": "1.2.0",
            "_view_name": "LayoutView",
            "align_content": null,
            "align_items": null,
            "align_self": null,
            "border": null,
            "bottom": null,
            "display": null,
            "flex": null,
            "flex_flow": null,
            "grid_area": null,
            "grid_auto_columns": null,
            "grid_auto_flow": null,
            "grid_auto_rows": null,
            "grid_column": null,
            "grid_gap": null,
            "grid_row": null,
            "grid_template_areas": null,
            "grid_template_columns": null,
            "grid_template_rows": null,
            "height": null,
            "justify_content": null,
            "justify_items": null,
            "left": null,
            "margin": null,
            "max_height": null,
            "max_width": null,
            "min_height": null,
            "min_width": null,
            "object_fit": null,
            "object_position": null,
            "order": null,
            "overflow": null,
            "overflow_x": null,
            "overflow_y": null,
            "padding": null,
            "right": null,
            "top": null,
            "visibility": null,
            "width": null
          }
        },
        "7229d5e29a6942d5aec697fc0e0b5b74": {
          "model_module": "@jupyter-widgets/controls",
          "model_name": "DescriptionStyleModel",
          "model_module_version": "1.5.0",
          "state": {
            "_model_module": "@jupyter-widgets/controls",
            "_model_module_version": "1.5.0",
            "_model_name": "DescriptionStyleModel",
            "_view_count": null,
            "_view_module": "@jupyter-widgets/base",
            "_view_module_version": "1.2.0",
            "_view_name": "StyleView",
            "description_width": ""
          }
        },
        "2d15489028c8450d90f9fca85af88d79": {
          "model_module": "@jupyter-widgets/controls",
          "model_name": "HBoxModel",
          "model_module_version": "1.5.0",
          "state": {
            "_dom_classes": [],
            "_model_module": "@jupyter-widgets/controls",
            "_model_module_version": "1.5.0",
            "_model_name": "HBoxModel",
            "_view_count": null,
            "_view_module": "@jupyter-widgets/controls",
            "_view_module_version": "1.5.0",
            "_view_name": "HBoxView",
            "box_style": "",
            "children": [
              "IPY_MODEL_45ae0cd65bed40a482d550d1ba72da5e",
              "IPY_MODEL_b3ab5dc2386349e499e882a2b5563c33",
              "IPY_MODEL_fabed69db8f24f25b2c17eaf61f55b35"
            ],
            "layout": "IPY_MODEL_aa68948e514442a5b7420c6cce7a7ce8"
          }
        },
        "45ae0cd65bed40a482d550d1ba72da5e": {
          "model_module": "@jupyter-widgets/controls",
          "model_name": "HTMLModel",
          "model_module_version": "1.5.0",
          "state": {
            "_dom_classes": [],
            "_model_module": "@jupyter-widgets/controls",
            "_model_module_version": "1.5.0",
            "_model_name": "HTMLModel",
            "_view_count": null,
            "_view_module": "@jupyter-widgets/controls",
            "_view_module_version": "1.5.0",
            "_view_name": "HTMLView",
            "description": "",
            "description_tooltip": null,
            "layout": "IPY_MODEL_08207ee82a894605ae2735564a8b59d1",
            "placeholder": "​",
            "style": "IPY_MODEL_878e7f77d17e4026b8ef895cac46f9a9",
            "value": "tokenizer.json: 100%"
          }
        },
        "b3ab5dc2386349e499e882a2b5563c33": {
          "model_module": "@jupyter-widgets/controls",
          "model_name": "FloatProgressModel",
          "model_module_version": "1.5.0",
          "state": {
            "_dom_classes": [],
            "_model_module": "@jupyter-widgets/controls",
            "_model_module_version": "1.5.0",
            "_model_name": "FloatProgressModel",
            "_view_count": null,
            "_view_module": "@jupyter-widgets/controls",
            "_view_module_version": "1.5.0",
            "_view_name": "ProgressView",
            "bar_style": "success",
            "description": "",
            "description_tooltip": null,
            "layout": "IPY_MODEL_367b8069eaf846dc84b41ed83eb3aabf",
            "max": 435797,
            "min": 0,
            "orientation": "horizontal",
            "style": "IPY_MODEL_d3b6df3e45ac4fb8ba4a50972ddf0a67",
            "value": 435797
          }
        },
        "fabed69db8f24f25b2c17eaf61f55b35": {
          "model_module": "@jupyter-widgets/controls",
          "model_name": "HTMLModel",
          "model_module_version": "1.5.0",
          "state": {
            "_dom_classes": [],
            "_model_module": "@jupyter-widgets/controls",
            "_model_module_version": "1.5.0",
            "_model_name": "HTMLModel",
            "_view_count": null,
            "_view_module": "@jupyter-widgets/controls",
            "_view_module_version": "1.5.0",
            "_view_name": "HTMLView",
            "description": "",
            "description_tooltip": null,
            "layout": "IPY_MODEL_d3c88cd4f921488ba1dda53ed466ea38",
            "placeholder": "​",
            "style": "IPY_MODEL_9ddb13e23cbd497bb6c1c9b0065d6d11",
            "value": " 436k/436k [00:00&lt;00:00, 8.65MB/s]"
          }
        },
        "aa68948e514442a5b7420c6cce7a7ce8": {
          "model_module": "@jupyter-widgets/base",
          "model_name": "LayoutModel",
          "model_module_version": "1.2.0",
          "state": {
            "_model_module": "@jupyter-widgets/base",
            "_model_module_version": "1.2.0",
            "_model_name": "LayoutModel",
            "_view_count": null,
            "_view_module": "@jupyter-widgets/base",
            "_view_module_version": "1.2.0",
            "_view_name": "LayoutView",
            "align_content": null,
            "align_items": null,
            "align_self": null,
            "border": null,
            "bottom": null,
            "display": null,
            "flex": null,
            "flex_flow": null,
            "grid_area": null,
            "grid_auto_columns": null,
            "grid_auto_flow": null,
            "grid_auto_rows": null,
            "grid_column": null,
            "grid_gap": null,
            "grid_row": null,
            "grid_template_areas": null,
            "grid_template_columns": null,
            "grid_template_rows": null,
            "height": null,
            "justify_content": null,
            "justify_items": null,
            "left": null,
            "margin": null,
            "max_height": null,
            "max_width": null,
            "min_height": null,
            "min_width": null,
            "object_fit": null,
            "object_position": null,
            "order": null,
            "overflow": null,
            "overflow_x": null,
            "overflow_y": null,
            "padding": null,
            "right": null,
            "top": null,
            "visibility": null,
            "width": null
          }
        },
        "08207ee82a894605ae2735564a8b59d1": {
          "model_module": "@jupyter-widgets/base",
          "model_name": "LayoutModel",
          "model_module_version": "1.2.0",
          "state": {
            "_model_module": "@jupyter-widgets/base",
            "_model_module_version": "1.2.0",
            "_model_name": "LayoutModel",
            "_view_count": null,
            "_view_module": "@jupyter-widgets/base",
            "_view_module_version": "1.2.0",
            "_view_name": "LayoutView",
            "align_content": null,
            "align_items": null,
            "align_self": null,
            "border": null,
            "bottom": null,
            "display": null,
            "flex": null,
            "flex_flow": null,
            "grid_area": null,
            "grid_auto_columns": null,
            "grid_auto_flow": null,
            "grid_auto_rows": null,
            "grid_column": null,
            "grid_gap": null,
            "grid_row": null,
            "grid_template_areas": null,
            "grid_template_columns": null,
            "grid_template_rows": null,
            "height": null,
            "justify_content": null,
            "justify_items": null,
            "left": null,
            "margin": null,
            "max_height": null,
            "max_width": null,
            "min_height": null,
            "min_width": null,
            "object_fit": null,
            "object_position": null,
            "order": null,
            "overflow": null,
            "overflow_x": null,
            "overflow_y": null,
            "padding": null,
            "right": null,
            "top": null,
            "visibility": null,
            "width": null
          }
        },
        "878e7f77d17e4026b8ef895cac46f9a9": {
          "model_module": "@jupyter-widgets/controls",
          "model_name": "DescriptionStyleModel",
          "model_module_version": "1.5.0",
          "state": {
            "_model_module": "@jupyter-widgets/controls",
            "_model_module_version": "1.5.0",
            "_model_name": "DescriptionStyleModel",
            "_view_count": null,
            "_view_module": "@jupyter-widgets/base",
            "_view_module_version": "1.2.0",
            "_view_name": "StyleView",
            "description_width": ""
          }
        },
        "367b8069eaf846dc84b41ed83eb3aabf": {
          "model_module": "@jupyter-widgets/base",
          "model_name": "LayoutModel",
          "model_module_version": "1.2.0",
          "state": {
            "_model_module": "@jupyter-widgets/base",
            "_model_module_version": "1.2.0",
            "_model_name": "LayoutModel",
            "_view_count": null,
            "_view_module": "@jupyter-widgets/base",
            "_view_module_version": "1.2.0",
            "_view_name": "LayoutView",
            "align_content": null,
            "align_items": null,
            "align_self": null,
            "border": null,
            "bottom": null,
            "display": null,
            "flex": null,
            "flex_flow": null,
            "grid_area": null,
            "grid_auto_columns": null,
            "grid_auto_flow": null,
            "grid_auto_rows": null,
            "grid_column": null,
            "grid_gap": null,
            "grid_row": null,
            "grid_template_areas": null,
            "grid_template_columns": null,
            "grid_template_rows": null,
            "height": null,
            "justify_content": null,
            "justify_items": null,
            "left": null,
            "margin": null,
            "max_height": null,
            "max_width": null,
            "min_height": null,
            "min_width": null,
            "object_fit": null,
            "object_position": null,
            "order": null,
            "overflow": null,
            "overflow_x": null,
            "overflow_y": null,
            "padding": null,
            "right": null,
            "top": null,
            "visibility": null,
            "width": null
          }
        },
        "d3b6df3e45ac4fb8ba4a50972ddf0a67": {
          "model_module": "@jupyter-widgets/controls",
          "model_name": "ProgressStyleModel",
          "model_module_version": "1.5.0",
          "state": {
            "_model_module": "@jupyter-widgets/controls",
            "_model_module_version": "1.5.0",
            "_model_name": "ProgressStyleModel",
            "_view_count": null,
            "_view_module": "@jupyter-widgets/base",
            "_view_module_version": "1.2.0",
            "_view_name": "StyleView",
            "bar_color": null,
            "description_width": ""
          }
        },
        "d3c88cd4f921488ba1dda53ed466ea38": {
          "model_module": "@jupyter-widgets/base",
          "model_name": "LayoutModel",
          "model_module_version": "1.2.0",
          "state": {
            "_model_module": "@jupyter-widgets/base",
            "_model_module_version": "1.2.0",
            "_model_name": "LayoutModel",
            "_view_count": null,
            "_view_module": "@jupyter-widgets/base",
            "_view_module_version": "1.2.0",
            "_view_name": "LayoutView",
            "align_content": null,
            "align_items": null,
            "align_self": null,
            "border": null,
            "bottom": null,
            "display": null,
            "flex": null,
            "flex_flow": null,
            "grid_area": null,
            "grid_auto_columns": null,
            "grid_auto_flow": null,
            "grid_auto_rows": null,
            "grid_column": null,
            "grid_gap": null,
            "grid_row": null,
            "grid_template_areas": null,
            "grid_template_columns": null,
            "grid_template_rows": null,
            "height": null,
            "justify_content": null,
            "justify_items": null,
            "left": null,
            "margin": null,
            "max_height": null,
            "max_width": null,
            "min_height": null,
            "min_width": null,
            "object_fit": null,
            "object_position": null,
            "order": null,
            "overflow": null,
            "overflow_x": null,
            "overflow_y": null,
            "padding": null,
            "right": null,
            "top": null,
            "visibility": null,
            "width": null
          }
        },
        "9ddb13e23cbd497bb6c1c9b0065d6d11": {
          "model_module": "@jupyter-widgets/controls",
          "model_name": "DescriptionStyleModel",
          "model_module_version": "1.5.0",
          "state": {
            "_model_module": "@jupyter-widgets/controls",
            "_model_module_version": "1.5.0",
            "_model_name": "DescriptionStyleModel",
            "_view_count": null,
            "_view_module": "@jupyter-widgets/base",
            "_view_module_version": "1.2.0",
            "_view_name": "StyleView",
            "description_width": ""
          }
        },
        "d0a2d1986cb9490385b5cb949e8b12e5": {
          "model_module": "@jupyter-widgets/controls",
          "model_name": "HBoxModel",
          "model_module_version": "1.5.0",
          "state": {
            "_dom_classes": [],
            "_model_module": "@jupyter-widgets/controls",
            "_model_module_version": "1.5.0",
            "_model_name": "HBoxModel",
            "_view_count": null,
            "_view_module": "@jupyter-widgets/controls",
            "_view_module_version": "1.5.0",
            "_view_name": "HBoxView",
            "box_style": "",
            "children": [
              "IPY_MODEL_bcb79c7552c64b6fb3d50a193468b56e",
              "IPY_MODEL_6cd211d8162f45c3adea2314d51d1fe8",
              "IPY_MODEL_c3205e1070094cb7b3487d13da8db3f0"
            ],
            "layout": "IPY_MODEL_12801d0aa44145a7ac17df1f032628df"
          }
        },
        "bcb79c7552c64b6fb3d50a193468b56e": {
          "model_module": "@jupyter-widgets/controls",
          "model_name": "HTMLModel",
          "model_module_version": "1.5.0",
          "state": {
            "_dom_classes": [],
            "_model_module": "@jupyter-widgets/controls",
            "_model_module_version": "1.5.0",
            "_model_name": "HTMLModel",
            "_view_count": null,
            "_view_module": "@jupyter-widgets/controls",
            "_view_module_version": "1.5.0",
            "_view_name": "HTMLView",
            "description": "",
            "description_tooltip": null,
            "layout": "IPY_MODEL_9ebe8d0f05704c0cbf1506594f6ae51f",
            "placeholder": "​",
            "style": "IPY_MODEL_f78d4d8d87d34c04809b4c92ddf49803",
            "value": "config.json: 100%"
          }
        },
        "6cd211d8162f45c3adea2314d51d1fe8": {
          "model_module": "@jupyter-widgets/controls",
          "model_name": "FloatProgressModel",
          "model_module_version": "1.5.0",
          "state": {
            "_dom_classes": [],
            "_model_module": "@jupyter-widgets/controls",
            "_model_module_version": "1.5.0",
            "_model_name": "FloatProgressModel",
            "_view_count": null,
            "_view_module": "@jupyter-widgets/controls",
            "_view_module_version": "1.5.0",
            "_view_name": "ProgressView",
            "bar_style": "success",
            "description": "",
            "description_tooltip": null,
            "layout": "IPY_MODEL_0e2b2044eca446b6a83f5c49780f172c",
            "max": 762,
            "min": 0,
            "orientation": "horizontal",
            "style": "IPY_MODEL_fddf1cbdbef043839a389efe474cf78a",
            "value": 762
          }
        },
        "c3205e1070094cb7b3487d13da8db3f0": {
          "model_module": "@jupyter-widgets/controls",
          "model_name": "HTMLModel",
          "model_module_version": "1.5.0",
          "state": {
            "_dom_classes": [],
            "_model_module": "@jupyter-widgets/controls",
            "_model_module_version": "1.5.0",
            "_model_name": "HTMLModel",
            "_view_count": null,
            "_view_module": "@jupyter-widgets/controls",
            "_view_module_version": "1.5.0",
            "_view_name": "HTMLView",
            "description": "",
            "description_tooltip": null,
            "layout": "IPY_MODEL_5e6d2a7f44bb422793308cadcb8dbe0f",
            "placeholder": "​",
            "style": "IPY_MODEL_da9eb34b20d94c13985eb7dfcf65028c",
            "value": " 762/762 [00:00&lt;00:00, 10.9kB/s]"
          }
        },
        "12801d0aa44145a7ac17df1f032628df": {
          "model_module": "@jupyter-widgets/base",
          "model_name": "LayoutModel",
          "model_module_version": "1.2.0",
          "state": {
            "_model_module": "@jupyter-widgets/base",
            "_model_module_version": "1.2.0",
            "_model_name": "LayoutModel",
            "_view_count": null,
            "_view_module": "@jupyter-widgets/base",
            "_view_module_version": "1.2.0",
            "_view_name": "LayoutView",
            "align_content": null,
            "align_items": null,
            "align_self": null,
            "border": null,
            "bottom": null,
            "display": null,
            "flex": null,
            "flex_flow": null,
            "grid_area": null,
            "grid_auto_columns": null,
            "grid_auto_flow": null,
            "grid_auto_rows": null,
            "grid_column": null,
            "grid_gap": null,
            "grid_row": null,
            "grid_template_areas": null,
            "grid_template_columns": null,
            "grid_template_rows": null,
            "height": null,
            "justify_content": null,
            "justify_items": null,
            "left": null,
            "margin": null,
            "max_height": null,
            "max_width": null,
            "min_height": null,
            "min_width": null,
            "object_fit": null,
            "object_position": null,
            "order": null,
            "overflow": null,
            "overflow_x": null,
            "overflow_y": null,
            "padding": null,
            "right": null,
            "top": null,
            "visibility": null,
            "width": null
          }
        },
        "9ebe8d0f05704c0cbf1506594f6ae51f": {
          "model_module": "@jupyter-widgets/base",
          "model_name": "LayoutModel",
          "model_module_version": "1.2.0",
          "state": {
            "_model_module": "@jupyter-widgets/base",
            "_model_module_version": "1.2.0",
            "_model_name": "LayoutModel",
            "_view_count": null,
            "_view_module": "@jupyter-widgets/base",
            "_view_module_version": "1.2.0",
            "_view_name": "LayoutView",
            "align_content": null,
            "align_items": null,
            "align_self": null,
            "border": null,
            "bottom": null,
            "display": null,
            "flex": null,
            "flex_flow": null,
            "grid_area": null,
            "grid_auto_columns": null,
            "grid_auto_flow": null,
            "grid_auto_rows": null,
            "grid_column": null,
            "grid_gap": null,
            "grid_row": null,
            "grid_template_areas": null,
            "grid_template_columns": null,
            "grid_template_rows": null,
            "height": null,
            "justify_content": null,
            "justify_items": null,
            "left": null,
            "margin": null,
            "max_height": null,
            "max_width": null,
            "min_height": null,
            "min_width": null,
            "object_fit": null,
            "object_position": null,
            "order": null,
            "overflow": null,
            "overflow_x": null,
            "overflow_y": null,
            "padding": null,
            "right": null,
            "top": null,
            "visibility": null,
            "width": null
          }
        },
        "f78d4d8d87d34c04809b4c92ddf49803": {
          "model_module": "@jupyter-widgets/controls",
          "model_name": "DescriptionStyleModel",
          "model_module_version": "1.5.0",
          "state": {
            "_model_module": "@jupyter-widgets/controls",
            "_model_module_version": "1.5.0",
            "_model_name": "DescriptionStyleModel",
            "_view_count": null,
            "_view_module": "@jupyter-widgets/base",
            "_view_module_version": "1.2.0",
            "_view_name": "StyleView",
            "description_width": ""
          }
        },
        "0e2b2044eca446b6a83f5c49780f172c": {
          "model_module": "@jupyter-widgets/base",
          "model_name": "LayoutModel",
          "model_module_version": "1.2.0",
          "state": {
            "_model_module": "@jupyter-widgets/base",
            "_model_module_version": "1.2.0",
            "_model_name": "LayoutModel",
            "_view_count": null,
            "_view_module": "@jupyter-widgets/base",
            "_view_module_version": "1.2.0",
            "_view_name": "LayoutView",
            "align_content": null,
            "align_items": null,
            "align_self": null,
            "border": null,
            "bottom": null,
            "display": null,
            "flex": null,
            "flex_flow": null,
            "grid_area": null,
            "grid_auto_columns": null,
            "grid_auto_flow": null,
            "grid_auto_rows": null,
            "grid_column": null,
            "grid_gap": null,
            "grid_row": null,
            "grid_template_areas": null,
            "grid_template_columns": null,
            "grid_template_rows": null,
            "height": null,
            "justify_content": null,
            "justify_items": null,
            "left": null,
            "margin": null,
            "max_height": null,
            "max_width": null,
            "min_height": null,
            "min_width": null,
            "object_fit": null,
            "object_position": null,
            "order": null,
            "overflow": null,
            "overflow_x": null,
            "overflow_y": null,
            "padding": null,
            "right": null,
            "top": null,
            "visibility": null,
            "width": null
          }
        },
        "fddf1cbdbef043839a389efe474cf78a": {
          "model_module": "@jupyter-widgets/controls",
          "model_name": "ProgressStyleModel",
          "model_module_version": "1.5.0",
          "state": {
            "_model_module": "@jupyter-widgets/controls",
            "_model_module_version": "1.5.0",
            "_model_name": "ProgressStyleModel",
            "_view_count": null,
            "_view_module": "@jupyter-widgets/base",
            "_view_module_version": "1.2.0",
            "_view_name": "StyleView",
            "bar_color": null,
            "description_width": ""
          }
        },
        "5e6d2a7f44bb422793308cadcb8dbe0f": {
          "model_module": "@jupyter-widgets/base",
          "model_name": "LayoutModel",
          "model_module_version": "1.2.0",
          "state": {
            "_model_module": "@jupyter-widgets/base",
            "_model_module_version": "1.2.0",
            "_model_name": "LayoutModel",
            "_view_count": null,
            "_view_module": "@jupyter-widgets/base",
            "_view_module_version": "1.2.0",
            "_view_name": "LayoutView",
            "align_content": null,
            "align_items": null,
            "align_self": null,
            "border": null,
            "bottom": null,
            "display": null,
            "flex": null,
            "flex_flow": null,
            "grid_area": null,
            "grid_auto_columns": null,
            "grid_auto_flow": null,
            "grid_auto_rows": null,
            "grid_column": null,
            "grid_gap": null,
            "grid_row": null,
            "grid_template_areas": null,
            "grid_template_columns": null,
            "grid_template_rows": null,
            "height": null,
            "justify_content": null,
            "justify_items": null,
            "left": null,
            "margin": null,
            "max_height": null,
            "max_width": null,
            "min_height": null,
            "min_width": null,
            "object_fit": null,
            "object_position": null,
            "order": null,
            "overflow": null,
            "overflow_x": null,
            "overflow_y": null,
            "padding": null,
            "right": null,
            "top": null,
            "visibility": null,
            "width": null
          }
        },
        "da9eb34b20d94c13985eb7dfcf65028c": {
          "model_module": "@jupyter-widgets/controls",
          "model_name": "DescriptionStyleModel",
          "model_module_version": "1.5.0",
          "state": {
            "_model_module": "@jupyter-widgets/controls",
            "_model_module_version": "1.5.0",
            "_model_name": "DescriptionStyleModel",
            "_view_count": null,
            "_view_module": "@jupyter-widgets/base",
            "_view_module_version": "1.2.0",
            "_view_name": "StyleView",
            "description_width": ""
          }
        },
        "24686dd1cea84c3abb6d39517b85b980": {
          "model_module": "@jupyter-widgets/controls",
          "model_name": "HBoxModel",
          "model_module_version": "1.5.0",
          "state": {
            "_dom_classes": [],
            "_model_module": "@jupyter-widgets/controls",
            "_model_module_version": "1.5.0",
            "_model_name": "HBoxModel",
            "_view_count": null,
            "_view_module": "@jupyter-widgets/controls",
            "_view_module_version": "1.5.0",
            "_view_name": "HBoxView",
            "box_style": "",
            "children": [
              "IPY_MODEL_9dc13ce392bc4897bd1b4492f735887a",
              "IPY_MODEL_a9f851947fa64735bb9ad91fdeae64cc",
              "IPY_MODEL_6f1bd5294e7e4d35ae4878b953643c7e"
            ],
            "layout": "IPY_MODEL_477674db482f4bacbc7389d94e2cb00d"
          }
        },
        "9dc13ce392bc4897bd1b4492f735887a": {
          "model_module": "@jupyter-widgets/controls",
          "model_name": "HTMLModel",
          "model_module_version": "1.5.0",
          "state": {
            "_dom_classes": [],
            "_model_module": "@jupyter-widgets/controls",
            "_model_module_version": "1.5.0",
            "_model_name": "HTMLModel",
            "_view_count": null,
            "_view_module": "@jupyter-widgets/controls",
            "_view_module_version": "1.5.0",
            "_view_name": "HTMLView",
            "description": "",
            "description_tooltip": null,
            "layout": "IPY_MODEL_fbb4329b9abe4daaab31e470973f7765",
            "placeholder": "​",
            "style": "IPY_MODEL_1d752816ac1a479cb144713adb3da48b",
            "value": "tokenizer_config.json: 100%"
          }
        },
        "a9f851947fa64735bb9ad91fdeae64cc": {
          "model_module": "@jupyter-widgets/controls",
          "model_name": "FloatProgressModel",
          "model_module_version": "1.5.0",
          "state": {
            "_dom_classes": [],
            "_model_module": "@jupyter-widgets/controls",
            "_model_module_version": "1.5.0",
            "_model_name": "FloatProgressModel",
            "_view_count": null,
            "_view_module": "@jupyter-widgets/controls",
            "_view_module_version": "1.5.0",
            "_view_name": "ProgressView",
            "bar_style": "success",
            "description": "",
            "description_tooltip": null,
            "layout": "IPY_MODEL_fde8f1df279d4ff1ab42004e5f3f9ec8",
            "max": 49,
            "min": 0,
            "orientation": "horizontal",
            "style": "IPY_MODEL_0e0b96d4253048b18378a3a0c0510ba8",
            "value": 49
          }
        },
        "6f1bd5294e7e4d35ae4878b953643c7e": {
          "model_module": "@jupyter-widgets/controls",
          "model_name": "HTMLModel",
          "model_module_version": "1.5.0",
          "state": {
            "_dom_classes": [],
            "_model_module": "@jupyter-widgets/controls",
            "_model_module_version": "1.5.0",
            "_model_name": "HTMLModel",
            "_view_count": null,
            "_view_module": "@jupyter-widgets/controls",
            "_view_module_version": "1.5.0",
            "_view_name": "HTMLView",
            "description": "",
            "description_tooltip": null,
            "layout": "IPY_MODEL_200c4ae34fa642ccad011b8bf2865b13",
            "placeholder": "​",
            "style": "IPY_MODEL_b0f8a25dd58e4e53af6bc980d7d0ac36",
            "value": " 49.0/49.0 [00:00&lt;00:00, 4.54kB/s]"
          }
        },
        "477674db482f4bacbc7389d94e2cb00d": {
          "model_module": "@jupyter-widgets/base",
          "model_name": "LayoutModel",
          "model_module_version": "1.2.0",
          "state": {
            "_model_module": "@jupyter-widgets/base",
            "_model_module_version": "1.2.0",
            "_model_name": "LayoutModel",
            "_view_count": null,
            "_view_module": "@jupyter-widgets/base",
            "_view_module_version": "1.2.0",
            "_view_name": "LayoutView",
            "align_content": null,
            "align_items": null,
            "align_self": null,
            "border": null,
            "bottom": null,
            "display": null,
            "flex": null,
            "flex_flow": null,
            "grid_area": null,
            "grid_auto_columns": null,
            "grid_auto_flow": null,
            "grid_auto_rows": null,
            "grid_column": null,
            "grid_gap": null,
            "grid_row": null,
            "grid_template_areas": null,
            "grid_template_columns": null,
            "grid_template_rows": null,
            "height": null,
            "justify_content": null,
            "justify_items": null,
            "left": null,
            "margin": null,
            "max_height": null,
            "max_width": null,
            "min_height": null,
            "min_width": null,
            "object_fit": null,
            "object_position": null,
            "order": null,
            "overflow": null,
            "overflow_x": null,
            "overflow_y": null,
            "padding": null,
            "right": null,
            "top": null,
            "visibility": null,
            "width": null
          }
        },
        "fbb4329b9abe4daaab31e470973f7765": {
          "model_module": "@jupyter-widgets/base",
          "model_name": "LayoutModel",
          "model_module_version": "1.2.0",
          "state": {
            "_model_module": "@jupyter-widgets/base",
            "_model_module_version": "1.2.0",
            "_model_name": "LayoutModel",
            "_view_count": null,
            "_view_module": "@jupyter-widgets/base",
            "_view_module_version": "1.2.0",
            "_view_name": "LayoutView",
            "align_content": null,
            "align_items": null,
            "align_self": null,
            "border": null,
            "bottom": null,
            "display": null,
            "flex": null,
            "flex_flow": null,
            "grid_area": null,
            "grid_auto_columns": null,
            "grid_auto_flow": null,
            "grid_auto_rows": null,
            "grid_column": null,
            "grid_gap": null,
            "grid_row": null,
            "grid_template_areas": null,
            "grid_template_columns": null,
            "grid_template_rows": null,
            "height": null,
            "justify_content": null,
            "justify_items": null,
            "left": null,
            "margin": null,
            "max_height": null,
            "max_width": null,
            "min_height": null,
            "min_width": null,
            "object_fit": null,
            "object_position": null,
            "order": null,
            "overflow": null,
            "overflow_x": null,
            "overflow_y": null,
            "padding": null,
            "right": null,
            "top": null,
            "visibility": null,
            "width": null
          }
        },
        "1d752816ac1a479cb144713adb3da48b": {
          "model_module": "@jupyter-widgets/controls",
          "model_name": "DescriptionStyleModel",
          "model_module_version": "1.5.0",
          "state": {
            "_model_module": "@jupyter-widgets/controls",
            "_model_module_version": "1.5.0",
            "_model_name": "DescriptionStyleModel",
            "_view_count": null,
            "_view_module": "@jupyter-widgets/base",
            "_view_module_version": "1.2.0",
            "_view_name": "StyleView",
            "description_width": ""
          }
        },
        "fde8f1df279d4ff1ab42004e5f3f9ec8": {
          "model_module": "@jupyter-widgets/base",
          "model_name": "LayoutModel",
          "model_module_version": "1.2.0",
          "state": {
            "_model_module": "@jupyter-widgets/base",
            "_model_module_version": "1.2.0",
            "_model_name": "LayoutModel",
            "_view_count": null,
            "_view_module": "@jupyter-widgets/base",
            "_view_module_version": "1.2.0",
            "_view_name": "LayoutView",
            "align_content": null,
            "align_items": null,
            "align_self": null,
            "border": null,
            "bottom": null,
            "display": null,
            "flex": null,
            "flex_flow": null,
            "grid_area": null,
            "grid_auto_columns": null,
            "grid_auto_flow": null,
            "grid_auto_rows": null,
            "grid_column": null,
            "grid_gap": null,
            "grid_row": null,
            "grid_template_areas": null,
            "grid_template_columns": null,
            "grid_template_rows": null,
            "height": null,
            "justify_content": null,
            "justify_items": null,
            "left": null,
            "margin": null,
            "max_height": null,
            "max_width": null,
            "min_height": null,
            "min_width": null,
            "object_fit": null,
            "object_position": null,
            "order": null,
            "overflow": null,
            "overflow_x": null,
            "overflow_y": null,
            "padding": null,
            "right": null,
            "top": null,
            "visibility": null,
            "width": null
          }
        },
        "0e0b96d4253048b18378a3a0c0510ba8": {
          "model_module": "@jupyter-widgets/controls",
          "model_name": "ProgressStyleModel",
          "model_module_version": "1.5.0",
          "state": {
            "_model_module": "@jupyter-widgets/controls",
            "_model_module_version": "1.5.0",
            "_model_name": "ProgressStyleModel",
            "_view_count": null,
            "_view_module": "@jupyter-widgets/base",
            "_view_module_version": "1.2.0",
            "_view_name": "StyleView",
            "bar_color": null,
            "description_width": ""
          }
        },
        "200c4ae34fa642ccad011b8bf2865b13": {
          "model_module": "@jupyter-widgets/base",
          "model_name": "LayoutModel",
          "model_module_version": "1.2.0",
          "state": {
            "_model_module": "@jupyter-widgets/base",
            "_model_module_version": "1.2.0",
            "_model_name": "LayoutModel",
            "_view_count": null,
            "_view_module": "@jupyter-widgets/base",
            "_view_module_version": "1.2.0",
            "_view_name": "LayoutView",
            "align_content": null,
            "align_items": null,
            "align_self": null,
            "border": null,
            "bottom": null,
            "display": null,
            "flex": null,
            "flex_flow": null,
            "grid_area": null,
            "grid_auto_columns": null,
            "grid_auto_flow": null,
            "grid_auto_rows": null,
            "grid_column": null,
            "grid_gap": null,
            "grid_row": null,
            "grid_template_areas": null,
            "grid_template_columns": null,
            "grid_template_rows": null,
            "height": null,
            "justify_content": null,
            "justify_items": null,
            "left": null,
            "margin": null,
            "max_height": null,
            "max_width": null,
            "min_height": null,
            "min_width": null,
            "object_fit": null,
            "object_position": null,
            "order": null,
            "overflow": null,
            "overflow_x": null,
            "overflow_y": null,
            "padding": null,
            "right": null,
            "top": null,
            "visibility": null,
            "width": null
          }
        },
        "b0f8a25dd58e4e53af6bc980d7d0ac36": {
          "model_module": "@jupyter-widgets/controls",
          "model_name": "DescriptionStyleModel",
          "model_module_version": "1.5.0",
          "state": {
            "_model_module": "@jupyter-widgets/controls",
            "_model_module_version": "1.5.0",
            "_model_name": "DescriptionStyleModel",
            "_view_count": null,
            "_view_module": "@jupyter-widgets/base",
            "_view_module_version": "1.2.0",
            "_view_name": "StyleView",
            "description_width": ""
          }
        },
        "360ca2762f834bd49a191b3e6bd119be": {
          "model_module": "@jupyter-widgets/controls",
          "model_name": "HBoxModel",
          "model_module_version": "1.5.0",
          "state": {
            "_dom_classes": [],
            "_model_module": "@jupyter-widgets/controls",
            "_model_module_version": "1.5.0",
            "_model_name": "HBoxModel",
            "_view_count": null,
            "_view_module": "@jupyter-widgets/controls",
            "_view_module_version": "1.5.0",
            "_view_name": "HBoxView",
            "box_style": "",
            "children": [
              "IPY_MODEL_1c563f1b0ad7470bb499f6fc6112b1e1",
              "IPY_MODEL_febe705afb004c47b718a98e0e1cffc5",
              "IPY_MODEL_400e4b36cbdb4cecb1d93ff40fcc1e83"
            ],
            "layout": "IPY_MODEL_ab82e7335e954dde97b26f0682ab4500"
          }
        },
        "1c563f1b0ad7470bb499f6fc6112b1e1": {
          "model_module": "@jupyter-widgets/controls",
          "model_name": "HTMLModel",
          "model_module_version": "1.5.0",
          "state": {
            "_dom_classes": [],
            "_model_module": "@jupyter-widgets/controls",
            "_model_module_version": "1.5.0",
            "_model_name": "HTMLModel",
            "_view_count": null,
            "_view_module": "@jupyter-widgets/controls",
            "_view_module_version": "1.5.0",
            "_view_name": "HTMLView",
            "description": "",
            "description_tooltip": null,
            "layout": "IPY_MODEL_c9914240ab3d420b97b706f3b244785d",
            "placeholder": "​",
            "style": "IPY_MODEL_c108a84e498142f18199e276fb350fe0",
            "value": "vocab.txt: 100%"
          }
        },
        "febe705afb004c47b718a98e0e1cffc5": {
          "model_module": "@jupyter-widgets/controls",
          "model_name": "FloatProgressModel",
          "model_module_version": "1.5.0",
          "state": {
            "_dom_classes": [],
            "_model_module": "@jupyter-widgets/controls",
            "_model_module_version": "1.5.0",
            "_model_name": "FloatProgressModel",
            "_view_count": null,
            "_view_module": "@jupyter-widgets/controls",
            "_view_module_version": "1.5.0",
            "_view_name": "ProgressView",
            "bar_style": "success",
            "description": "",
            "description_tooltip": null,
            "layout": "IPY_MODEL_ac82926c34614fd1a63c52bd17b70045",
            "max": 254728,
            "min": 0,
            "orientation": "horizontal",
            "style": "IPY_MODEL_e9fb2a2836664a328a2f8606929ac34b",
            "value": 254728
          }
        },
        "400e4b36cbdb4cecb1d93ff40fcc1e83": {
          "model_module": "@jupyter-widgets/controls",
          "model_name": "HTMLModel",
          "model_module_version": "1.5.0",
          "state": {
            "_dom_classes": [],
            "_model_module": "@jupyter-widgets/controls",
            "_model_module_version": "1.5.0",
            "_model_name": "HTMLModel",
            "_view_count": null,
            "_view_module": "@jupyter-widgets/controls",
            "_view_module_version": "1.5.0",
            "_view_name": "HTMLView",
            "description": "",
            "description_tooltip": null,
            "layout": "IPY_MODEL_3423e39772e84530b9561679a6a0ea9b",
            "placeholder": "​",
            "style": "IPY_MODEL_7e504e1d8fb74d299959ea59f188614f",
            "value": " 255k/255k [00:00&lt;00:00, 10.8MB/s]"
          }
        },
        "ab82e7335e954dde97b26f0682ab4500": {
          "model_module": "@jupyter-widgets/base",
          "model_name": "LayoutModel",
          "model_module_version": "1.2.0",
          "state": {
            "_model_module": "@jupyter-widgets/base",
            "_model_module_version": "1.2.0",
            "_model_name": "LayoutModel",
            "_view_count": null,
            "_view_module": "@jupyter-widgets/base",
            "_view_module_version": "1.2.0",
            "_view_name": "LayoutView",
            "align_content": null,
            "align_items": null,
            "align_self": null,
            "border": null,
            "bottom": null,
            "display": null,
            "flex": null,
            "flex_flow": null,
            "grid_area": null,
            "grid_auto_columns": null,
            "grid_auto_flow": null,
            "grid_auto_rows": null,
            "grid_column": null,
            "grid_gap": null,
            "grid_row": null,
            "grid_template_areas": null,
            "grid_template_columns": null,
            "grid_template_rows": null,
            "height": null,
            "justify_content": null,
            "justify_items": null,
            "left": null,
            "margin": null,
            "max_height": null,
            "max_width": null,
            "min_height": null,
            "min_width": null,
            "object_fit": null,
            "object_position": null,
            "order": null,
            "overflow": null,
            "overflow_x": null,
            "overflow_y": null,
            "padding": null,
            "right": null,
            "top": null,
            "visibility": null,
            "width": null
          }
        },
        "c9914240ab3d420b97b706f3b244785d": {
          "model_module": "@jupyter-widgets/base",
          "model_name": "LayoutModel",
          "model_module_version": "1.2.0",
          "state": {
            "_model_module": "@jupyter-widgets/base",
            "_model_module_version": "1.2.0",
            "_model_name": "LayoutModel",
            "_view_count": null,
            "_view_module": "@jupyter-widgets/base",
            "_view_module_version": "1.2.0",
            "_view_name": "LayoutView",
            "align_content": null,
            "align_items": null,
            "align_self": null,
            "border": null,
            "bottom": null,
            "display": null,
            "flex": null,
            "flex_flow": null,
            "grid_area": null,
            "grid_auto_columns": null,
            "grid_auto_flow": null,
            "grid_auto_rows": null,
            "grid_column": null,
            "grid_gap": null,
            "grid_row": null,
            "grid_template_areas": null,
            "grid_template_columns": null,
            "grid_template_rows": null,
            "height": null,
            "justify_content": null,
            "justify_items": null,
            "left": null,
            "margin": null,
            "max_height": null,
            "max_width": null,
            "min_height": null,
            "min_width": null,
            "object_fit": null,
            "object_position": null,
            "order": null,
            "overflow": null,
            "overflow_x": null,
            "overflow_y": null,
            "padding": null,
            "right": null,
            "top": null,
            "visibility": null,
            "width": null
          }
        },
        "c108a84e498142f18199e276fb350fe0": {
          "model_module": "@jupyter-widgets/controls",
          "model_name": "DescriptionStyleModel",
          "model_module_version": "1.5.0",
          "state": {
            "_model_module": "@jupyter-widgets/controls",
            "_model_module_version": "1.5.0",
            "_model_name": "DescriptionStyleModel",
            "_view_count": null,
            "_view_module": "@jupyter-widgets/base",
            "_view_module_version": "1.2.0",
            "_view_name": "StyleView",
            "description_width": ""
          }
        },
        "ac82926c34614fd1a63c52bd17b70045": {
          "model_module": "@jupyter-widgets/base",
          "model_name": "LayoutModel",
          "model_module_version": "1.2.0",
          "state": {
            "_model_module": "@jupyter-widgets/base",
            "_model_module_version": "1.2.0",
            "_model_name": "LayoutModel",
            "_view_count": null,
            "_view_module": "@jupyter-widgets/base",
            "_view_module_version": "1.2.0",
            "_view_name": "LayoutView",
            "align_content": null,
            "align_items": null,
            "align_self": null,
            "border": null,
            "bottom": null,
            "display": null,
            "flex": null,
            "flex_flow": null,
            "grid_area": null,
            "grid_auto_columns": null,
            "grid_auto_flow": null,
            "grid_auto_rows": null,
            "grid_column": null,
            "grid_gap": null,
            "grid_row": null,
            "grid_template_areas": null,
            "grid_template_columns": null,
            "grid_template_rows": null,
            "height": null,
            "justify_content": null,
            "justify_items": null,
            "left": null,
            "margin": null,
            "max_height": null,
            "max_width": null,
            "min_height": null,
            "min_width": null,
            "object_fit": null,
            "object_position": null,
            "order": null,
            "overflow": null,
            "overflow_x": null,
            "overflow_y": null,
            "padding": null,
            "right": null,
            "top": null,
            "visibility": null,
            "width": null
          }
        },
        "e9fb2a2836664a328a2f8606929ac34b": {
          "model_module": "@jupyter-widgets/controls",
          "model_name": "ProgressStyleModel",
          "model_module_version": "1.5.0",
          "state": {
            "_model_module": "@jupyter-widgets/controls",
            "_model_module_version": "1.5.0",
            "_model_name": "ProgressStyleModel",
            "_view_count": null,
            "_view_module": "@jupyter-widgets/base",
            "_view_module_version": "1.2.0",
            "_view_name": "StyleView",
            "bar_color": null,
            "description_width": ""
          }
        },
        "3423e39772e84530b9561679a6a0ea9b": {
          "model_module": "@jupyter-widgets/base",
          "model_name": "LayoutModel",
          "model_module_version": "1.2.0",
          "state": {
            "_model_module": "@jupyter-widgets/base",
            "_model_module_version": "1.2.0",
            "_model_name": "LayoutModel",
            "_view_count": null,
            "_view_module": "@jupyter-widgets/base",
            "_view_module_version": "1.2.0",
            "_view_name": "LayoutView",
            "align_content": null,
            "align_items": null,
            "align_self": null,
            "border": null,
            "bottom": null,
            "display": null,
            "flex": null,
            "flex_flow": null,
            "grid_area": null,
            "grid_auto_columns": null,
            "grid_auto_flow": null,
            "grid_auto_rows": null,
            "grid_column": null,
            "grid_gap": null,
            "grid_row": null,
            "grid_template_areas": null,
            "grid_template_columns": null,
            "grid_template_rows": null,
            "height": null,
            "justify_content": null,
            "justify_items": null,
            "left": null,
            "margin": null,
            "max_height": null,
            "max_width": null,
            "min_height": null,
            "min_width": null,
            "object_fit": null,
            "object_position": null,
            "order": null,
            "overflow": null,
            "overflow_x": null,
            "overflow_y": null,
            "padding": null,
            "right": null,
            "top": null,
            "visibility": null,
            "width": null
          }
        },
        "7e504e1d8fb74d299959ea59f188614f": {
          "model_module": "@jupyter-widgets/controls",
          "model_name": "DescriptionStyleModel",
          "model_module_version": "1.5.0",
          "state": {
            "_model_module": "@jupyter-widgets/controls",
            "_model_module_version": "1.5.0",
            "_model_name": "DescriptionStyleModel",
            "_view_count": null,
            "_view_module": "@jupyter-widgets/base",
            "_view_module_version": "1.2.0",
            "_view_name": "StyleView",
            "description_width": ""
          }
        },
        "e3f206aac9274a21b62e41fab656e348": {
          "model_module": "@jupyter-widgets/controls",
          "model_name": "HBoxModel",
          "model_module_version": "1.5.0",
          "state": {
            "_dom_classes": [],
            "_model_module": "@jupyter-widgets/controls",
            "_model_module_version": "1.5.0",
            "_model_name": "HBoxModel",
            "_view_count": null,
            "_view_module": "@jupyter-widgets/controls",
            "_view_module_version": "1.5.0",
            "_view_name": "HBoxView",
            "box_style": "",
            "children": [
              "IPY_MODEL_6542905c61a0402a9efc71a5bb23706a",
              "IPY_MODEL_c78ccb3196894f4c804f8fcd4ca7d001",
              "IPY_MODEL_53e705a235f847c789d6c71bc1c147ef"
            ],
            "layout": "IPY_MODEL_a474e719597348c1ae19b01829269c85"
          }
        },
        "6542905c61a0402a9efc71a5bb23706a": {
          "model_module": "@jupyter-widgets/controls",
          "model_name": "HTMLModel",
          "model_module_version": "1.5.0",
          "state": {
            "_dom_classes": [],
            "_model_module": "@jupyter-widgets/controls",
            "_model_module_version": "1.5.0",
            "_model_name": "HTMLModel",
            "_view_count": null,
            "_view_module": "@jupyter-widgets/controls",
            "_view_module_version": "1.5.0",
            "_view_name": "HTMLView",
            "description": "",
            "description_tooltip": null,
            "layout": "IPY_MODEL_e9b36ca3ac7f4eedbe922d3dfe141b05",
            "placeholder": "​",
            "style": "IPY_MODEL_9efdb33122ad449780531d7c74e1ad00",
            "value": "tokenizer.json: 100%"
          }
        },
        "c78ccb3196894f4c804f8fcd4ca7d001": {
          "model_module": "@jupyter-widgets/controls",
          "model_name": "FloatProgressModel",
          "model_module_version": "1.5.0",
          "state": {
            "_dom_classes": [],
            "_model_module": "@jupyter-widgets/controls",
            "_model_module_version": "1.5.0",
            "_model_name": "FloatProgressModel",
            "_view_count": null,
            "_view_module": "@jupyter-widgets/controls",
            "_view_module_version": "1.5.0",
            "_view_name": "ProgressView",
            "bar_style": "success",
            "description": "",
            "description_tooltip": null,
            "layout": "IPY_MODEL_b655ef4dcdaa467ebbcf019d49cc30dd",
            "max": 485115,
            "min": 0,
            "orientation": "horizontal",
            "style": "IPY_MODEL_6950cc288ee44fbbb396ea6e86302811",
            "value": 485115
          }
        },
        "53e705a235f847c789d6c71bc1c147ef": {
          "model_module": "@jupyter-widgets/controls",
          "model_name": "HTMLModel",
          "model_module_version": "1.5.0",
          "state": {
            "_dom_classes": [],
            "_model_module": "@jupyter-widgets/controls",
            "_model_module_version": "1.5.0",
            "_model_name": "HTMLModel",
            "_view_count": null,
            "_view_module": "@jupyter-widgets/controls",
            "_view_module_version": "1.5.0",
            "_view_name": "HTMLView",
            "description": "",
            "description_tooltip": null,
            "layout": "IPY_MODEL_d7ad41bc2c8f487da6a9eb149b9ec0bb",
            "placeholder": "​",
            "style": "IPY_MODEL_24363f2ed2fc4d0fbbbbddc35358b5fd",
            "value": " 485k/485k [00:00&lt;00:00, 11.7MB/s]"
          }
        },
        "a474e719597348c1ae19b01829269c85": {
          "model_module": "@jupyter-widgets/base",
          "model_name": "LayoutModel",
          "model_module_version": "1.2.0",
          "state": {
            "_model_module": "@jupyter-widgets/base",
            "_model_module_version": "1.2.0",
            "_model_name": "LayoutModel",
            "_view_count": null,
            "_view_module": "@jupyter-widgets/base",
            "_view_module_version": "1.2.0",
            "_view_name": "LayoutView",
            "align_content": null,
            "align_items": null,
            "align_self": null,
            "border": null,
            "bottom": null,
            "display": null,
            "flex": null,
            "flex_flow": null,
            "grid_area": null,
            "grid_auto_columns": null,
            "grid_auto_flow": null,
            "grid_auto_rows": null,
            "grid_column": null,
            "grid_gap": null,
            "grid_row": null,
            "grid_template_areas": null,
            "grid_template_columns": null,
            "grid_template_rows": null,
            "height": null,
            "justify_content": null,
            "justify_items": null,
            "left": null,
            "margin": null,
            "max_height": null,
            "max_width": null,
            "min_height": null,
            "min_width": null,
            "object_fit": null,
            "object_position": null,
            "order": null,
            "overflow": null,
            "overflow_x": null,
            "overflow_y": null,
            "padding": null,
            "right": null,
            "top": null,
            "visibility": null,
            "width": null
          }
        },
        "e9b36ca3ac7f4eedbe922d3dfe141b05": {
          "model_module": "@jupyter-widgets/base",
          "model_name": "LayoutModel",
          "model_module_version": "1.2.0",
          "state": {
            "_model_module": "@jupyter-widgets/base",
            "_model_module_version": "1.2.0",
            "_model_name": "LayoutModel",
            "_view_count": null,
            "_view_module": "@jupyter-widgets/base",
            "_view_module_version": "1.2.0",
            "_view_name": "LayoutView",
            "align_content": null,
            "align_items": null,
            "align_self": null,
            "border": null,
            "bottom": null,
            "display": null,
            "flex": null,
            "flex_flow": null,
            "grid_area": null,
            "grid_auto_columns": null,
            "grid_auto_flow": null,
            "grid_auto_rows": null,
            "grid_column": null,
            "grid_gap": null,
            "grid_row": null,
            "grid_template_areas": null,
            "grid_template_columns": null,
            "grid_template_rows": null,
            "height": null,
            "justify_content": null,
            "justify_items": null,
            "left": null,
            "margin": null,
            "max_height": null,
            "max_width": null,
            "min_height": null,
            "min_width": null,
            "object_fit": null,
            "object_position": null,
            "order": null,
            "overflow": null,
            "overflow_x": null,
            "overflow_y": null,
            "padding": null,
            "right": null,
            "top": null,
            "visibility": null,
            "width": null
          }
        },
        "9efdb33122ad449780531d7c74e1ad00": {
          "model_module": "@jupyter-widgets/controls",
          "model_name": "DescriptionStyleModel",
          "model_module_version": "1.5.0",
          "state": {
            "_model_module": "@jupyter-widgets/controls",
            "_model_module_version": "1.5.0",
            "_model_name": "DescriptionStyleModel",
            "_view_count": null,
            "_view_module": "@jupyter-widgets/base",
            "_view_module_version": "1.2.0",
            "_view_name": "StyleView",
            "description_width": ""
          }
        },
        "b655ef4dcdaa467ebbcf019d49cc30dd": {
          "model_module": "@jupyter-widgets/base",
          "model_name": "LayoutModel",
          "model_module_version": "1.2.0",
          "state": {
            "_model_module": "@jupyter-widgets/base",
            "_model_module_version": "1.2.0",
            "_model_name": "LayoutModel",
            "_view_count": null,
            "_view_module": "@jupyter-widgets/base",
            "_view_module_version": "1.2.0",
            "_view_name": "LayoutView",
            "align_content": null,
            "align_items": null,
            "align_self": null,
            "border": null,
            "bottom": null,
            "display": null,
            "flex": null,
            "flex_flow": null,
            "grid_area": null,
            "grid_auto_columns": null,
            "grid_auto_flow": null,
            "grid_auto_rows": null,
            "grid_column": null,
            "grid_gap": null,
            "grid_row": null,
            "grid_template_areas": null,
            "grid_template_columns": null,
            "grid_template_rows": null,
            "height": null,
            "justify_content": null,
            "justify_items": null,
            "left": null,
            "margin": null,
            "max_height": null,
            "max_width": null,
            "min_height": null,
            "min_width": null,
            "object_fit": null,
            "object_position": null,
            "order": null,
            "overflow": null,
            "overflow_x": null,
            "overflow_y": null,
            "padding": null,
            "right": null,
            "top": null,
            "visibility": null,
            "width": null
          }
        },
        "6950cc288ee44fbbb396ea6e86302811": {
          "model_module": "@jupyter-widgets/controls",
          "model_name": "ProgressStyleModel",
          "model_module_version": "1.5.0",
          "state": {
            "_model_module": "@jupyter-widgets/controls",
            "_model_module_version": "1.5.0",
            "_model_name": "ProgressStyleModel",
            "_view_count": null,
            "_view_module": "@jupyter-widgets/base",
            "_view_module_version": "1.2.0",
            "_view_name": "StyleView",
            "bar_color": null,
            "description_width": ""
          }
        },
        "d7ad41bc2c8f487da6a9eb149b9ec0bb": {
          "model_module": "@jupyter-widgets/base",
          "model_name": "LayoutModel",
          "model_module_version": "1.2.0",
          "state": {
            "_model_module": "@jupyter-widgets/base",
            "_model_module_version": "1.2.0",
            "_model_name": "LayoutModel",
            "_view_count": null,
            "_view_module": "@jupyter-widgets/base",
            "_view_module_version": "1.2.0",
            "_view_name": "LayoutView",
            "align_content": null,
            "align_items": null,
            "align_self": null,
            "border": null,
            "bottom": null,
            "display": null,
            "flex": null,
            "flex_flow": null,
            "grid_area": null,
            "grid_auto_columns": null,
            "grid_auto_flow": null,
            "grid_auto_rows": null,
            "grid_column": null,
            "grid_gap": null,
            "grid_row": null,
            "grid_template_areas": null,
            "grid_template_columns": null,
            "grid_template_rows": null,
            "height": null,
            "justify_content": null,
            "justify_items": null,
            "left": null,
            "margin": null,
            "max_height": null,
            "max_width": null,
            "min_height": null,
            "min_width": null,
            "object_fit": null,
            "object_position": null,
            "order": null,
            "overflow": null,
            "overflow_x": null,
            "overflow_y": null,
            "padding": null,
            "right": null,
            "top": null,
            "visibility": null,
            "width": null
          }
        },
        "24363f2ed2fc4d0fbbbbddc35358b5fd": {
          "model_module": "@jupyter-widgets/controls",
          "model_name": "DescriptionStyleModel",
          "model_module_version": "1.5.0",
          "state": {
            "_model_module": "@jupyter-widgets/controls",
            "_model_module_version": "1.5.0",
            "_model_name": "DescriptionStyleModel",
            "_view_count": null,
            "_view_module": "@jupyter-widgets/base",
            "_view_module_version": "1.2.0",
            "_view_name": "StyleView",
            "description_width": ""
          }
        },
        "bcfc8cad437142f0b71b12bfc4b6abf4": {
          "model_module": "@jupyter-widgets/controls",
          "model_name": "HBoxModel",
          "model_module_version": "1.5.0",
          "state": {
            "_dom_classes": [],
            "_model_module": "@jupyter-widgets/controls",
            "_model_module_version": "1.5.0",
            "_model_name": "HBoxModel",
            "_view_count": null,
            "_view_module": "@jupyter-widgets/controls",
            "_view_module_version": "1.5.0",
            "_view_name": "HBoxView",
            "box_style": "",
            "children": [
              "IPY_MODEL_076825cd051e4c1a8f3535f4a4360d8a",
              "IPY_MODEL_5955f0bab0324e99ab73d5b6b833a986",
              "IPY_MODEL_939b5074bd3f4e99ac66160e8b8abeb0"
            ],
            "layout": "IPY_MODEL_959ae99fbb2b4831be360b02945d3173"
          }
        },
        "076825cd051e4c1a8f3535f4a4360d8a": {
          "model_module": "@jupyter-widgets/controls",
          "model_name": "HTMLModel",
          "model_module_version": "1.5.0",
          "state": {
            "_dom_classes": [],
            "_model_module": "@jupyter-widgets/controls",
            "_model_module_version": "1.5.0",
            "_model_name": "HTMLModel",
            "_view_count": null,
            "_view_module": "@jupyter-widgets/controls",
            "_view_module_version": "1.5.0",
            "_view_name": "HTMLView",
            "description": "",
            "description_tooltip": null,
            "layout": "IPY_MODEL_4d3b6f4d012943628e305f04c71f03a4",
            "placeholder": "​",
            "style": "IPY_MODEL_c601ba35a5874e259e7838f9f3832a65",
            "value": "config.json: 100%"
          }
        },
        "5955f0bab0324e99ab73d5b6b833a986": {
          "model_module": "@jupyter-widgets/controls",
          "model_name": "FloatProgressModel",
          "model_module_version": "1.5.0",
          "state": {
            "_dom_classes": [],
            "_model_module": "@jupyter-widgets/controls",
            "_model_module_version": "1.5.0",
            "_model_name": "FloatProgressModel",
            "_view_count": null,
            "_view_module": "@jupyter-widgets/controls",
            "_view_module_version": "1.5.0",
            "_view_name": "ProgressView",
            "bar_style": "success",
            "description": "",
            "description_tooltip": null,
            "layout": "IPY_MODEL_dec21624bdfa4e17b3888fe0a8cb16aa",
            "max": 433,
            "min": 0,
            "orientation": "horizontal",
            "style": "IPY_MODEL_3c83a94046d548c180787e59473841ec",
            "value": 433
          }
        },
        "939b5074bd3f4e99ac66160e8b8abeb0": {
          "model_module": "@jupyter-widgets/controls",
          "model_name": "HTMLModel",
          "model_module_version": "1.5.0",
          "state": {
            "_dom_classes": [],
            "_model_module": "@jupyter-widgets/controls",
            "_model_module_version": "1.5.0",
            "_model_name": "HTMLModel",
            "_view_count": null,
            "_view_module": "@jupyter-widgets/controls",
            "_view_module_version": "1.5.0",
            "_view_name": "HTMLView",
            "description": "",
            "description_tooltip": null,
            "layout": "IPY_MODEL_bbd52bcce53b420b9098e52295da19c4",
            "placeholder": "​",
            "style": "IPY_MODEL_0a18034c4bd14f8db56d717058f3c7be",
            "value": " 433/433 [00:00&lt;00:00, 36.0kB/s]"
          }
        },
        "959ae99fbb2b4831be360b02945d3173": {
          "model_module": "@jupyter-widgets/base",
          "model_name": "LayoutModel",
          "model_module_version": "1.2.0",
          "state": {
            "_model_module": "@jupyter-widgets/base",
            "_model_module_version": "1.2.0",
            "_model_name": "LayoutModel",
            "_view_count": null,
            "_view_module": "@jupyter-widgets/base",
            "_view_module_version": "1.2.0",
            "_view_name": "LayoutView",
            "align_content": null,
            "align_items": null,
            "align_self": null,
            "border": null,
            "bottom": null,
            "display": null,
            "flex": null,
            "flex_flow": null,
            "grid_area": null,
            "grid_auto_columns": null,
            "grid_auto_flow": null,
            "grid_auto_rows": null,
            "grid_column": null,
            "grid_gap": null,
            "grid_row": null,
            "grid_template_areas": null,
            "grid_template_columns": null,
            "grid_template_rows": null,
            "height": null,
            "justify_content": null,
            "justify_items": null,
            "left": null,
            "margin": null,
            "max_height": null,
            "max_width": null,
            "min_height": null,
            "min_width": null,
            "object_fit": null,
            "object_position": null,
            "order": null,
            "overflow": null,
            "overflow_x": null,
            "overflow_y": null,
            "padding": null,
            "right": null,
            "top": null,
            "visibility": null,
            "width": null
          }
        },
        "4d3b6f4d012943628e305f04c71f03a4": {
          "model_module": "@jupyter-widgets/base",
          "model_name": "LayoutModel",
          "model_module_version": "1.2.0",
          "state": {
            "_model_module": "@jupyter-widgets/base",
            "_model_module_version": "1.2.0",
            "_model_name": "LayoutModel",
            "_view_count": null,
            "_view_module": "@jupyter-widgets/base",
            "_view_module_version": "1.2.0",
            "_view_name": "LayoutView",
            "align_content": null,
            "align_items": null,
            "align_self": null,
            "border": null,
            "bottom": null,
            "display": null,
            "flex": null,
            "flex_flow": null,
            "grid_area": null,
            "grid_auto_columns": null,
            "grid_auto_flow": null,
            "grid_auto_rows": null,
            "grid_column": null,
            "grid_gap": null,
            "grid_row": null,
            "grid_template_areas": null,
            "grid_template_columns": null,
            "grid_template_rows": null,
            "height": null,
            "justify_content": null,
            "justify_items": null,
            "left": null,
            "margin": null,
            "max_height": null,
            "max_width": null,
            "min_height": null,
            "min_width": null,
            "object_fit": null,
            "object_position": null,
            "order": null,
            "overflow": null,
            "overflow_x": null,
            "overflow_y": null,
            "padding": null,
            "right": null,
            "top": null,
            "visibility": null,
            "width": null
          }
        },
        "c601ba35a5874e259e7838f9f3832a65": {
          "model_module": "@jupyter-widgets/controls",
          "model_name": "DescriptionStyleModel",
          "model_module_version": "1.5.0",
          "state": {
            "_model_module": "@jupyter-widgets/controls",
            "_model_module_version": "1.5.0",
            "_model_name": "DescriptionStyleModel",
            "_view_count": null,
            "_view_module": "@jupyter-widgets/base",
            "_view_module_version": "1.2.0",
            "_view_name": "StyleView",
            "description_width": ""
          }
        },
        "dec21624bdfa4e17b3888fe0a8cb16aa": {
          "model_module": "@jupyter-widgets/base",
          "model_name": "LayoutModel",
          "model_module_version": "1.2.0",
          "state": {
            "_model_module": "@jupyter-widgets/base",
            "_model_module_version": "1.2.0",
            "_model_name": "LayoutModel",
            "_view_count": null,
            "_view_module": "@jupyter-widgets/base",
            "_view_module_version": "1.2.0",
            "_view_name": "LayoutView",
            "align_content": null,
            "align_items": null,
            "align_self": null,
            "border": null,
            "bottom": null,
            "display": null,
            "flex": null,
            "flex_flow": null,
            "grid_area": null,
            "grid_auto_columns": null,
            "grid_auto_flow": null,
            "grid_auto_rows": null,
            "grid_column": null,
            "grid_gap": null,
            "grid_row": null,
            "grid_template_areas": null,
            "grid_template_columns": null,
            "grid_template_rows": null,
            "height": null,
            "justify_content": null,
            "justify_items": null,
            "left": null,
            "margin": null,
            "max_height": null,
            "max_width": null,
            "min_height": null,
            "min_width": null,
            "object_fit": null,
            "object_position": null,
            "order": null,
            "overflow": null,
            "overflow_x": null,
            "overflow_y": null,
            "padding": null,
            "right": null,
            "top": null,
            "visibility": null,
            "width": null
          }
        },
        "3c83a94046d548c180787e59473841ec": {
          "model_module": "@jupyter-widgets/controls",
          "model_name": "ProgressStyleModel",
          "model_module_version": "1.5.0",
          "state": {
            "_model_module": "@jupyter-widgets/controls",
            "_model_module_version": "1.5.0",
            "_model_name": "ProgressStyleModel",
            "_view_count": null,
            "_view_module": "@jupyter-widgets/base",
            "_view_module_version": "1.2.0",
            "_view_name": "StyleView",
            "bar_color": null,
            "description_width": ""
          }
        },
        "bbd52bcce53b420b9098e52295da19c4": {
          "model_module": "@jupyter-widgets/base",
          "model_name": "LayoutModel",
          "model_module_version": "1.2.0",
          "state": {
            "_model_module": "@jupyter-widgets/base",
            "_model_module_version": "1.2.0",
            "_model_name": "LayoutModel",
            "_view_count": null,
            "_view_module": "@jupyter-widgets/base",
            "_view_module_version": "1.2.0",
            "_view_name": "LayoutView",
            "align_content": null,
            "align_items": null,
            "align_self": null,
            "border": null,
            "bottom": null,
            "display": null,
            "flex": null,
            "flex_flow": null,
            "grid_area": null,
            "grid_auto_columns": null,
            "grid_auto_flow": null,
            "grid_auto_rows": null,
            "grid_column": null,
            "grid_gap": null,
            "grid_row": null,
            "grid_template_areas": null,
            "grid_template_columns": null,
            "grid_template_rows": null,
            "height": null,
            "justify_content": null,
            "justify_items": null,
            "left": null,
            "margin": null,
            "max_height": null,
            "max_width": null,
            "min_height": null,
            "min_width": null,
            "object_fit": null,
            "object_position": null,
            "order": null,
            "overflow": null,
            "overflow_x": null,
            "overflow_y": null,
            "padding": null,
            "right": null,
            "top": null,
            "visibility": null,
            "width": null
          }
        },
        "0a18034c4bd14f8db56d717058f3c7be": {
          "model_module": "@jupyter-widgets/controls",
          "model_name": "DescriptionStyleModel",
          "model_module_version": "1.5.0",
          "state": {
            "_model_module": "@jupyter-widgets/controls",
            "_model_module_version": "1.5.0",
            "_model_name": "DescriptionStyleModel",
            "_view_count": null,
            "_view_module": "@jupyter-widgets/base",
            "_view_module_version": "1.2.0",
            "_view_name": "StyleView",
            "description_width": ""
          }
        }
      }
    }
  },
  "nbformat": 4,
  "nbformat_minor": 0
}