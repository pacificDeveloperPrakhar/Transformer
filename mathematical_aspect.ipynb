{
 "cells": [
  {
   "cell_type": "markdown",
   "metadata": {},
   "source": [
    "## creating a sine wave "
   ]
  },
  {
   "cell_type": "code",
   "execution_count": null,
   "metadata": {
    "vscode": {
     "languageId": "plaintext"
    }
   },
   "outputs": [],
   "source": [
    "import numpy as np \n",
    "import matplotlib.pyplot as plt \n",
    "\n",
    "# Create an array of 100 x values evenly spaced from 0 to 2π (approx 6.28)\n",
    "x = np.linspace(0, 2 * np.pi, 100) \n",
    "\n",
    "# Compute the sine and cosine of each x value \n",
    "sin_values = np.sin(x) \n",
    "\n",
    "# Create the plot \n",
    "plt.figure(figsize=(5, 2)) \n",
    "plt.plot(x, sin_values, label='sin(x)', color='blue') \n",
    "\n",
    "# Customize the plot \n",
    "plt.title('Sine Function') \n",
    "plt.xlabel('x') \n",
    "plt.ylabel('Function value') \n",
    "plt.axhline(0, color='black', linewidth=0.5) # horizontal line at y=0 \n",
    "plt.axvline(0, color='black', linewidth=0.5) # vertical line at x=0 \n",
    "#plt.grid(True, linestyle='--', alpha=0.5) \n",
    "plt.legend() \n",
    "plt.tight_layout() \n",
    "\n",
    "# Show the plot \n",
    "plt.show()"
   ]
  }
 ],
 "metadata": {
  "language_info": {
   "name": "python"
  }
 },
 "nbformat": 4,
 "nbformat_minor": 2
}
